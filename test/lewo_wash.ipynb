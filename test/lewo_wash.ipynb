{
 "cells": [
  {
   "cell_type": "code",
   "execution_count": 59,
   "metadata": {},
   "outputs": [],
   "source": [
    "import duckdb\n",
    "import leafmap\n",
    "import pandas as pd\n",
    "con = duckdb.connect()\n",
    "con.install_extension(\"httpfs\")\n",
    "con.load_extension(\"httpfs\")\n",
    "con.install_extension(\"spatial\")\n",
    "con.load_extension(\"spatial\")"
   ]
  },
  {
   "cell_type": "code",
   "execution_count": 60,
   "metadata": {},
   "outputs": [
    {
     "data": {
      "text/plain": [
       "<duckdb.duckdb.DuckDBPyConnection at 0x1ad5fadb270>"
      ]
     },
     "execution_count": 60,
     "metadata": {},
     "output_type": "execute_result"
    }
   ],
   "source": [
    "sql = (\"\"\"\n",
    "    CREATE TABLE lewo AS\n",
    "    SELECT *,\n",
    "        ST_Point(LONGITUDE, LATITUDE) as geometry\n",
    "    FROM \"./test/lewo_clip.csv\" \n",
    "\"\"\")\n",
    "con.execute(sql)\n"
   ]
  },
  {
   "cell_type": "code",
   "execution_count": 61,
   "metadata": {},
   "outputs": [
    {
     "data": {
      "text/plain": [
       "┌──────────┬──────────────────┬──────────────────────┬───┬───────────────┬──────────┬──────────────────────┐\n",
       "│ OBJECTID │      STATE       │        COUNTY        │ … │ LOCALITY_TYPE │ geometry │      geometry:1      │\n",
       "│  int64   │     varchar      │       varchar        │   │    varchar    │ varchar  │       geometry       │\n",
       "├──────────┼──────────────────┼──────────────────────┼───┼───────────────┼──────────┼──────────────────────┤\n",
       "│        1 │ Oregon           │ Jackson              │ … │ P             │ NULL     │ POINT (-122.807327…  │\n",
       "│        2 │ Washington       │ Klickitat            │ … │ P             │ NULL     │ POINT (-120.503788…  │\n",
       "│        3 │ California       │ Yolo                 │ … │ P             │ NULL     │ POINT (-122.043857…  │\n",
       "│        4 │ California       │ Tehama               │ … │ H             │ NULL     │ POINT (-122.367568…  │\n",
       "│        5 │ Colorado         │ Costilla             │ … │ P             │ NULL     │ POINT (-105.536073…  │\n",
       "│        6 │ California       │ Siskiyou             │ … │ H             │ NULL     │ POINT (-122.836933…  │\n",
       "│        7 │ California       │ Siskiyou             │ … │ H             │ NULL     │ POINT (-122.836933…  │\n",
       "│        8 │ Oregon           │ Linn                 │ … │ P             │ NULL     │ POINT (-123.170066…  │\n",
       "│        9 │ British Columbia │ Central Okanagan     │ … │ P             │ NULL     │ POINT (-119.492717…  │\n",
       "│       10 │ Oregon           │ Jackson              │ … │ P             │ NULL     │ POINT (-122.908980…  │\n",
       "│        · │   ·              │    ·                 │ · │ ·             │  ·       │          ·           │\n",
       "│        · │   ·              │    ·                 │ · │ ·             │  ·       │          ·           │\n",
       "│        · │   ·              │    ·                 │ · │ ·             │  ·       │          ·           │\n",
       "│     9991 │ Montana          │ Ravalli              │ … │ H             │ NULL     │ POINT (-114.254379…  │\n",
       "│     9992 │ Idaho            │ Jefferson            │ … │ H             │ NULL     │ POINT (-112.255773…  │\n",
       "│     9993 │ California       │ Tuolumne             │ … │ H             │ NULL     │ POINT (-120.489893…  │\n",
       "│     9994 │ British Columbia │ Okanagan-Similkameen │ … │ H             │ NULL     │ POINT (-119.906111…  │\n",
       "│     9995 │ New Mexico       │ Rio Arriba           │ … │ P             │ NULL     │ POINT (-106.0417 3…  │\n",
       "│     9996 │ California       │ Mariposa             │ … │ P             │ NULL     │ POINT (-119.827709…  │\n",
       "│     9997 │ California       │ Tuolumne             │ … │ H             │ NULL     │ POINT (-120.539674…  │\n",
       "│     9998 │ Oregon           │ Deschutes            │ … │ P             │ NULL     │ POINT (-121.520525…  │\n",
       "│     9999 │ Arizona          │ Coconino             │ … │ H             │ NULL     │ POINT (-111.665 35…  │\n",
       "│    10000 │ Colorado         │ Delta                │ … │ H             │ NULL     │ POINT (-108.082122…  │\n",
       "├──────────┴──────────────────┴──────────────────────┴───┴───────────────┴──────────┴──────────────────────┤\n",
       "│ ? rows (>9999 rows, 20 shown)                                                       12 columns (6 shown) │\n",
       "└──────────────────────────────────────────────────────────────────────────────────────────────────────────┘"
      ]
     },
     "execution_count": 61,
     "metadata": {},
     "output_type": "execute_result"
    }
   ],
   "source": [
    "con.table(\"lewo\")"
   ]
  },
  {
   "cell_type": "code",
   "execution_count": 62,
   "metadata": {},
   "outputs": [
    {
     "data": {
      "text/plain": [
       "┌──────────────────┬───────┐\n",
       "│      STATE       │ Count │\n",
       "│     varchar      │ int64 │\n",
       "├──────────────────┼───────┤\n",
       "│ California       │ 42674 │\n",
       "│ Colorado         │ 18383 │\n",
       "│ Oregon           │ 17694 │\n",
       "│ Washington       │ 12389 │\n",
       "│ Arizona          │ 11299 │\n",
       "│ British Columbia │  8675 │\n",
       "│ Montana          │  7682 │\n",
       "│ New Mexico       │  7092 │\n",
       "│ Idaho            │  6058 │\n",
       "│ Utah             │  3018 │\n",
       "├──────────────────┴───────┤\n",
       "│ 10 rows        2 columns │\n",
       "└──────────────────────────┘"
      ]
     },
     "execution_count": 62,
     "metadata": {},
     "output_type": "execute_result"
    }
   ],
   "source": [
    "con.sql('''\n",
    "    SELECT STATE, COUNT(OBJECTID) as Count\n",
    "    FROM lewo\n",
    "    GROUP BY STATE\n",
    "    ORDER BY Count DESC\n",
    "    LIMIT 10\n",
    "''')"
   ]
  },
  {
   "cell_type": "markdown",
   "metadata": {},
   "source": []
  },
  {
   "cell_type": "code",
   "execution_count": 63,
   "metadata": {},
   "outputs": [],
   "source": [
    "# Select only the Washington state points from the table and call the new table wash\n",
    "con.sql('''\n",
    "    CREATE TABLE wash AS\n",
    "    SELECT *\n",
    "    FROM lewo\n",
    "    WHERE STATE = 'Washington'\n",
    "''')"
   ]
  },
  {
   "cell_type": "code",
   "execution_count": 64,
   "metadata": {},
   "outputs": [],
   "source": [
    "# Export the wash table to a csv file\n",
    "# Fetch the data from the wash table into a DataFrame\n",
    "wash_df = con.execute(\"SELECT * FROM wash\").fetchdf()\n",
    "\n",
    "# Export the DataFrame to a CSV file in the test folder\n",
    "wash_df.to_csv('test/wash.csv', index=False)"
   ]
  },
  {
   "cell_type": "code",
   "execution_count": 65,
   "metadata": {},
   "outputs": [
    {
     "name": "stdout",
     "output_type": "stream",
     "text": [
      "       OBJECTID       STATE     COUNTY   LATITUDE   LONGITUDE COUNT   DATE  \\\n",
      "0             2  Washington  Klickitat  45.893689 -120.503788     2  35609   \n",
      "1            12  Washington     Benton  46.502646 -119.712353     1  35196   \n",
      "2            23  Washington     Yakima  46.850000 -120.800000     X  32277   \n",
      "3            69  Washington  Klickitat  45.744910 -120.436986     2  35511   \n",
      "4           108  Washington      Ferry  47.942785 -118.690700     2  34148   \n",
      "...         ...         ...        ...        ...         ...   ...    ...   \n",
      "12384    140020  Washington   Okanogan  48.845603 -119.662783     1  45094   \n",
      "12385    140046  Washington   Skamania  45.818325 -121.758092     2  45059   \n",
      "12386    140053  Washington     Yakima  46.904527 -120.724860     3  45056   \n",
      "12387    140060  Washington   Kittitas  46.918207 -120.732669     1  45073   \n",
      "12388    140073  Washington     Yakima  46.343056 -120.839444     3  45066   \n",
      "\n",
      "                                              LOCALITY LOCALITY_ID  \\\n",
      "0                                    Bickleton Highway   L10072701   \n",
      "1                             Rattlesnake Canyon (ALE)    L1075988   \n",
      "2                                           Wenas Area     L109549   \n",
      "3                           Rock Creek (Klickitat Co.)    L1330898   \n",
      "4       Keller Ferry Atlas Square (T28N, R33E, NW 1/4)   L16681462   \n",
      "...                                                ...         ...   \n",
      "12384                                 Toats Coulee Rd,   L25274267   \n",
      "12385  Grassy Knoll, Bingen US-WA 45.81833, -121.75809   L24431246   \n",
      "12386                                 North Wenas Road    L3743791   \n",
      "12387                   Umtanum Ridge--Observatory Rd.    L1626174   \n",
      "12388                                      Fort Simcoe     L340515   \n",
      "\n",
      "      LOCALITY_TYPE geometry  \\\n",
      "0                 P     None   \n",
      "1                 P     None   \n",
      "2                 H     None   \n",
      "3                 H     None   \n",
      "4                 P     None   \n",
      "...             ...      ...   \n",
      "12384             P     None   \n",
      "12385             P     None   \n",
      "12386             H     None   \n",
      "12387             H     None   \n",
      "12388             H     None   \n",
      "\n",
      "                                              geometry:1  \n",
      "0      [0, 0, 24, 0, 0, 0, 0, 0, 0, 0, 0, 0, 1, 0, 0,...  \n",
      "1      [0, 0, 24, 0, 0, 0, 0, 0, 0, 0, 0, 0, 1, 0, 0,...  \n",
      "2      [0, 0, 24, 0, 0, 0, 0, 0, 0, 0, 0, 0, 1, 0, 0,...  \n",
      "3      [0, 0, 24, 0, 0, 0, 0, 0, 0, 0, 0, 0, 1, 0, 0,...  \n",
      "4      [0, 0, 24, 0, 0, 0, 0, 0, 0, 0, 0, 0, 1, 0, 0,...  \n",
      "...                                                  ...  \n",
      "12384  [0, 0, 24, 0, 0, 0, 0, 0, 0, 0, 0, 0, 1, 0, 0,...  \n",
      "12385  [0, 0, 24, 0, 0, 0, 0, 0, 0, 0, 0, 0, 1, 0, 0,...  \n",
      "12386  [0, 0, 24, 0, 0, 0, 0, 0, 0, 0, 0, 0, 1, 0, 0,...  \n",
      "12387  [0, 0, 24, 0, 0, 0, 0, 0, 0, 0, 0, 0, 1, 0, 0,...  \n",
      "12388  [0, 0, 24, 0, 0, 0, 0, 0, 0, 0, 0, 0, 1, 0, 0,...  \n",
      "\n",
      "[12389 rows x 12 columns]\n"
     ]
    }
   ],
   "source": [
    "print(wash_df)"
   ]
  }
 ],
 "metadata": {
  "kernelspec": {
   "display_name": "spatial",
   "language": "python",
   "name": "python3"
  },
  "language_info": {
   "codemirror_mode": {
    "name": "ipython",
    "version": 3
   },
   "file_extension": ".py",
   "mimetype": "text/x-python",
   "name": "python",
   "nbconvert_exporter": "python",
   "pygments_lexer": "ipython3",
   "version": "3.11.8"
  }
 },
 "nbformat": 4,
 "nbformat_minor": 2
}
