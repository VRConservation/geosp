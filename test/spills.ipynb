{
 "cells": [
  {
   "cell_type": "code",
   "execution_count": 1,
   "metadata": {},
   "outputs": [],
   "source": [
    "import duckdb\n",
    "import leafmap\n",
    "import pandas as pd"
   ]
  },
  {
   "cell_type": "code",
   "execution_count": 2,
   "metadata": {},
   "outputs": [],
   "source": [
    "con = duckdb.connect()\n",
    "con.install_extension(\"httpfs\")\n",
    "con.load_extension(\"httpfs\")\n",
    "con.install_extension(\"spatial\")\n",
    "con.load_extension(\"spatial\")"
   ]
  },
  {
   "cell_type": "code",
   "execution_count": 3,
   "metadata": {},
   "outputs": [],
   "source": [
    "url = 'C:/Users/vance/Downloads/ukspills.xlsx'"
   ]
  },
  {
   "cell_type": "code",
   "execution_count": 4,
   "metadata": {},
   "outputs": [
    {
     "data": {
      "text/plain": [
       "┌──────────┬──────────────────────┬──────────────────────┬───┬──────────────────────┬────────────────────┐\n",
       "│ OBJECTID │       COMPANY        │         SITE         │ … │     CONSTITUENCY     │ riverBasinDistrict │\n",
       "│  int32   │       varchar        │       varchar        │   │       varchar        │      varchar       │\n",
       "├──────────┼──────────────────────┼──────────────────────┼───┼──────────────────────┼────────────────────┤\n",
       "│        1 │ Dwr Cymru Welsh Wa…  │ Trevethin CSO        │ … │ Torfaen              │ Western Wales      │\n",
       "│        2 │ Dwr Cymru Welsh Wa…  │ Cwmbran Somerset R…  │ … │ Torfaen              │ Western Wales      │\n",
       "│        3 │ Dwr Cymru Welsh Wa…  │ PONTNEWYNYDD CSO     │ … │ Torfaen              │ Western Wales      │\n",
       "│        4 │ Dwr Cymru Welsh Wa…  │ Bridge St CSO        │ … │ Brecon and Radnors…  │ Western Wales      │\n",
       "│        5 │ Dwr Cymru Welsh Wa…  │ Woodlands (Horrock…  │ … │ Newport West         │ Western Wales      │\n",
       "│        6 │ Dwr Cymru Welsh Wa…  │ CSO at Pontypool-C…  │ … │ Torfaen              │ Western Wales      │\n",
       "│        7 │ Dwr Cymru Welsh Wa…  │ Springfield Est CS…  │ … │ Islwyn               │ Western Wales      │\n",
       "│        8 │ Dwr Cymru Welsh Wa…  │ CRICKHOWELL CSO      │ … │ Brecon and Radnors…  │ Western Wales      │\n",
       "│        9 │ Dwr Cymru Welsh Wa…  │ CSO AT NEWPORT PIL…  │ … │ Newport West         │ Western Wales      │\n",
       "│       10 │ Dwr Cymru Welsh Wa…  │ CSO ADJ SHAFTESBUR…  │ … │ Newport West         │ Western Wales      │\n",
       "│        · │       ·              │          ·           │ · │      ·               │     ·              │\n",
       "│        · │       ·              │          ·           │ · │      ·               │     ·              │\n",
       "│        · │       ·              │          ·           │ · │      ·               │     ·              │\n",
       "│     9991 │ Southern Water       │ SLOWHILL COPSE WWTW  │ … │ New Forest East      │ South East         │\n",
       "│     9992 │ Southern Water       │ SMALL DOLE WWTW      │ … │ Arundel and South …  │ South East         │\n",
       "│     9993 │ Southern Water       │ SEWAGE DRAIN, SMAR…  │ … │ Ashford              │ Thames             │\n",
       "│     9994 │ Southern Water       │ SMARDEN WASTEWATER…  │ … │ Ashford              │ Thames             │\n",
       "│     9995 │ Southern Water       │ SMITHS LANE(GOUDHU…  │ … │ Tunbridge Wells      │ Thames             │\n",
       "│     9996 │ Southern Water       │ SOMERSET ROAD ASHF…  │ … │ Ashford              │ South East         │\n",
       "│     9997 │ Southern Water       │ CSO SOMPTING/PENFO…  │ … │ East Worthing and …  │ South East         │\n",
       "│     9998 │ Southern Water       │ SOMPTING ROAD CSO …  │ … │ East Worthing and …  │ South East         │\n",
       "│     9999 │ Southern Water       │ SOUTH AMBERSHAM WWTW │ … │ Arundel and South …  │ South East         │\n",
       "│    10000 │ Southern Water       │ SOUTH HARTING WWTW   │ … │ Chichester           │ South East         │\n",
       "├──────────┴──────────────────────┴──────────────────────┴───┴──────────────────────┴────────────────────┤\n",
       "│ ? rows (>9999 rows, 20 shown)                                                     14 columns (5 shown) │\n",
       "└────────────────────────────────────────────────────────────────────────────────────────────────────────┘"
      ]
     },
     "execution_count": 4,
     "metadata": {},
     "output_type": "execute_result"
    }
   ],
   "source": [
    "con.sql(\"\"\"\n",
    "        CREATE TABLE IF NOT EXISTS spills as\n",
    "        SELECT * FROM ST_Read('C:/Users/vance/Downloads/ukspills_clean.xlsx')\n",
    "\"\"\")\n",
    "con.table(\"spills\")"
   ]
  },
  {
   "cell_type": "code",
   "execution_count": 5,
   "metadata": {},
   "outputs": [
    {
     "data": {
      "text/plain": [
       "┌────────────────────┬─────────────┬─────────┬─────────┬─────────┬───────┐\n",
       "│    column_name     │ column_type │  null   │   key   │ default │ extra │\n",
       "│      varchar       │   varchar   │ varchar │ varchar │ varchar │ int32 │\n",
       "├────────────────────┼─────────────┼─────────┼─────────┼─────────┼───────┤\n",
       "│ OBJECTID           │ INTEGER     │ YES     │ NULL    │ NULL    │  NULL │\n",
       "│ COMPANY            │ VARCHAR     │ YES     │ NULL    │ NULL    │  NULL │\n",
       "│ SITE               │ VARCHAR     │ YES     │ NULL    │ NULL    │  NULL │\n",
       "│ WATERBODY          │ VARCHAR     │ YES     │ NULL    │ NULL    │  NULL │\n",
       "│ DURATION           │ DOUBLE      │ YES     │ NULL    │ NULL    │  NULL │\n",
       "│ SPILL_NUMBER       │ INTEGER     │ YES     │ NULL    │ NULL    │  NULL │\n",
       "│ Eastings           │ INTEGER     │ YES     │ NULL    │ NULL    │  NULL │\n",
       "│ Northings          │ INTEGER     │ YES     │ NULL    │ NULL    │  NULL │\n",
       "│ Latitude           │ DOUBLE      │ YES     │ NULL    │ NULL    │  NULL │\n",
       "│ Longitude          │ DOUBLE      │ YES     │ NULL    │ NULL    │  NULL │\n",
       "│ COUNTRY            │ VARCHAR     │ YES     │ NULL    │ NULL    │  NULL │\n",
       "│ AUTHORITY          │ VARCHAR     │ YES     │ NULL    │ NULL    │  NULL │\n",
       "│ CONSTITUENCY       │ VARCHAR     │ YES     │ NULL    │ NULL    │  NULL │\n",
       "│ riverBasinDistrict │ VARCHAR     │ YES     │ NULL    │ NULL    │  NULL │\n",
       "├────────────────────┴─────────────┴─────────┴─────────┴─────────┴───────┤\n",
       "│ 14 rows                                                      6 columns │\n",
       "└────────────────────────────────────────────────────────────────────────┘"
      ]
     },
     "execution_count": 5,
     "metadata": {},
     "output_type": "execute_result"
    }
   ],
   "source": [
    "con.sql('''\n",
    "    DESCRIBE spills\n",
    "''')"
   ]
  },
  {
   "cell_type": "code",
   "execution_count": 11,
   "metadata": {},
   "outputs": [
    {
     "data": {
      "text/plain": [
       "┌───────────────────────┬────────┬─────────────┐\n",
       "│        COMPANY        │ NUMBER │ SPILL_HOURS │\n",
       "│        varchar        │ int128 │   double    │\n",
       "├───────────────────────┼────────┼─────────────┤\n",
       "│ Dwr Cymru Welsh Water │  86277 │    602987.5 │\n",
       "│ United Utilities      │  69245 │    425490.6 │\n",
       "│ Yorkshire Water       │  54273 │    232053.6 │\n",
       "│ Severn Trent Water    │  44765 │    249115.6 │\n",
       "│ South West Water      │  37649 │    290271.3 │\n",
       "│ Northumbrian Water    │  29697 │    107536.1 │\n",
       "│ Wessex Water          │  21878 │    129957.4 │\n",
       "│ Southern Water        │  16688 │    146819.6 │\n",
       "│ Anglian Water         │  16082 │     89513.8 │\n",
       "│ Thames Water          │   8014 │     74693.3 │\n",
       "├───────────────────────┴────────┴─────────────┤\n",
       "│ 10 rows                            3 columns │\n",
       "└──────────────────────────────────────────────┘"
      ]
     },
     "execution_count": 11,
     "metadata": {},
     "output_type": "execute_result"
    }
   ],
   "source": [
    "con.sql('''\n",
    "    SELECT COMPANY, SUM(SPILL_NUMBER) AS NUMBER, ROUND(SUM(DURATION),1) AS SPILL_HOURS\n",
    "    FROM spills\n",
    "    GROUP BY COMPANY\n",
    "    ORDER BY NUMBER DESC\n",
    "''')"
   ]
  }
 ],
 "metadata": {
  "kernelspec": {
   "display_name": "spatial",
   "language": "python",
   "name": "python3"
  },
  "language_info": {
   "codemirror_mode": {
    "name": "ipython",
    "version": 3
   },
   "file_extension": ".py",
   "mimetype": "text/x-python",
   "name": "python",
   "nbconvert_exporter": "python",
   "pygments_lexer": "ipython3",
   "version": "3.11.8"
  }
 },
 "nbformat": 4,
 "nbformat_minor": 2
}
