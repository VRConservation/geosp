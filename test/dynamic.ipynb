{
 "cells": [
  {
   "cell_type": "markdown",
   "id": "7ea3b515",
   "metadata": {},
   "source": [
    "## Dynamic World, Party Time, Excellent\n",
    "\n",
    "![Party on](https://cdn.apollo.audio/one/media/620a/4546/edd3/6b2c/268c/2a6b/waynes-world-header.jpg?quality=80&format=jpg&crop=41,0,603,1000&resize=crop)"
   ]
  },
  {
   "cell_type": "code",
   "execution_count": null,
   "id": "edc0a10d",
   "metadata": {},
   "outputs": [],
   "source": [
    "import ee\n",
    "import geemap\n",
    "m = geem.m()\n",
    "m.add_basem(\"TERRAIN\")\n",
    "m"
   ]
  },
  {
   "cell_type": "code",
   "execution_count": null,
   "id": "e848dc71",
   "metadata": {},
   "outputs": [],
   "source": [
    "region = m.user_roi\n",
    "if region is None:\n",
    "    region = ee.Geometry.BBox(-64.6523439, -25.9007305, -63.1115113, -24.8390856)\n",
    "\n",
    "m.centerObject(region)"
   ]
  },
  {
   "cell_type": "code",
   "execution_count": null,
   "id": "ac76e106",
   "metadata": {},
   "outputs": [],
   "source": [
    "# Set the date range\n",
    "start_date = \"2016-01-01\"\n",
    "end_date = \"2017-01-01\"\n",
    "\n",
    "# Set the 2nd date range\n",
    "start_date2 = \"2023-01-01\"\n",
    "end_date2 = \"2024-01-01\""
   ]
  },
  {
   "cell_type": "code",
   "execution_count": null,
   "id": "0d12b4e6",
   "metadata": {},
   "outputs": [],
   "source": [
    "# Create a Sentinel-2 image composite\n",
    "image = geemap.dynamic_world_s2(region, start_date, end_date)\n",
    "vis_params = {\"bands\": [\"B4\", \"B3\", \"B2\"], \"min\": 0, \"max\": 3000}\n",
    "m.addLayer(image, vis_params, \"Sentinel-2 image\")\n",
    "\n",
    "# Create a Sentinel-2 image composite2\n",
    "image2 = geemap.dynamic_world_s2(region, start_date2, end_date2)\n",
    "vis_params = {\"bands\": [\"B4\", \"B3\", \"B2\"], \"min\": 0, \"max\": 3000}\n",
    "m.addLayer(image2, vis_params, \"Sentinel-2 image2\")"
   ]
  },
  {
   "cell_type": "code",
   "execution_count": null,
   "id": "8b6e4de3",
   "metadata": {},
   "outputs": [],
   "source": [
    "# Create Dynamic World land cover composite\n",
    "landcover = geemap.dynamic_world(region, start_date, end_date, return_type=\"hillshade\")\n",
    "m.addLayer(landcover, {}, \"Land Cover\")\n",
    "\n",
    "# Create Dynamic World land cover composite2\n",
    "landcover2 = geemap.dynamic_world(region, start_date2, end_date2, return_type=\"hillshade\")\n",
    "m.addLayer(landcover2, {}, \"Land Cover2\")"
   ]
  },
  {
   "cell_type": "code",
   "execution_count": null,
   "id": "c90c3567",
   "metadata": {},
   "outputs": [],
   "source": [
    "# Add split panel\n",
    "left_layer = geemap.ee_tile_layer(landcover, {}, \"Land Cover\")\n",
    "right_layer = geemap.ee_tile_layer(landcover2, {}, \"Land Cover2\")\n",
    "\n",
    "m = geemap.Map()\n",
    "m.split_map(left_layer, right_layer)"
   ]
  },
  {
   "cell_type": "code",
   "execution_count": null,
   "id": "18b851bf",
   "metadata": {},
   "outputs": [],
   "source": [
    "# Add legend\n",
    "m.add_legend(title=\"Dynamic World Land Cover\", builtin_legend=\"Dynamic_World\")\n",
    "m.centerObject(region)\n",
    "m"
   ]
  },
  {
   "cell_type": "code",
   "execution_count": null,
   "id": "6f9ca461",
   "metadata": {},
   "outputs": [],
   "source": [
    "# Save Dynamic World class data in GeoTIFF format\n",
    "output_path = \"landcover.tif\"\n",
    "landcover = geemap.dynamic_world(region, start_date, end_date, return_type=\"class\")\n",
    "geemap.ee_export_image(landcover, filename=output_path, scale=10, region=region, file_per_band=False)"
   ]
  }
 ],
 "metadata": {
  "kernelspec": {
   "display_name": "spatial",
   "language": "python",
   "name": "python3"
  }
 },
 "nbformat": 4,
 "nbformat_minor": 5
}
