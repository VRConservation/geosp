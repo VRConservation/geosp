{
 "cells": [
  {
   "cell_type": "code",
   "execution_count": 2,
   "metadata": {},
   "outputs": [
    {
     "data": {
      "application/vnd.jupyter.widget-view+json": {
       "model_id": "475bad9043c9443e952e9f8af0822926",
       "version_major": 2,
       "version_minor": 0
      },
      "text/plain": [
       "Map(center=[0, 0], controls=(WidgetControl(options=['position', 'transparent_bg'], widget=SearchDataGUI(childr…"
      ]
     },
     "metadata": {},
     "output_type": "display_data"
    },
    {
     "data": {
      "application/javascript": "\n        var code = IPython.notebook.insert_cell_below('code');\n        code.set_text(atob(\"Y2Fub3B5SGVpZ2h0ID0gZWUuSW1hZ2VDb2xsZWN0aW9uKCdwcm9qZWN0cy9tZXRhLWZvcmVzdC1tb25pdG9yaW5nLW9rdzM3L2Fzc2V0cy9DYW5vcHlIZWlnaHQnKS5tb3NhaWMoKQp0cmVlbm90cmVlID0gY2Fub3B5SGVpZ2h0LnVwZGF0ZU1hc2soY2Fub3B5SGVpZ2h0Lmd0ZSgxKSkKCiMjIHZpeiBzZXR0aW5ncyAjIwpwYWxldHRlcyA9IHJlcXVpcmUoJ3VzZXJzL2dlbmEvcGFja2FnZXM6cGFsZXR0ZXMnKQoKIy9PdGhlciB0ZWFtcyBsYXllcnMjLwpldGhjYW5vcHloZWlnaHQgPSBlZS5JbWFnZSgndXNlcnMvbmxhbmcvRVRIX0dsb2JhbENhbm9weUhlaWdodF8yMDIwXzEwbV92MScpCm0uYWRkTGF5ZXIoZXRoY2Fub3B5aGVpZ2h0LCB7CiAgICAnbWluJzogMCwKICAgICdtYXgnOiAyNSwKICAgICdwYWxldHRlJzogcGFsZXR0ZXMubWF0cGxvdGxpYi52aXJpZGlzWzddCn0sICdDYW5vcHkgSGVpZ2h0IExhbmcgMjAyMiA5OCUnLCBGYWxzZSkKCnVtZGhlaWdodCA9IGVlLkltYWdlQ29sbGVjdGlvbigidXNlcnMvcG90YXBvdnBldGVyL0dFRElfVjI3IikubW9zYWljKCkKbS5hZGRMYXllcih1bWRoZWlnaHQsIHsKICAgICdtaW4nOiAwLAogICAgJ21heCc6IDI1LAogICAgJ3BhbGV0dGUnOiBwYWxldHRlcy5tYXRwbG90bGliLnZpcmlkaXNbN10KfSwgJ0Nhbm9weSBIZWlnaHQgUG90YXBvdiAyMDIxIDk1JScsIEZhbHNlKQoKIy9PdXIgbGF5ZXJzIy8KbS5hZGRMYXllcih0cmVlbm90cmVlLCB7CiAgICAnbWluJzogMCwKICAgICdtYXgnOiAxLAogICAgJ3BhbGV0dGUnOiBbJzQ0MDE1NCcsICdmZGU3MjUnXQp9LCAnQ2Fub3B5IGhlaWdodCAoPj0xIG1ldGVyKScsIEZhbHNlKQptLmFkZExheWVyKGNhbm9weUhlaWdodCwgewogICAgJ21pbic6IDAsCiAgICAnbWF4JzogMjUsCiAgICAncGFsZXR0ZSc6IHBhbGV0dGVzLm1hdHBsb3RsaWIudmlyaWRpc1s3XQp9LCAnQ2Fub3B5IEhlaWdodCBbbWV0ZXJzXScpCgojL0RlZmF1bHQgbG9jYXRpb24gYW5kIHpvb20jLwptLnNldENlbnRlcigwLCAxMCwgMykK\"));\n    ",
      "text/plain": [
       "<IPython.core.display.Javascript object>"
      ]
     },
     "metadata": {},
     "output_type": "display_data"
    }
   ],
   "source": [
    "# Import geemap and create an interactive map\n",
    "import ee\n",
    "import geemap\n",
    "geemap.ee_initialize()\n",
    "m = geemap.Map()\n",
    "m"
   ]
  },
  {
   "cell_type": "code",
   "execution_count": 11,
   "metadata": {},
   "outputs": [
    {
     "data": {
      "text/html": [
       "\n",
       "            <style>\n",
       "                .geemap-dark {\n",
       "                    --jp-widgets-color: white;\n",
       "                    --jp-widgets-label-color: white;\n",
       "                    --jp-ui-font-color1: white;\n",
       "                    --jp-layout-color2: #454545;\n",
       "                    background-color: #383838;\n",
       "                }\n",
       "                    \n",
       "                .geemap-dark .jupyter-button {\n",
       "                    --jp-layout-color3: #383838;\n",
       "                }\n",
       "                \n",
       "                .geemap-colab {\n",
       "                    background-color: var(--colab-primary-surface-color, white);\n",
       "                }\n",
       "                    \n",
       "                .geemap-colab .jupyter-button {\n",
       "                    --jp-layout-color3: var(--colab-primary-surface-color, white);\n",
       "                }\n",
       "            </style>\n",
       "            "
      ],
      "text/plain": [
       "<IPython.core.display.HTML object>"
      ]
     },
     "metadata": {},
     "output_type": "display_data"
    }
   ],
   "source": [
    "# Add global carbon density map\n",
    "dataset = ee.ImageCollection('NASA/ORNL/biomass_carbon_density/v1')\n",
    "\n",
    "# def func_rif(image)return image.clip(bbox)};: \\\n",
    "#                     .map(function(image){return image.clip(bbox)} \\\n",
    "#                     .map(func_rif)\n",
    "\n",
    "# Add visual parameter variables\n",
    "vis_a = {\n",
    "  'bands': ['agb'],\n",
    "  'min': -50.0,\n",
    "  'max': 80.0,\n",
    "  'palette': ['d9f0a3', 'addd8e', '78c679', '41ab5d', '238443', '005a32']\n",
    "}\n",
    "\n",
    "vis_b = {\n",
    "  'bands': ['bgb'],\n",
    "  'min': -50.0,\n",
    "  'max': 80.0,\n",
    "  'palette': ['D6BCB1', 'AB8574', '784E3D', '3D2216', '26140C', '000000']\n",
    "}\n",
    "\n",
    "# Center map and add layers\n",
    "m.setCenter(-120.2348, 38.8744, 9)\n",
    "m.addLayer(dataset, vis_a, 'Aboveground biomass carbon', False)\n",
    "m.addLayer(dataset, vis_b, 'Belowground biomass carbon', False)"
   ]
  },
  {
   "cell_type": "code",
   "execution_count": 12,
   "metadata": {},
   "outputs": [
    {
     "data": {
      "text/html": [
       "\n",
       "            <style>\n",
       "                .geemap-dark {\n",
       "                    --jp-widgets-color: white;\n",
       "                    --jp-widgets-label-color: white;\n",
       "                    --jp-ui-font-color1: white;\n",
       "                    --jp-layout-color2: #454545;\n",
       "                    background-color: #383838;\n",
       "                }\n",
       "                    \n",
       "                .geemap-dark .jupyter-button {\n",
       "                    --jp-layout-color3: #383838;\n",
       "                }\n",
       "                \n",
       "                .geemap-colab {\n",
       "                    background-color: var(--colab-primary-surface-color, white);\n",
       "                }\n",
       "                    \n",
       "                .geemap-colab .jupyter-button {\n",
       "                    --jp-layout-color3: var(--colab-primary-surface-color, white);\n",
       "                }\n",
       "            </style>\n",
       "            "
      ],
      "text/plain": [
       "<IPython.core.display.HTML object>"
      ]
     },
     "metadata": {},
     "output_type": "display_data"
    }
   ],
   "source": [
    "# Add an area of interest\n",
    "bbox = [-121.1874, 38.2931, -119.5262, 39.2884]\n",
    "bbox = ee.Geometry.Rectangle(bbox)"
   ]
  },
  {
   "cell_type": "code",
   "execution_count": 13,
   "metadata": {},
   "outputs": [
    {
     "data": {
      "text/html": [
       "\n",
       "            <style>\n",
       "                .geemap-dark {\n",
       "                    --jp-widgets-color: white;\n",
       "                    --jp-widgets-label-color: white;\n",
       "                    --jp-ui-font-color1: white;\n",
       "                    --jp-layout-color2: #454545;\n",
       "                    background-color: #383838;\n",
       "                }\n",
       "                    \n",
       "                .geemap-dark .jupyter-button {\n",
       "                    --jp-layout-color3: #383838;\n",
       "                }\n",
       "                \n",
       "                .geemap-colab {\n",
       "                    background-color: var(--colab-primary-surface-color, white);\n",
       "                }\n",
       "                    \n",
       "                .geemap-colab .jupyter-button {\n",
       "                    --jp-layout-color3: var(--colab-primary-surface-color, white);\n",
       "                }\n",
       "            </style>\n",
       "            "
      ],
      "text/plain": [
       "<IPython.core.display.HTML object>"
      ]
     },
     "metadata": {},
     "output_type": "display_data"
    }
   ],
   "source": [
    "# Clip the dataset to the area of interest\n",
    "aoi = dataset.map(lambda image: image.clip(bbox))"
   ]
  },
  {
   "cell_type": "code",
   "execution_count": 14,
   "metadata": {},
   "outputs": [
    {
     "data": {
      "text/html": [
       "\n",
       "            <style>\n",
       "                .geemap-dark {\n",
       "                    --jp-widgets-color: white;\n",
       "                    --jp-widgets-label-color: white;\n",
       "                    --jp-ui-font-color1: white;\n",
       "                    --jp-layout-color2: #454545;\n",
       "                    background-color: #383838;\n",
       "                }\n",
       "                    \n",
       "                .geemap-dark .jupyter-button {\n",
       "                    --jp-layout-color3: #383838;\n",
       "                }\n",
       "                \n",
       "                .geemap-colab {\n",
       "                    background-color: var(--colab-primary-surface-color, white);\n",
       "                }\n",
       "                    \n",
       "                .geemap-colab .jupyter-button {\n",
       "                    --jp-layout-color3: var(--colab-primary-surface-color, white);\n",
       "                }\n",
       "            </style>\n",
       "            "
      ],
      "text/plain": [
       "<IPython.core.display.HTML object>"
      ]
     },
     "metadata": {},
     "output_type": "display_data"
    },
    {
     "data": {
      "application/vnd.jupyter.widget-view+json": {
       "model_id": "99001baae42d48fdad592055829494c3",
       "version_major": 2,
       "version_minor": 0
      },
      "text/plain": [
       "Map(bottom=50452.0, center=[38.87392853923632, -120.23437500000001], controls=(WidgetControl(options=['positio…"
      ]
     },
     "execution_count": 14,
     "metadata": {},
     "output_type": "execute_result"
    }
   ],
   "source": [
    "# Add the clipped dataset to the map\n",
    "m.addLayer(aoi, vis_b, 'AOI belowground biomass carbon')\n",
    "m.addLayer(aoi, vis_a, 'AOI aboveground biomass carbon')\n",
    "m"
   ]
  },
  {
   "cell_type": "code",
   "execution_count": 1,
   "metadata": {},
   "outputs": [
    {
     "data": {
      "text/plain": [
       "['elevation']"
      ]
     },
     "execution_count": 1,
     "metadata": {},
     "output_type": "execute_result"
    }
   ],
   "source": [
    "import ee\n",
    "ee.Initialize()\n",
    "db = 'CGIAR/SRTM90_V4'\n",
    "image = ee.Image(db)\n",
    "image.bandNames().getInfo()\n",
    "#> [u'elevation']"
   ]
  }
 ],
 "metadata": {
  "kernelspec": {
   "display_name": "spatial",
   "language": "python",
   "name": "python3"
  },
  "language_info": {
   "codemirror_mode": {
    "name": "ipython",
    "version": 3
   },
   "file_extension": ".py",
   "mimetype": "text/x-python",
   "name": "python",
   "nbconvert_exporter": "python",
   "pygments_lexer": "ipython3",
   "version": "3.11.8"
  }
 },
 "nbformat": 4,
 "nbformat_minor": 2
}
