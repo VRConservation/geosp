{
 "cells": [
  {
   "cell_type": "code",
   "execution_count": 1,
   "metadata": {},
   "outputs": [],
   "source": [
    "import duckdb\n",
    "import leafmap\n",
    "import pandas as pd"
   ]
  },
  {
   "cell_type": "code",
   "execution_count": 2,
   "metadata": {},
   "outputs": [],
   "source": [
    "con = duckdb.connect()\n",
    "con.install_extension(\"httpfs\")\n",
    "con.load_extension(\"httpfs\")\n",
    "con.install_extension(\"spatial\")\n",
    "con.load_extension(\"spatial\")"
   ]
  },
  {
   "cell_type": "code",
   "execution_count": 3,
   "metadata": {},
   "outputs": [],
   "source": [
    "# world connnectedness data from https://data.humdata.org/dataset/social-connectedness-index\n",
    "url = 'https://data.humdata.org/dataset/e9988552-74e4-4ff4-943f-c782ac8bca87/resource/35ca6ade-a5bd-4782-b266-797169dca74b/download/countries-countries-fb-social-connectedness-index-october-2021.tsv'"
   ]
  },
  {
   "cell_type": "code",
   "execution_count": 4,
   "metadata": {},
   "outputs": [],
   "source": [
    "# Read the data from the URL into a pandas DataFrame\n",
    "df = pd.read_csv(url, sep='\\t')\n",
    "\n",
    "# Convert the DataFrame into a DuckDB table\n",
    "con.register('my_table', df)\n",
    "\n",
    "# Now you can query the table using DuckDB\n",
    "result = con.execute(\"SELECT * FROM my_table\").fetchdf()"
   ]
  },
  {
   "cell_type": "code",
   "execution_count": 5,
   "metadata": {},
   "outputs": [
    {
     "data": {
      "text/html": [
       "<div>\n",
       "<style scoped>\n",
       "    .dataframe tbody tr th:only-of-type {\n",
       "        vertical-align: middle;\n",
       "    }\n",
       "\n",
       "    .dataframe tbody tr th {\n",
       "        vertical-align: top;\n",
       "    }\n",
       "\n",
       "    .dataframe thead th {\n",
       "        text-align: right;\n",
       "    }\n",
       "</style>\n",
       "<table border=\"1\" class=\"dataframe\">\n",
       "  <thead>\n",
       "    <tr style=\"text-align: right;\">\n",
       "      <th></th>\n",
       "      <th>user_loc</th>\n",
       "      <th>fr_loc</th>\n",
       "      <th>scaled_sci</th>\n",
       "    </tr>\n",
       "  </thead>\n",
       "  <tbody>\n",
       "    <tr>\n",
       "      <th>0</th>\n",
       "      <td>AE</td>\n",
       "      <td>AE</td>\n",
       "      <td>1117179</td>\n",
       "    </tr>\n",
       "    <tr>\n",
       "      <th>1</th>\n",
       "      <td>AE</td>\n",
       "      <td>AG</td>\n",
       "      <td>5488</td>\n",
       "    </tr>\n",
       "    <tr>\n",
       "      <th>2</th>\n",
       "      <td>AE</td>\n",
       "      <td>AL</td>\n",
       "      <td>2101</td>\n",
       "    </tr>\n",
       "    <tr>\n",
       "      <th>3</th>\n",
       "      <td>AE</td>\n",
       "      <td>AM</td>\n",
       "      <td>3580</td>\n",
       "    </tr>\n",
       "    <tr>\n",
       "      <th>4</th>\n",
       "      <td>AE</td>\n",
       "      <td>AO</td>\n",
       "      <td>2326</td>\n",
       "    </tr>\n",
       "    <tr>\n",
       "      <th>...</th>\n",
       "      <td>...</td>\n",
       "      <td>...</td>\n",
       "      <td>...</td>\n",
       "    </tr>\n",
       "    <tr>\n",
       "      <th>34220</th>\n",
       "      <td>ZW</td>\n",
       "      <td>XK</td>\n",
       "      <td>262</td>\n",
       "    </tr>\n",
       "    <tr>\n",
       "      <th>34221</th>\n",
       "      <td>ZW</td>\n",
       "      <td>YT</td>\n",
       "      <td>1650</td>\n",
       "    </tr>\n",
       "    <tr>\n",
       "      <th>34222</th>\n",
       "      <td>ZW</td>\n",
       "      <td>ZA</td>\n",
       "      <td>366466</td>\n",
       "    </tr>\n",
       "    <tr>\n",
       "      <th>34223</th>\n",
       "      <td>ZW</td>\n",
       "      <td>ZM</td>\n",
       "      <td>196035</td>\n",
       "    </tr>\n",
       "    <tr>\n",
       "      <th>34224</th>\n",
       "      <td>ZW</td>\n",
       "      <td>ZW</td>\n",
       "      <td>20247600</td>\n",
       "    </tr>\n",
       "  </tbody>\n",
       "</table>\n",
       "<p>34225 rows × 3 columns</p>\n",
       "</div>"
      ],
      "text/plain": [
       "      user_loc fr_loc  scaled_sci\n",
       "0           AE     AE     1117179\n",
       "1           AE     AG        5488\n",
       "2           AE     AL        2101\n",
       "3           AE     AM        3580\n",
       "4           AE     AO        2326\n",
       "...        ...    ...         ...\n",
       "34220       ZW     XK         262\n",
       "34221       ZW     YT        1650\n",
       "34222       ZW     ZA      366466\n",
       "34223       ZW     ZM      196035\n",
       "34224       ZW     ZW    20247600\n",
       "\n",
       "[34225 rows x 3 columns]"
      ]
     },
     "execution_count": 5,
     "metadata": {},
     "output_type": "execute_result"
    }
   ],
   "source": [
    "df"
   ]
  },
  {
   "cell_type": "code",
   "execution_count": 6,
   "metadata": {},
   "outputs": [
    {
     "data": {
      "text/plain": [
       "┌─────────┬────────────┐\n",
       "│ country │   scaled   │\n",
       "│ varchar │   int128   │\n",
       "├─────────┼────────────┤\n",
       "│ SC      │ 1006368457 │\n",
       "│ AG      │  893365845 │\n",
       "│ GD      │  835369954 │\n",
       "│ KI      │  782782835 │\n",
       "│ TO      │  719577449 │\n",
       "│ ST      │  684169236 │\n",
       "│ VC      │  667785101 │\n",
       "│ FM      │  619429818 │\n",
       "│ LC      │  578010894 │\n",
       "│ IM      │  514740394 │\n",
       "├─────────┴────────────┤\n",
       "│ 10 rows    2 columns │\n",
       "└──────────────────────┘"
      ]
     },
     "execution_count": 6,
     "metadata": {},
     "output_type": "execute_result"
    }
   ],
   "source": [
    "con.sql('''\n",
    "    SELECT user_loc as country, SUM(scaled_sci) as scaled\n",
    "    FROM my_table\n",
    "    GROUP BY user_loc\n",
    "    ORDER BY scaled DESC\n",
    "    LIMIT 10            \n",
    "''')"
   ]
  },
  {
   "cell_type": "code",
   "execution_count": 7,
   "metadata": {},
   "outputs": [],
   "source": [
    "# SC Seychelles, AG Antigua/Barbuda, GD Grenada, KI Kiribati, TO Tonga, ST Sao Tome, VC St Vincent, FM Micronesia, LC St. Lucia, IM Isle of Man"
   ]
  },
  {
   "cell_type": "code",
   "execution_count": 8,
   "metadata": {},
   "outputs": [],
   "source": [
    "# US counties data from https://data.humdata.org/dataset/social-connectedness-index\n",
    "url_state = 'https://data.humdata.org/dataset/e9988552-74e4-4ff4-943f-c782ac8bca87/resource/868a2fdb-f5c8-4a98-af7c-cfc8bf0daeb3/download/us-counties-countries-fb-social-connectedness-index-october-2021.tsv'"
   ]
  },
  {
   "cell_type": "code",
   "execution_count": 9,
   "metadata": {},
   "outputs": [
    {
     "data": {
      "text/html": [
       "<div>\n",
       "<style scoped>\n",
       "    .dataframe tbody tr th:only-of-type {\n",
       "        vertical-align: middle;\n",
       "    }\n",
       "\n",
       "    .dataframe tbody tr th {\n",
       "        vertical-align: top;\n",
       "    }\n",
       "\n",
       "    .dataframe thead th {\n",
       "        text-align: right;\n",
       "    }\n",
       "</style>\n",
       "<table border=\"1\" class=\"dataframe\">\n",
       "  <thead>\n",
       "    <tr style=\"text-align: right;\">\n",
       "      <th></th>\n",
       "      <th>ZIP</th>\n",
       "      <th>SCALED</th>\n",
       "    </tr>\n",
       "  </thead>\n",
       "  <tbody>\n",
       "    <tr>\n",
       "      <th>0</th>\n",
       "      <td>66010</td>\n",
       "      <td>1.235691e+09</td>\n",
       "    </tr>\n",
       "    <tr>\n",
       "      <th>1</th>\n",
       "      <td>69100</td>\n",
       "      <td>6.259993e+08</td>\n",
       "    </tr>\n",
       "    <tr>\n",
       "      <th>2</th>\n",
       "      <td>60010</td>\n",
       "      <td>4.407371e+08</td>\n",
       "    </tr>\n",
       "    <tr>\n",
       "      <th>3</th>\n",
       "      <td>69110</td>\n",
       "      <td>2.921051e+08</td>\n",
       "    </tr>\n",
       "    <tr>\n",
       "      <th>4</th>\n",
       "      <td>72107</td>\n",
       "      <td>2.793023e+08</td>\n",
       "    </tr>\n",
       "    <tr>\n",
       "      <th>5</th>\n",
       "      <td>72019</td>\n",
       "      <td>2.662062e+08</td>\n",
       "    </tr>\n",
       "    <tr>\n",
       "      <th>6</th>\n",
       "      <td>72105</td>\n",
       "      <td>2.578541e+08</td>\n",
       "    </tr>\n",
       "    <tr>\n",
       "      <th>7</th>\n",
       "      <td>72073</td>\n",
       "      <td>2.571212e+08</td>\n",
       "    </tr>\n",
       "    <tr>\n",
       "      <th>8</th>\n",
       "      <td>78010</td>\n",
       "      <td>2.555521e+08</td>\n",
       "    </tr>\n",
       "    <tr>\n",
       "      <th>9</th>\n",
       "      <td>72149</td>\n",
       "      <td>2.472858e+08</td>\n",
       "    </tr>\n",
       "  </tbody>\n",
       "</table>\n",
       "</div>"
      ],
      "text/plain": [
       "     ZIP        SCALED\n",
       "0  66010  1.235691e+09\n",
       "1  69100  6.259993e+08\n",
       "2  60010  4.407371e+08\n",
       "3  69110  2.921051e+08\n",
       "4  72107  2.793023e+08\n",
       "5  72019  2.662062e+08\n",
       "6  72105  2.578541e+08\n",
       "7  72073  2.571212e+08\n",
       "8  78010  2.555521e+08\n",
       "9  72149  2.472858e+08"
      ]
     },
     "execution_count": 9,
     "metadata": {},
     "output_type": "execute_result"
    }
   ],
   "source": [
    "# Read the data from the URL into a pandas DataFrame\n",
    "df_zip = pd.read_csv(url_state, sep='\\t')\n",
    "\n",
    "# Register the DataFrame as a DuckDB table\n",
    "con.register('state_table', df_zip)\n",
    "\n",
    "# Perform the grouping and ordering operations\n",
    "result = con.execute(\"\"\"\n",
    "    SELECT user_loc as ZIP, SUM(scaled_sci) as SCALED\n",
    "    FROM state_table\n",
    "    GROUP BY user_loc\n",
    "    ORDER BY SCALED DESC\n",
    "    LIMIT 10\n",
    "\"\"\").fetchdf()\n",
    "result"
   ]
  },
  {
   "cell_type": "code",
   "execution_count": 11,
   "metadata": {},
   "outputs": [
    {
     "data": {
      "text/plain": [
       "┌───────┬─────────────┬──────────────┬───┬────────────┬──────────────────────┬──────────┬──────────────────────┐\n",
       "│ RecID │  latitude   │  longitude   │ … │    Year    │      JoinSymbol      │ ObjectId │         geom         │\n",
       "│ int32 │   double    │    double    │   │    date    │       varchar        │  int32   │       geometry       │\n",
       "├───────┼─────────────┼──────────────┼───┼────────────┼──────────────────────┼──────────┼──────────────────────┤\n",
       "│  9001 │ 40.79719014 │ -124.1815646 │ … │ 2020-01-01 │ Operational Large …  │       30 │ POINT (-124.181564…  │\n",
       "│  9002 │ 38.90448023 │ -121.3070281 │ … │ 2020-01-01 │ Operational Large …  │       31 │ POINT (-121.307028…  │\n",
       "│  9003 │ 39.48193681 │ -121.5632263 │ … │ 2020-01-01 │ Operational Cedar …  │       32 │ POINT (-121.563226…  │\n",
       "│  9008 │   40.471498 │  -122.320991 │ … │ 2020-01-01 │ Operational Large …  │       33 │ POINT (-122.320991…  │\n",
       "│  9012 │   40.901169 │  -124.071143 │ … │ 2020-01-01 │ Operational Fence …  │       34 │ POINT (-124.071143…  │\n",
       "│  9013 │ 40.87184621 │ -123.9632726 │ … │ 2020-01-01 │ Operational Small …  │       35 │ POINT (-123.963272…  │\n",
       "│  9026 │  40.8782226 │ -121.7266623 │ … │ 2020-01-01 │ Operational Large …  │       36 │ POINT (-121.726662…  │\n",
       "│  9027 │   40.876365 │  -121.701786 │ … │ 2020-01-01 │ Operational Large …  │       37 │ POINT (-121.701786…  │\n",
       "│  9034 │ 38.46454832 │ -123.0410353 │ … │ 2020-01-01 │ Operational Specia…  │       38 │ POINT (-123.041035…  │\n",
       "│  9036 │ 40.30330794 │ -121.2413703 │ … │ 2020-01-01 │ Operational Large …  │       39 │ POINT (-121.241370…  │\n",
       "│    ·  │      ·      │       ·      │ · │     ·      │          ·           │        · │          ·           │\n",
       "│    ·  │      ·      │       ·      │ · │     ·      │          ·           │        · │          ·           │\n",
       "│    ·  │      ·      │       ·      │ · │     ·      │          ·           │        · │          ·           │\n",
       "│  9107 │ 37.96333505 │ -120.3174788 │ … │ 2020-01-01 │ Operational Large …  │       47 │ POINT (-120.317478…  │\n",
       "│  9113 │ 35.95409644 │ -119.0489178 │ … │ 2020-01-01 │ Operational Large …  │       48 │ POINT (-119.048917…  │\n",
       "│  9117 │ 39.17958875 │ -123.2036368 │ … │ 2020-01-01 │ Operational Large …  │       49 │ POINT (-123.203636…  │\n",
       "│  9119 │   39.183738 │  -123.203868 │ … │ 2020-01-01 │ Operational Large …  │       50 │ POINT (-123.203868…  │\n",
       "│  9120 │ 40.72493045 │ -122.9306377 │ … │ 2020-01-01 │ Operational Large …  │       51 │ POINT (-122.930637…  │\n",
       "│  9121 │ 41.43245271 │ -122.3794955 │ … │ 2020-01-01 │ Operational Peeler…  │       52 │ POINT (-122.379495…  │\n",
       "│  9133 │   41.737758 │  -122.593349 │ … │ 2020-01-01 │ Operational Peeler…  │       53 │ POINT (-122.593349…  │\n",
       "│  9292 │   40.484703 │  -122.345292 │ … │ 2020-01-01 │ Operational Post/P…  │       54 │ POINT (-122.345292…  │\n",
       "│  9294 │   38.766782 │  -122.991567 │ … │ 2020-01-01 │ Operational Fence …  │       55 │ POINT (-122.991567…  │\n",
       "│  9297 │   42.203091 │  -120.352784 │ … │ 2020-01-01 │ Operational Large …  │       56 │ POINT (-120.352784…  │\n",
       "├───────┴─────────────┴──────────────┴───┴────────────┴──────────────────────┴──────────┴──────────────────────┤\n",
       "│ 27 rows (20 shown)                                                                      17 columns (7 shown) │\n",
       "└──────────────────────────────────────────────────────────────────────────────────────────────────────────────┘"
      ]
     },
     "execution_count": 11,
     "metadata": {},
     "output_type": "execute_result"
    }
   ],
   "source": [
    "# Import the UC Woody Biomass Utilization Group's Current Wood Facility Databases\n",
    "# Requested online, received email with zipped folders\n",
    "# Start with sawmills\n",
    "con.sql(\"SELECT * FROM ST_Read('C:/Users/vance/Downloads/CurrentSawmill/Current_Wood_Facility_Database_Primary_Wood_Processing.shp')\")"
   ]
  },
  {
   "cell_type": "code",
   "execution_count": 17,
   "metadata": {},
   "outputs": [
    {
     "data": {
      "text/plain": [
       "┌───────┬─────────────┬──────────────┬───┬────────────┬──────────────────────┬──────────┬──────────────────────┐\n",
       "│ RecID │  latitude   │  longitude   │ … │    Year    │      JoinSymbol      │ ObjectId │         geom         │\n",
       "│ int32 │   double    │    double    │   │    date    │       varchar        │  int32   │       geometry       │\n",
       "├───────┼─────────────┼──────────────┼───┼────────────┼──────────────────────┼──────────┼──────────────────────┤\n",
       "│  9001 │ 40.79719014 │ -124.1815646 │ … │ 2020-01-01 │ Operational Large …  │       30 │ POINT (-124.181564…  │\n",
       "│  9002 │ 38.90448023 │ -121.3070281 │ … │ 2020-01-01 │ Operational Large …  │       31 │ POINT (-121.307028…  │\n",
       "│  9003 │ 39.48193681 │ -121.5632263 │ … │ 2020-01-01 │ Operational Cedar …  │       32 │ POINT (-121.563226…  │\n",
       "│  9008 │   40.471498 │  -122.320991 │ … │ 2020-01-01 │ Operational Large …  │       33 │ POINT (-122.320991…  │\n",
       "│  9012 │   40.901169 │  -124.071143 │ … │ 2020-01-01 │ Operational Fence …  │       34 │ POINT (-124.071143…  │\n",
       "│  9013 │ 40.87184621 │ -123.9632726 │ … │ 2020-01-01 │ Operational Small …  │       35 │ POINT (-123.963272…  │\n",
       "│  9026 │  40.8782226 │ -121.7266623 │ … │ 2020-01-01 │ Operational Large …  │       36 │ POINT (-121.726662…  │\n",
       "│  9027 │   40.876365 │  -121.701786 │ … │ 2020-01-01 │ Operational Large …  │       37 │ POINT (-121.701786…  │\n",
       "│  9034 │ 38.46454832 │ -123.0410353 │ … │ 2020-01-01 │ Operational Specia…  │       38 │ POINT (-123.041035…  │\n",
       "│  9036 │ 40.30330794 │ -121.2413703 │ … │ 2020-01-01 │ Operational Large …  │       39 │ POINT (-121.241370…  │\n",
       "│    ·  │      ·      │       ·      │ · │     ·      │          ·           │        · │          ·           │\n",
       "│    ·  │      ·      │       ·      │ · │     ·      │          ·           │        · │          ·           │\n",
       "│    ·  │      ·      │       ·      │ · │     ·      │          ·           │        · │          ·           │\n",
       "│  9107 │ 37.96333505 │ -120.3174788 │ … │ 2020-01-01 │ Operational Large …  │       47 │ POINT (-120.317478…  │\n",
       "│  9113 │ 35.95409644 │ -119.0489178 │ … │ 2020-01-01 │ Operational Large …  │       48 │ POINT (-119.048917…  │\n",
       "│  9117 │ 39.17958875 │ -123.2036368 │ … │ 2020-01-01 │ Operational Large …  │       49 │ POINT (-123.203636…  │\n",
       "│  9119 │   39.183738 │  -123.203868 │ … │ 2020-01-01 │ Operational Large …  │       50 │ POINT (-123.203868…  │\n",
       "│  9120 │ 40.72493045 │ -122.9306377 │ … │ 2020-01-01 │ Operational Large …  │       51 │ POINT (-122.930637…  │\n",
       "│  9121 │ 41.43245271 │ -122.3794955 │ … │ 2020-01-01 │ Operational Peeler…  │       52 │ POINT (-122.379495…  │\n",
       "│  9133 │   41.737758 │  -122.593349 │ … │ 2020-01-01 │ Operational Peeler…  │       53 │ POINT (-122.593349…  │\n",
       "│  9292 │   40.484703 │  -122.345292 │ … │ 2020-01-01 │ Operational Post/P…  │       54 │ POINT (-122.345292…  │\n",
       "│  9294 │   38.766782 │  -122.991567 │ … │ 2020-01-01 │ Operational Fence …  │       55 │ POINT (-122.991567…  │\n",
       "│  9297 │   42.203091 │  -120.352784 │ … │ 2020-01-01 │ Operational Large …  │       56 │ POINT (-120.352784…  │\n",
       "├───────┴─────────────┴──────────────┴───┴────────────┴──────────────────────┴──────────┴──────────────────────┤\n",
       "│ 27 rows (20 shown)                                                                      17 columns (7 shown) │\n",
       "└──────────────────────────────────────────────────────────────────────────────────────────────────────────────┘"
      ]
     },
     "execution_count": 17,
     "metadata": {},
     "output_type": "execute_result"
    }
   ],
   "source": [
    "# Create sawmill table from shp file and show\n",
    "con.sql('''\n",
    "    CREATE TABLE IF NOT EXISTS sawmill as\n",
    "    SELECT * FROM ST_Read('C:/Users/vance/Downloads/CurrentSawmill/Current_Wood_Facility_Database_Primary_Wood_Processing.shp')    \n",
    "''')\n",
    "con.table('sawmill')"
   ]
  },
  {
   "cell_type": "code",
   "execution_count": 16,
   "metadata": {},
   "outputs": [
    {
     "data": {
      "text/plain": [
       "┌─────────────┬─────────────┬─────────┬─────────┬─────────┬───────┐\n",
       "│ column_name │ column_type │  null   │   key   │ default │ extra │\n",
       "│   varchar   │   varchar   │ varchar │ varchar │ varchar │ int32 │\n",
       "├─────────────┼─────────────┼─────────┼─────────┼─────────┼───────┤\n",
       "│ RecID       │ INTEGER     │ YES     │ NULL    │ NULL    │  NULL │\n",
       "│ latitude    │ DOUBLE      │ YES     │ NULL    │ NULL    │  NULL │\n",
       "│ longitude   │ DOUBLE      │ YES     │ NULL    │ NULL    │  NULL │\n",
       "│ Name        │ VARCHAR     │ YES     │ NULL    │ NULL    │  NULL │\n",
       "│ Status      │ VARCHAR     │ YES     │ NULL    │ NULL    │  NULL │\n",
       "│ Owner       │ VARCHAR     │ YES     │ NULL    │ NULL    │  NULL │\n",
       "│ Cogenerati  │ VARCHAR     │ YES     │ NULL    │ NULL    │  NULL │\n",
       "│ Facility_T  │ VARCHAR     │ YES     │ NULL    │ NULL    │  NULL │\n",
       "│ Feedstock_  │ VARCHAR     │ YES     │ NULL    │ NULL    │  NULL │\n",
       "│ Employees   │ VARCHAR     │ YES     │ NULL    │ NULL    │  NULL │\n",
       "│ StAddr      │ VARCHAR     │ YES     │ NULL    │ NULL    │  NULL │\n",
       "│ City        │ VARCHAR     │ YES     │ NULL    │ NULL    │  NULL │\n",
       "│ County      │ VARCHAR     │ YES     │ NULL    │ NULL    │  NULL │\n",
       "│ Year        │ DATE        │ YES     │ NULL    │ NULL    │  NULL │\n",
       "│ JoinSymbol  │ VARCHAR     │ YES     │ NULL    │ NULL    │  NULL │\n",
       "│ ObjectId    │ INTEGER     │ YES     │ NULL    │ NULL    │  NULL │\n",
       "│ geom        │ GEOMETRY    │ YES     │ NULL    │ NULL    │  NULL │\n",
       "├─────────────┴─────────────┴─────────┴─────────┴─────────┴───────┤\n",
       "│ 17 rows                                               6 columns │\n",
       "└─────────────────────────────────────────────────────────────────┘"
      ]
     },
     "execution_count": 16,
     "metadata": {},
     "output_type": "execute_result"
    }
   ],
   "source": [
    "# View sawmill table schema\n",
    "con.sql('''\n",
    "    DESCRIBE sawmill\n",
    "        \n",
    "''')"
   ]
  },
  {
   "cell_type": "code",
   "execution_count": 20,
   "metadata": {},
   "outputs": [
    {
     "data": {
      "text/plain": [
       "┌────────────┬───────┐\n",
       "│   County   │ Count │\n",
       "│  varchar   │ int64 │\n",
       "├────────────┼───────┤\n",
       "│ Shasta     │     5 │\n",
       "│ Humboldt   │     4 │\n",
       "│ Sonoma     │     3 │\n",
       "│ Tuolumne   │     2 │\n",
       "│ Plumas     │     2 │\n",
       "│ Butte      │     2 │\n",
       "│ Mendocino  │     2 │\n",
       "│ Siskiyou   │     2 │\n",
       "│ Trinity    │     1 │\n",
       "│ Lake, OR   │     1 │\n",
       "│ Placer     │     1 │\n",
       "│ Tulare     │     1 │\n",
       "│ Santa Cruz │     1 │\n",
       "├────────────┴───────┤\n",
       "│ 13 rows  2 columns │\n",
       "└────────────────────┘"
      ]
     },
     "execution_count": 20,
     "metadata": {},
     "output_type": "execute_result"
    }
   ],
   "source": [
    "# Sum sawmills by county\n",
    "con.sql('''\n",
    "    SELECT County, COUNT(*) as Count\n",
    "    FROM sawmill\n",
    "    GROUP BY County\n",
    "    ORDER BY count DESC\n",
    "''')"
   ]
  },
  {
   "cell_type": "code",
   "execution_count": 24,
   "metadata": {},
   "outputs": [
    {
     "data": {
      "text/plain": [
       "┌───────┬─────────────┬──────────────┬──────────────────────┬───┬────────────┬──────────┬──────────────────────┐\n",
       "│ RecID │  latitude   │  longitude   │         Name         │ … │ JoinSymbol │ ObjectId │         geom         │\n",
       "│ int32 │   double    │    double    │       varchar        │   │  varchar   │  int32   │       geometry       │\n",
       "├───────┼─────────────┼──────────────┼──────────────────────┼───┼────────────┼──────────┼──────────────────────┤\n",
       "│    25 │   35.576448 │  -119.005818 │ DTE Mt. Poso Cogen   │ … │ 25_2021    │       27 │ POINT (-119.005818…  │\n",
       "│    14 │   36.569581 │  -119.418984 │ Dinuba Energy        │ … │ 14_2021    │       56 │ POINT (-119.418984…  │\n",
       "│    15 │   38.524353 │  -121.903077 │ Dixon Ridge Farms …  │ … │ 15_2021    │       94 │ POINT (-121.903077…  │\n",
       "│    16 │   37.943945 │  -121.330053 │ DTE Stockton Bioma…  │ … │ 16_2021    │      110 │ POINT (-121.330053…  │\n",
       "│    22 │   36.755903 │  -120.365273 │ Covanta Mendota Po…  │ … │ 22_2021    │      122 │ POINT (-120.365273…  │\n",
       "│    19 │   32.906602 │   -115.51372 │ Imperial Valley Re…  │ … │ 19_2021    │      124 │ POINT (-115.51372 …  │\n",
       "│    18 │   40.368492 │  -120.264999 │ Honey Lake Power     │ … │ 18_2021    │      206 │ POINT (-120.264999…  │\n",
       "│    28 │   37.874644 │  -120.477546 │ Pacific Ultrapower…  │ … │ 28_2021    │      297 │ POINT (-120.477546…  │\n",
       "│     5 │   40.879724 │  -121.720406 │ Burney Forest Prod…  │ … │ 5_2021     │      345 │ POINT (-121.720406…  │\n",
       "│     6 │   40.909703 │  -121.639961 │ Covanta Burney Mtn…  │ … │ 6_2021     │      379 │ POINT (-121.639961…  │\n",
       "│     · │       ·     │       ·      │          ·           │ · │   ·        │       ·  │          ·           │\n",
       "│     · │       ·     │       ·      │          ·           │ · │   ·        │       ·  │          ·           │\n",
       "│     · │       ·     │       ·      │          ·           │ · │   ·        │       ·  │          ·           │\n",
       "│   140 │   37.505994 │  -120.012666 │ Mariposa BioMAT Pr…  │ … │ 140_2021   │     2030 │ POINT (-120.012666…  │\n",
       "│   141 │ 39.46624093 │ -121.5218733 │ Mooretown Rancheri…  │ … │ 141_2021   │     2039 │ POINT (-121.521873…  │\n",
       "│   142 │ 39.80247641 │ -123.2495589 │ Round Valley BioMA…  │ … │ 142_2021   │     2048 │ POINT (-123.249558…  │\n",
       "│   143 │ 39.65483903 │ -123.6251896 │ Branscomb BioMAT P…  │ … │ 143_2021   │     2057 │ POINT (-123.625189…  │\n",
       "│   144 │ 40.09576776 │ -120.9081135 │ Crescent Mill BioM…  │ … │ 144_2021   │     2068 │ POINT (-120.908113…  │\n",
       "│   145 │   37.065986 │  -119.492349 │ Auberry BioMAT Pro…  │ … │ 145_2021   │     2081 │ POINT (-119.492349…  │\n",
       "│   146 │    37.87842 │   -120.45625 │ Sierra Energy BioM…  │ … │ 146_2021   │     2090 │ POINT (-120.45625 …  │\n",
       "│   148 │   39.951443 │  -120.965536 │ Plumas County Heal…  │ … │ 148_2021   │     2111 │ POINT (-120.965536…  │\n",
       "│   149 │ 37.90911928 │ -119.0647879 │ Town of Mammoth La…  │ … │ 149_2021   │     2127 │ POINT (-119.064787…  │\n",
       "│   150 │   40.896061 │  -121.649039 │ Bioenergy Cluster …  │ … │ 150_2021   │     2133 │ POINT (-121.649039…  │\n",
       "├───────┴─────────────┴──────────────┴──────────────────────┴───┴────────────┴──────────┴──────────────────────┤\n",
       "│ 60 rows (20 shown)                                                                      20 columns (7 shown) │\n",
       "└──────────────────────────────────────────────────────────────────────────────────────────────────────────────┘"
      ]
     },
     "execution_count": 24,
     "metadata": {},
     "output_type": "execute_result"
    }
   ],
   "source": [
    "# Import the Biomass dataset\n",
    "con.sql(\"SELECT * FROM ST_Read('C:/Users/vance/Downloads/CurrentBiomass/Current_Wood_Facility_Database_Biomass.shp')\")"
   ]
  },
  {
   "cell_type": "code",
   "execution_count": 25,
   "metadata": {},
   "outputs": [
    {
     "data": {
      "text/plain": [
       "┌───────┬─────────────┬──────────────┬───┬────────────┬──────────────────────┬──────────┬──────────────────────┐\n",
       "│ RecID │  latitude   │  longitude   │ … │    Year    │      JoinSymbol      │ ObjectId │         geom         │\n",
       "│ int32 │   double    │    double    │   │    date    │       varchar        │  int32   │       geometry       │\n",
       "├───────┼─────────────┼──────────────┼───┼────────────┼──────────────────────┼──────────┼──────────────────────┤\n",
       "│  9001 │ 40.79719014 │ -124.1815646 │ … │ 2020-01-01 │ Operational Large …  │       30 │ POINT (-124.181564…  │\n",
       "│  9002 │ 38.90448023 │ -121.3070281 │ … │ 2020-01-01 │ Operational Large …  │       31 │ POINT (-121.307028…  │\n",
       "│  9003 │ 39.48193681 │ -121.5632263 │ … │ 2020-01-01 │ Operational Cedar …  │       32 │ POINT (-121.563226…  │\n",
       "│  9008 │   40.471498 │  -122.320991 │ … │ 2020-01-01 │ Operational Large …  │       33 │ POINT (-122.320991…  │\n",
       "│  9012 │   40.901169 │  -124.071143 │ … │ 2020-01-01 │ Operational Fence …  │       34 │ POINT (-124.071143…  │\n",
       "│  9013 │ 40.87184621 │ -123.9632726 │ … │ 2020-01-01 │ Operational Small …  │       35 │ POINT (-123.963272…  │\n",
       "│  9026 │  40.8782226 │ -121.7266623 │ … │ 2020-01-01 │ Operational Large …  │       36 │ POINT (-121.726662…  │\n",
       "│  9027 │   40.876365 │  -121.701786 │ … │ 2020-01-01 │ Operational Large …  │       37 │ POINT (-121.701786…  │\n",
       "│  9034 │ 38.46454832 │ -123.0410353 │ … │ 2020-01-01 │ Operational Specia…  │       38 │ POINT (-123.041035…  │\n",
       "│  9036 │ 40.30330794 │ -121.2413703 │ … │ 2020-01-01 │ Operational Large …  │       39 │ POINT (-121.241370…  │\n",
       "│    ·  │      ·      │       ·      │ · │     ·      │          ·           │        · │          ·           │\n",
       "│    ·  │      ·      │       ·      │ · │     ·      │          ·           │        · │          ·           │\n",
       "│    ·  │      ·      │       ·      │ · │     ·      │          ·           │        · │          ·           │\n",
       "│  9107 │ 37.96333505 │ -120.3174788 │ … │ 2020-01-01 │ Operational Large …  │       47 │ POINT (-120.317478…  │\n",
       "│  9113 │ 35.95409644 │ -119.0489178 │ … │ 2020-01-01 │ Operational Large …  │       48 │ POINT (-119.048917…  │\n",
       "│  9117 │ 39.17958875 │ -123.2036368 │ … │ 2020-01-01 │ Operational Large …  │       49 │ POINT (-123.203636…  │\n",
       "│  9119 │   39.183738 │  -123.203868 │ … │ 2020-01-01 │ Operational Large …  │       50 │ POINT (-123.203868…  │\n",
       "│  9120 │ 40.72493045 │ -122.9306377 │ … │ 2020-01-01 │ Operational Large …  │       51 │ POINT (-122.930637…  │\n",
       "│  9121 │ 41.43245271 │ -122.3794955 │ … │ 2020-01-01 │ Operational Peeler…  │       52 │ POINT (-122.379495…  │\n",
       "│  9133 │   41.737758 │  -122.593349 │ … │ 2020-01-01 │ Operational Peeler…  │       53 │ POINT (-122.593349…  │\n",
       "│  9292 │   40.484703 │  -122.345292 │ … │ 2020-01-01 │ Operational Post/P…  │       54 │ POINT (-122.345292…  │\n",
       "│  9294 │   38.766782 │  -122.991567 │ … │ 2020-01-01 │ Operational Fence …  │       55 │ POINT (-122.991567…  │\n",
       "│  9297 │   42.203091 │  -120.352784 │ … │ 2020-01-01 │ Operational Large …  │       56 │ POINT (-120.352784…  │\n",
       "├───────┴─────────────┴──────────────┴───┴────────────┴──────────────────────┴──────────┴──────────────────────┤\n",
       "│ 27 rows (20 shown)                                                                      17 columns (7 shown) │\n",
       "└──────────────────────────────────────────────────────────────────────────────────────────────────────────────┘"
      ]
     },
     "execution_count": 25,
     "metadata": {},
     "output_type": "execute_result"
    }
   ],
   "source": [
    "# Create biomass table from shp file and show\n",
    "con.sql('''\n",
    "    CREATE TABLE IF NOT EXISTS biomass as\n",
    "    SELECT * FROM ST_Read('C:/Users/vance/Downloads/CurrentBiomass/Current_Wood_Facility_Database_Biomass.shp')    \n",
    "''')\n",
    "con.table('sawmill')"
   ]
  },
  {
   "cell_type": "code",
   "execution_count": 26,
   "metadata": {},
   "outputs": [
    {
     "data": {
      "text/plain": [
       "┌─────────────┬─────────────┬─────────┬─────────┬─────────┬───────┐\n",
       "│ column_name │ column_type │  null   │   key   │ default │ extra │\n",
       "│   varchar   │   varchar   │ varchar │ varchar │ varchar │ int32 │\n",
       "├─────────────┼─────────────┼─────────┼─────────┼─────────┼───────┤\n",
       "│ RecID       │ INTEGER     │ YES     │ NULL    │ NULL    │  NULL │\n",
       "│ latitude    │ DOUBLE      │ YES     │ NULL    │ NULL    │  NULL │\n",
       "│ longitude   │ DOUBLE      │ YES     │ NULL    │ NULL    │  NULL │\n",
       "│ Name        │ VARCHAR     │ YES     │ NULL    │ NULL    │  NULL │\n",
       "│ Status      │ VARCHAR     │ YES     │ NULL    │ NULL    │  NULL │\n",
       "│ Owner       │ VARCHAR     │ YES     │ NULL    │ NULL    │  NULL │\n",
       "│ Cogenerati  │ VARCHAR     │ YES     │ NULL    │ NULL    │  NULL │\n",
       "│ Facility_T  │ VARCHAR     │ YES     │ NULL    │ NULL    │  NULL │\n",
       "│ Feedstock_  │ VARCHAR     │ YES     │ NULL    │ NULL    │  NULL │\n",
       "│ MW_Namepla  │ VARCHAR     │ YES     │ NULL    │ NULL    │  NULL │\n",
       "│ MW_Grid     │ VARCHAR     │ YES     │ NULL    │ NULL    │  NULL │\n",
       "│ MW_Parasit  │ VARCHAR     │ YES     │ NULL    │ NULL    │  NULL │\n",
       "│ Employees   │ VARCHAR     │ YES     │ NULL    │ NULL    │  NULL │\n",
       "│ StAddr      │ VARCHAR     │ YES     │ NULL    │ NULL    │  NULL │\n",
       "│ City        │ VARCHAR     │ YES     │ NULL    │ NULL    │  NULL │\n",
       "│ County      │ VARCHAR     │ YES     │ NULL    │ NULL    │  NULL │\n",
       "│ Year        │ DATE        │ YES     │ NULL    │ NULL    │  NULL │\n",
       "│ JoinSymbol  │ VARCHAR     │ YES     │ NULL    │ NULL    │  NULL │\n",
       "│ ObjectId    │ INTEGER     │ YES     │ NULL    │ NULL    │  NULL │\n",
       "│ geom        │ GEOMETRY    │ YES     │ NULL    │ NULL    │  NULL │\n",
       "├─────────────┴─────────────┴─────────┴─────────┴─────────┴───────┤\n",
       "│ 20 rows                                               6 columns │\n",
       "└─────────────────────────────────────────────────────────────────┘"
      ]
     },
     "execution_count": 26,
     "metadata": {},
     "output_type": "execute_result"
    }
   ],
   "source": [
    "# View biomass table schema\n",
    "con.sql('''\n",
    "    DESCRIBE biomass\n",
    "        \n",
    "''')"
   ]
  },
  {
   "cell_type": "code",
   "execution_count": 35,
   "metadata": {},
   "outputs": [
    {
     "data": {
      "text/plain": [
       "┌─────────────┬───────────────┐\n",
       "│   County    │ Total_MW_Grid │\n",
       "│   varchar   │    double     │\n",
       "├─────────────┼───────────────┤\n",
       "│ Shasta      │          94.0 │\n",
       "│ San Joaquin │          45.0 │\n",
       "│ Kern        │          44.0 │\n",
       "│ Riverside   │          44.0 │\n",
       "│ Placer      │          35.4 │\n",
       "│ Jackson     │          30.0 │\n",
       "│ Humboldt    │          27.8 │\n",
       "│ Fresno      │          24.3 │\n",
       "│ Lassen      │          24.0 │\n",
       "│ Tuolumne    │          20.0 │\n",
       "│ Plumas      │          16.0 │\n",
       "│ Sierra      │          13.0 │\n",
       "│ Siskiyou    │          12.0 │\n",
       "│ Madera      │          10.0 │\n",
       "│ Merced      │           0.0 │\n",
       "├─────────────┴───────────────┤\n",
       "│ 15 rows           2 columns │\n",
       "└─────────────────────────────┘"
      ]
     },
     "execution_count": 35,
     "metadata": {},
     "output_type": "execute_result"
    }
   ],
   "source": [
    "# Sum the total MW_Grid by county round to 1 decimal\n",
    "\n",
    "con.sql('''\n",
    "    SELECT County, ROUND(SUM(CAST(MW_Grid AS FLOAT)), 1) as Total_MW_Grid\n",
    "    FROM biomass\n",
    "    GROUP BY County\n",
    "    ORDER BY Total_MW_Grid DESC\n",
    "    LIMIT 15\n",
    "''')"
   ]
  },
  {
   "cell_type": "code",
   "execution_count": null,
   "metadata": {},
   "outputs": [],
   "source": [
    "# Add h3 schema or show both data sets on map\n"
   ]
  },
  {
   "cell_type": "code",
   "execution_count": null,
   "metadata": {},
   "outputs": [],
   "source": []
  }
 ],
 "metadata": {
  "kernelspec": {
   "display_name": "spatial",
   "language": "python",
   "name": "python3"
  },
  "language_info": {
   "codemirror_mode": {
    "name": "ipython",
    "version": 3
   },
   "file_extension": ".py",
   "mimetype": "text/x-python",
   "name": "python",
   "nbconvert_exporter": "python",
   "pygments_lexer": "ipython3",
   "version": "3.11.8"
  }
 },
 "nbformat": 4,
 "nbformat_minor": 2
}
