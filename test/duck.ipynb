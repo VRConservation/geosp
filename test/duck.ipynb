{
 "cells": [
  {
   "cell_type": "code",
   "execution_count": 1,
   "metadata": {},
   "outputs": [],
   "source": [
    "import duckdb\n",
    "import leafmap\n",
    "import pandas as pd"
   ]
  },
  {
   "cell_type": "code",
   "execution_count": 2,
   "metadata": {},
   "outputs": [],
   "source": [
    "con = duckdb.connect()\n",
    "con.install_extension(\"httpfs\")\n",
    "con.load_extension(\"httpfs\")\n",
    "con.install_extension(\"spatial\")\n",
    "con.load_extension(\"spatial\")"
   ]
  },
  {
   "cell_type": "code",
   "execution_count": 3,
   "metadata": {},
   "outputs": [],
   "source": [
    "# world connnectedness data from https://data.humdata.org/dataset/social-connectedness-index\n",
    "url = 'https://data.humdata.org/dataset/e9988552-74e4-4ff4-943f-c782ac8bca87/resource/35ca6ade-a5bd-4782-b266-797169dca74b/download/countries-countries-fb-social-connectedness-index-october-2021.tsv'"
   ]
  },
  {
   "cell_type": "code",
   "execution_count": 4,
   "metadata": {},
   "outputs": [],
   "source": [
    "# Read the data from the URL into a pandas DataFrame\n",
    "df = pd.read_csv(url, sep='\\t')\n",
    "\n",
    "# Convert the DataFrame into a DuckDB table\n",
    "con.register('my_table', df)\n",
    "\n",
    "# Now you can query the table using DuckDB\n",
    "result = con.execute(\"SELECT * FROM my_table\").fetchdf()"
   ]
  },
  {
   "cell_type": "code",
   "execution_count": 5,
   "metadata": {},
   "outputs": [
    {
     "data": {
      "text/html": [
       "<div>\n",
       "<style scoped>\n",
       "    .dataframe tbody tr th:only-of-type {\n",
       "        vertical-align: middle;\n",
       "    }\n",
       "\n",
       "    .dataframe tbody tr th {\n",
       "        vertical-align: top;\n",
       "    }\n",
       "\n",
       "    .dataframe thead th {\n",
       "        text-align: right;\n",
       "    }\n",
       "</style>\n",
       "<table border=\"1\" class=\"dataframe\">\n",
       "  <thead>\n",
       "    <tr style=\"text-align: right;\">\n",
       "      <th></th>\n",
       "      <th>user_loc</th>\n",
       "      <th>fr_loc</th>\n",
       "      <th>scaled_sci</th>\n",
       "    </tr>\n",
       "  </thead>\n",
       "  <tbody>\n",
       "    <tr>\n",
       "      <th>0</th>\n",
       "      <td>AE</td>\n",
       "      <td>AE</td>\n",
       "      <td>1117179</td>\n",
       "    </tr>\n",
       "    <tr>\n",
       "      <th>1</th>\n",
       "      <td>AE</td>\n",
       "      <td>AG</td>\n",
       "      <td>5488</td>\n",
       "    </tr>\n",
       "    <tr>\n",
       "      <th>2</th>\n",
       "      <td>AE</td>\n",
       "      <td>AL</td>\n",
       "      <td>2101</td>\n",
       "    </tr>\n",
       "    <tr>\n",
       "      <th>3</th>\n",
       "      <td>AE</td>\n",
       "      <td>AM</td>\n",
       "      <td>3580</td>\n",
       "    </tr>\n",
       "    <tr>\n",
       "      <th>4</th>\n",
       "      <td>AE</td>\n",
       "      <td>AO</td>\n",
       "      <td>2326</td>\n",
       "    </tr>\n",
       "    <tr>\n",
       "      <th>...</th>\n",
       "      <td>...</td>\n",
       "      <td>...</td>\n",
       "      <td>...</td>\n",
       "    </tr>\n",
       "    <tr>\n",
       "      <th>34220</th>\n",
       "      <td>ZW</td>\n",
       "      <td>XK</td>\n",
       "      <td>262</td>\n",
       "    </tr>\n",
       "    <tr>\n",
       "      <th>34221</th>\n",
       "      <td>ZW</td>\n",
       "      <td>YT</td>\n",
       "      <td>1650</td>\n",
       "    </tr>\n",
       "    <tr>\n",
       "      <th>34222</th>\n",
       "      <td>ZW</td>\n",
       "      <td>ZA</td>\n",
       "      <td>366466</td>\n",
       "    </tr>\n",
       "    <tr>\n",
       "      <th>34223</th>\n",
       "      <td>ZW</td>\n",
       "      <td>ZM</td>\n",
       "      <td>196035</td>\n",
       "    </tr>\n",
       "    <tr>\n",
       "      <th>34224</th>\n",
       "      <td>ZW</td>\n",
       "      <td>ZW</td>\n",
       "      <td>20247600</td>\n",
       "    </tr>\n",
       "  </tbody>\n",
       "</table>\n",
       "<p>34225 rows × 3 columns</p>\n",
       "</div>"
      ],
      "text/plain": [
       "      user_loc fr_loc  scaled_sci\n",
       "0           AE     AE     1117179\n",
       "1           AE     AG        5488\n",
       "2           AE     AL        2101\n",
       "3           AE     AM        3580\n",
       "4           AE     AO        2326\n",
       "...        ...    ...         ...\n",
       "34220       ZW     XK         262\n",
       "34221       ZW     YT        1650\n",
       "34222       ZW     ZA      366466\n",
       "34223       ZW     ZM      196035\n",
       "34224       ZW     ZW    20247600\n",
       "\n",
       "[34225 rows x 3 columns]"
      ]
     },
     "execution_count": 5,
     "metadata": {},
     "output_type": "execute_result"
    }
   ],
   "source": [
    "df"
   ]
  },
  {
   "cell_type": "code",
   "execution_count": 6,
   "metadata": {},
   "outputs": [
    {
     "data": {
      "text/plain": [
       "┌─────────┬────────────┐\n",
       "│ country │   scaled   │\n",
       "│ varchar │   int128   │\n",
       "├─────────┼────────────┤\n",
       "│ SC      │ 1006368457 │\n",
       "│ AG      │  893365845 │\n",
       "│ GD      │  835369954 │\n",
       "│ KI      │  782782835 │\n",
       "│ TO      │  719577449 │\n",
       "│ ST      │  684169236 │\n",
       "│ VC      │  667785101 │\n",
       "│ FM      │  619429818 │\n",
       "│ LC      │  578010894 │\n",
       "│ IM      │  514740394 │\n",
       "├─────────┴────────────┤\n",
       "│ 10 rows    2 columns │\n",
       "└──────────────────────┘"
      ]
     },
     "execution_count": 6,
     "metadata": {},
     "output_type": "execute_result"
    }
   ],
   "source": [
    "con.sql('''\n",
    "    SELECT user_loc as country, SUM(scaled_sci) as scaled\n",
    "    FROM my_table\n",
    "    GROUP BY user_loc\n",
    "    ORDER BY scaled DESC\n",
    "    LIMIT 10            \n",
    "''')"
   ]
  },
  {
   "cell_type": "code",
   "execution_count": 7,
   "metadata": {},
   "outputs": [],
   "source": [
    "# SC Seychelles, AG Antigua/Barbuda, GD Grenada, KI Kiribati, TO Tonga, ST Sao Tome, VC St Vincent, FM Micronesia, LC St. Lucia, IM Isle of Man"
   ]
  },
  {
   "cell_type": "code",
   "execution_count": 8,
   "metadata": {},
   "outputs": [],
   "source": [
    "# US counties data from https://data.humdata.org/dataset/social-connectedness-index\n",
    "url_state = 'https://data.humdata.org/dataset/e9988552-74e4-4ff4-943f-c782ac8bca87/resource/868a2fdb-f5c8-4a98-af7c-cfc8bf0daeb3/download/us-counties-countries-fb-social-connectedness-index-october-2021.tsv'"
   ]
  },
  {
   "cell_type": "code",
   "execution_count": 9,
   "metadata": {},
   "outputs": [
    {
     "data": {
      "text/html": [
       "<div>\n",
       "<style scoped>\n",
       "    .dataframe tbody tr th:only-of-type {\n",
       "        vertical-align: middle;\n",
       "    }\n",
       "\n",
       "    .dataframe tbody tr th {\n",
       "        vertical-align: top;\n",
       "    }\n",
       "\n",
       "    .dataframe thead th {\n",
       "        text-align: right;\n",
       "    }\n",
       "</style>\n",
       "<table border=\"1\" class=\"dataframe\">\n",
       "  <thead>\n",
       "    <tr style=\"text-align: right;\">\n",
       "      <th></th>\n",
       "      <th>ZIP</th>\n",
       "      <th>SCALED</th>\n",
       "    </tr>\n",
       "  </thead>\n",
       "  <tbody>\n",
       "    <tr>\n",
       "      <th>0</th>\n",
       "      <td>66010</td>\n",
       "      <td>1.235691e+09</td>\n",
       "    </tr>\n",
       "    <tr>\n",
       "      <th>1</th>\n",
       "      <td>69100</td>\n",
       "      <td>6.259993e+08</td>\n",
       "    </tr>\n",
       "    <tr>\n",
       "      <th>2</th>\n",
       "      <td>60010</td>\n",
       "      <td>4.407371e+08</td>\n",
       "    </tr>\n",
       "    <tr>\n",
       "      <th>3</th>\n",
       "      <td>69110</td>\n",
       "      <td>2.921051e+08</td>\n",
       "    </tr>\n",
       "    <tr>\n",
       "      <th>4</th>\n",
       "      <td>72107</td>\n",
       "      <td>2.793023e+08</td>\n",
       "    </tr>\n",
       "    <tr>\n",
       "      <th>5</th>\n",
       "      <td>72019</td>\n",
       "      <td>2.662062e+08</td>\n",
       "    </tr>\n",
       "    <tr>\n",
       "      <th>6</th>\n",
       "      <td>72105</td>\n",
       "      <td>2.578541e+08</td>\n",
       "    </tr>\n",
       "    <tr>\n",
       "      <th>7</th>\n",
       "      <td>72073</td>\n",
       "      <td>2.571212e+08</td>\n",
       "    </tr>\n",
       "    <tr>\n",
       "      <th>8</th>\n",
       "      <td>78010</td>\n",
       "      <td>2.555521e+08</td>\n",
       "    </tr>\n",
       "    <tr>\n",
       "      <th>9</th>\n",
       "      <td>72149</td>\n",
       "      <td>2.472858e+08</td>\n",
       "    </tr>\n",
       "  </tbody>\n",
       "</table>\n",
       "</div>"
      ],
      "text/plain": [
       "     ZIP        SCALED\n",
       "0  66010  1.235691e+09\n",
       "1  69100  6.259993e+08\n",
       "2  60010  4.407371e+08\n",
       "3  69110  2.921051e+08\n",
       "4  72107  2.793023e+08\n",
       "5  72019  2.662062e+08\n",
       "6  72105  2.578541e+08\n",
       "7  72073  2.571212e+08\n",
       "8  78010  2.555521e+08\n",
       "9  72149  2.472858e+08"
      ]
     },
     "execution_count": 9,
     "metadata": {},
     "output_type": "execute_result"
    }
   ],
   "source": [
    "# Read the data from the URL into a pandas DataFrame\n",
    "df_zip = pd.read_csv(url_state, sep='\\t')\n",
    "\n",
    "# Register the DataFrame as a DuckDB table\n",
    "con.register('state_table', df_zip)\n",
    "\n",
    "# Perform the grouping and ordering operations\n",
    "result = con.execute(\"\"\"\n",
    "    SELECT user_loc as ZIP, SUM(scaled_sci) as SCALED\n",
    "    FROM state_table\n",
    "    GROUP BY user_loc\n",
    "    ORDER BY SCALED DESC\n",
    "    LIMIT 10\n",
    "\"\"\").fetchdf()\n",
    "result"
   ]
  },
  {
   "cell_type": "code",
   "execution_count": 10,
   "metadata": {},
   "outputs": [
    {
     "data": {
      "text/plain": [
       "┌───────┬─────────────┬──────────────┬───┬────────────┬──────────────────────┬──────────┬──────────────────────┐\n",
       "│ RecID │  latitude   │  longitude   │ … │    Year    │      JoinSymbol      │ ObjectId │         geom         │\n",
       "│ int32 │   double    │    double    │   │    date    │       varchar        │  int32   │       geometry       │\n",
       "├───────┼─────────────┼──────────────┼───┼────────────┼──────────────────────┼──────────┼──────────────────────┤\n",
       "│  9001 │ 40.79719014 │ -124.1815646 │ … │ 2020-01-01 │ Operational Large …  │       30 │ POINT (-124.181564…  │\n",
       "│  9002 │ 38.90448023 │ -121.3070281 │ … │ 2020-01-01 │ Operational Large …  │       31 │ POINT (-121.307028…  │\n",
       "│  9003 │ 39.48193681 │ -121.5632263 │ … │ 2020-01-01 │ Operational Cedar …  │       32 │ POINT (-121.563226…  │\n",
       "│  9008 │   40.471498 │  -122.320991 │ … │ 2020-01-01 │ Operational Large …  │       33 │ POINT (-122.320991…  │\n",
       "│  9012 │   40.901169 │  -124.071143 │ … │ 2020-01-01 │ Operational Fence …  │       34 │ POINT (-124.071143…  │\n",
       "│  9013 │ 40.87184621 │ -123.9632726 │ … │ 2020-01-01 │ Operational Small …  │       35 │ POINT (-123.963272…  │\n",
       "│  9026 │  40.8782226 │ -121.7266623 │ … │ 2020-01-01 │ Operational Large …  │       36 │ POINT (-121.726662…  │\n",
       "│  9027 │   40.876365 │  -121.701786 │ … │ 2020-01-01 │ Operational Large …  │       37 │ POINT (-121.701786…  │\n",
       "│  9034 │ 38.46454832 │ -123.0410353 │ … │ 2020-01-01 │ Operational Specia…  │       38 │ POINT (-123.041035…  │\n",
       "│  9036 │ 40.30330794 │ -121.2413703 │ … │ 2020-01-01 │ Operational Large …  │       39 │ POINT (-121.241370…  │\n",
       "│    ·  │      ·      │       ·      │ · │     ·      │          ·           │        · │          ·           │\n",
       "│    ·  │      ·      │       ·      │ · │     ·      │          ·           │        · │          ·           │\n",
       "│    ·  │      ·      │       ·      │ · │     ·      │          ·           │        · │          ·           │\n",
       "│  9107 │ 37.96333505 │ -120.3174788 │ … │ 2020-01-01 │ Operational Large …  │       47 │ POINT (-120.317478…  │\n",
       "│  9113 │ 35.95409644 │ -119.0489178 │ … │ 2020-01-01 │ Operational Large …  │       48 │ POINT (-119.048917…  │\n",
       "│  9117 │ 39.17958875 │ -123.2036368 │ … │ 2020-01-01 │ Operational Large …  │       49 │ POINT (-123.203636…  │\n",
       "│  9119 │   39.183738 │  -123.203868 │ … │ 2020-01-01 │ Operational Large …  │       50 │ POINT (-123.203868…  │\n",
       "│  9120 │ 40.72493045 │ -122.9306377 │ … │ 2020-01-01 │ Operational Large …  │       51 │ POINT (-122.930637…  │\n",
       "│  9121 │ 41.43245271 │ -122.3794955 │ … │ 2020-01-01 │ Operational Peeler…  │       52 │ POINT (-122.379495…  │\n",
       "│  9133 │   41.737758 │  -122.593349 │ … │ 2020-01-01 │ Operational Peeler…  │       53 │ POINT (-122.593349…  │\n",
       "│  9292 │   40.484703 │  -122.345292 │ … │ 2020-01-01 │ Operational Post/P…  │       54 │ POINT (-122.345292…  │\n",
       "│  9294 │   38.766782 │  -122.991567 │ … │ 2020-01-01 │ Operational Fence …  │       55 │ POINT (-122.991567…  │\n",
       "│  9297 │   42.203091 │  -120.352784 │ … │ 2020-01-01 │ Operational Large …  │       56 │ POINT (-120.352784…  │\n",
       "├───────┴─────────────┴──────────────┴───┴────────────┴──────────────────────┴──────────┴──────────────────────┤\n",
       "│ 27 rows (20 shown)                                                                      17 columns (7 shown) │\n",
       "└──────────────────────────────────────────────────────────────────────────────────────────────────────────────┘"
      ]
     },
     "execution_count": 10,
     "metadata": {},
     "output_type": "execute_result"
    }
   ],
   "source": [
    "# Import the UC Woody Biomass Utilization Group's Current Wood Facility Databases\n",
    "# Requested online, received email with zipped folders\n",
    "# Start with sawmills\n",
    "con.sql(\"SELECT * FROM ST_Read('C:/Users/vance/Downloads/CurrentSawmill/Current_Wood_Facility_Database_Primary_Wood_Processing.shp')\")"
   ]
  },
  {
   "cell_type": "code",
   "execution_count": 11,
   "metadata": {},
   "outputs": [
    {
     "data": {
      "text/plain": [
       "┌───────┬─────────────┬──────────────┬───┬────────────┬──────────────────────┬──────────┬──────────────────────┐\n",
       "│ RecID │  latitude   │  longitude   │ … │    Year    │      JoinSymbol      │ ObjectId │         geom         │\n",
       "│ int32 │   double    │    double    │   │    date    │       varchar        │  int32   │       geometry       │\n",
       "├───────┼─────────────┼──────────────┼───┼────────────┼──────────────────────┼──────────┼──────────────────────┤\n",
       "│  9001 │ 40.79719014 │ -124.1815646 │ … │ 2020-01-01 │ Operational Large …  │       30 │ POINT (-124.181564…  │\n",
       "│  9002 │ 38.90448023 │ -121.3070281 │ … │ 2020-01-01 │ Operational Large …  │       31 │ POINT (-121.307028…  │\n",
       "│  9003 │ 39.48193681 │ -121.5632263 │ … │ 2020-01-01 │ Operational Cedar …  │       32 │ POINT (-121.563226…  │\n",
       "│  9008 │   40.471498 │  -122.320991 │ … │ 2020-01-01 │ Operational Large …  │       33 │ POINT (-122.320991…  │\n",
       "│  9012 │   40.901169 │  -124.071143 │ … │ 2020-01-01 │ Operational Fence …  │       34 │ POINT (-124.071143…  │\n",
       "│  9013 │ 40.87184621 │ -123.9632726 │ … │ 2020-01-01 │ Operational Small …  │       35 │ POINT (-123.963272…  │\n",
       "│  9026 │  40.8782226 │ -121.7266623 │ … │ 2020-01-01 │ Operational Large …  │       36 │ POINT (-121.726662…  │\n",
       "│  9027 │   40.876365 │  -121.701786 │ … │ 2020-01-01 │ Operational Large …  │       37 │ POINT (-121.701786…  │\n",
       "│  9034 │ 38.46454832 │ -123.0410353 │ … │ 2020-01-01 │ Operational Specia…  │       38 │ POINT (-123.041035…  │\n",
       "│  9036 │ 40.30330794 │ -121.2413703 │ … │ 2020-01-01 │ Operational Large …  │       39 │ POINT (-121.241370…  │\n",
       "│    ·  │      ·      │       ·      │ · │     ·      │          ·           │        · │          ·           │\n",
       "│    ·  │      ·      │       ·      │ · │     ·      │          ·           │        · │          ·           │\n",
       "│    ·  │      ·      │       ·      │ · │     ·      │          ·           │        · │          ·           │\n",
       "│  9107 │ 37.96333505 │ -120.3174788 │ … │ 2020-01-01 │ Operational Large …  │       47 │ POINT (-120.317478…  │\n",
       "│  9113 │ 35.95409644 │ -119.0489178 │ … │ 2020-01-01 │ Operational Large …  │       48 │ POINT (-119.048917…  │\n",
       "│  9117 │ 39.17958875 │ -123.2036368 │ … │ 2020-01-01 │ Operational Large …  │       49 │ POINT (-123.203636…  │\n",
       "│  9119 │   39.183738 │  -123.203868 │ … │ 2020-01-01 │ Operational Large …  │       50 │ POINT (-123.203868…  │\n",
       "│  9120 │ 40.72493045 │ -122.9306377 │ … │ 2020-01-01 │ Operational Large …  │       51 │ POINT (-122.930637…  │\n",
       "│  9121 │ 41.43245271 │ -122.3794955 │ … │ 2020-01-01 │ Operational Peeler…  │       52 │ POINT (-122.379495…  │\n",
       "│  9133 │   41.737758 │  -122.593349 │ … │ 2020-01-01 │ Operational Peeler…  │       53 │ POINT (-122.593349…  │\n",
       "│  9292 │   40.484703 │  -122.345292 │ … │ 2020-01-01 │ Operational Post/P…  │       54 │ POINT (-122.345292…  │\n",
       "│  9294 │   38.766782 │  -122.991567 │ … │ 2020-01-01 │ Operational Fence …  │       55 │ POINT (-122.991567…  │\n",
       "│  9297 │   42.203091 │  -120.352784 │ … │ 2020-01-01 │ Operational Large …  │       56 │ POINT (-120.352784…  │\n",
       "├───────┴─────────────┴──────────────┴───┴────────────┴──────────────────────┴──────────┴──────────────────────┤\n",
       "│ 27 rows (20 shown)                                                                      17 columns (7 shown) │\n",
       "└──────────────────────────────────────────────────────────────────────────────────────────────────────────────┘"
      ]
     },
     "execution_count": 11,
     "metadata": {},
     "output_type": "execute_result"
    }
   ],
   "source": [
    "# Create sawmill table from shp file and show\n",
    "con.sql('''\n",
    "    CREATE TABLE IF NOT EXISTS sawmill as\n",
    "    SELECT * FROM ST_Read('C:/Users/vance/Downloads/CurrentSawmill/Current_Wood_Facility_Database_Primary_Wood_Processing.shp')    \n",
    "''')\n",
    "con.table('sawmill')"
   ]
  },
  {
   "cell_type": "code",
   "execution_count": 12,
   "metadata": {},
   "outputs": [
    {
     "data": {
      "text/plain": [
       "┌─────────────┬─────────────┬─────────┬─────────┬─────────┬───────┐\n",
       "│ column_name │ column_type │  null   │   key   │ default │ extra │\n",
       "│   varchar   │   varchar   │ varchar │ varchar │ varchar │ int32 │\n",
       "├─────────────┼─────────────┼─────────┼─────────┼─────────┼───────┤\n",
       "│ RecID       │ INTEGER     │ YES     │ NULL    │ NULL    │  NULL │\n",
       "│ latitude    │ DOUBLE      │ YES     │ NULL    │ NULL    │  NULL │\n",
       "│ longitude   │ DOUBLE      │ YES     │ NULL    │ NULL    │  NULL │\n",
       "│ Name        │ VARCHAR     │ YES     │ NULL    │ NULL    │  NULL │\n",
       "│ Status      │ VARCHAR     │ YES     │ NULL    │ NULL    │  NULL │\n",
       "│ Owner       │ VARCHAR     │ YES     │ NULL    │ NULL    │  NULL │\n",
       "│ Cogenerati  │ VARCHAR     │ YES     │ NULL    │ NULL    │  NULL │\n",
       "│ Facility_T  │ VARCHAR     │ YES     │ NULL    │ NULL    │  NULL │\n",
       "│ Feedstock_  │ VARCHAR     │ YES     │ NULL    │ NULL    │  NULL │\n",
       "│ Employees   │ VARCHAR     │ YES     │ NULL    │ NULL    │  NULL │\n",
       "│ StAddr      │ VARCHAR     │ YES     │ NULL    │ NULL    │  NULL │\n",
       "│ City        │ VARCHAR     │ YES     │ NULL    │ NULL    │  NULL │\n",
       "│ County      │ VARCHAR     │ YES     │ NULL    │ NULL    │  NULL │\n",
       "│ Year        │ DATE        │ YES     │ NULL    │ NULL    │  NULL │\n",
       "│ JoinSymbol  │ VARCHAR     │ YES     │ NULL    │ NULL    │  NULL │\n",
       "│ ObjectId    │ INTEGER     │ YES     │ NULL    │ NULL    │  NULL │\n",
       "│ geom        │ GEOMETRY    │ YES     │ NULL    │ NULL    │  NULL │\n",
       "├─────────────┴─────────────┴─────────┴─────────┴─────────┴───────┤\n",
       "│ 17 rows                                               6 columns │\n",
       "└─────────────────────────────────────────────────────────────────┘"
      ]
     },
     "execution_count": 12,
     "metadata": {},
     "output_type": "execute_result"
    }
   ],
   "source": [
    "# View sawmill table schema\n",
    "con.sql('''\n",
    "    DESCRIBE sawmill\n",
    "        \n",
    "''')"
   ]
  },
  {
   "cell_type": "code",
   "execution_count": 13,
   "metadata": {},
   "outputs": [
    {
     "data": {
      "text/plain": [
       "┌────────────┬───────┐\n",
       "│   County   │ Count │\n",
       "│  varchar   │ int64 │\n",
       "├────────────┼───────┤\n",
       "│ Shasta     │     5 │\n",
       "│ Humboldt   │     4 │\n",
       "│ Sonoma     │     3 │\n",
       "│ Plumas     │     2 │\n",
       "│ Butte      │     2 │\n",
       "│ Mendocino  │     2 │\n",
       "│ Siskiyou   │     2 │\n",
       "│ Tuolumne   │     2 │\n",
       "│ Trinity    │     1 │\n",
       "│ Lake, OR   │     1 │\n",
       "│ Placer     │     1 │\n",
       "│ Tulare     │     1 │\n",
       "│ Santa Cruz │     1 │\n",
       "├────────────┴───────┤\n",
       "│ 13 rows  2 columns │\n",
       "└────────────────────┘"
      ]
     },
     "execution_count": 13,
     "metadata": {},
     "output_type": "execute_result"
    }
   ],
   "source": [
    "# Sum sawmills by county\n",
    "con.sql('''\n",
    "    SELECT County, COUNT(*) as Count\n",
    "    FROM sawmill\n",
    "    GROUP BY County\n",
    "    ORDER BY count DESC\n",
    "''')"
   ]
  },
  {
   "cell_type": "code",
   "execution_count": 14,
   "metadata": {},
   "outputs": [
    {
     "data": {
      "text/plain": [
       "┌───────┬─────────────┬──────────────┬──────────────────────┬───┬────────────┬──────────┬──────────────────────┐\n",
       "│ RecID │  latitude   │  longitude   │         Name         │ … │ JoinSymbol │ ObjectId │         geom         │\n",
       "│ int32 │   double    │    double    │       varchar        │   │  varchar   │  int32   │       geometry       │\n",
       "├───────┼─────────────┼──────────────┼──────────────────────┼───┼────────────┼──────────┼──────────────────────┤\n",
       "│    25 │   35.576448 │  -119.005818 │ DTE Mt. Poso Cogen   │ … │ 25_2021    │       27 │ POINT (-119.005818…  │\n",
       "│    14 │   36.569581 │  -119.418984 │ Dinuba Energy        │ … │ 14_2021    │       56 │ POINT (-119.418984…  │\n",
       "│    15 │   38.524353 │  -121.903077 │ Dixon Ridge Farms …  │ … │ 15_2021    │       94 │ POINT (-121.903077…  │\n",
       "│    16 │   37.943945 │  -121.330053 │ DTE Stockton Bioma…  │ … │ 16_2021    │      110 │ POINT (-121.330053…  │\n",
       "│    22 │   36.755903 │  -120.365273 │ Covanta Mendota Po…  │ … │ 22_2021    │      122 │ POINT (-120.365273…  │\n",
       "│    19 │   32.906602 │   -115.51372 │ Imperial Valley Re…  │ … │ 19_2021    │      124 │ POINT (-115.51372 …  │\n",
       "│    18 │   40.368492 │  -120.264999 │ Honey Lake Power     │ … │ 18_2021    │      206 │ POINT (-120.264999…  │\n",
       "│    28 │   37.874644 │  -120.477546 │ Pacific Ultrapower…  │ … │ 28_2021    │      297 │ POINT (-120.477546…  │\n",
       "│     5 │   40.879724 │  -121.720406 │ Burney Forest Prod…  │ … │ 5_2021     │      345 │ POINT (-121.720406…  │\n",
       "│     6 │   40.909703 │  -121.639961 │ Covanta Burney Mtn…  │ … │ 6_2021     │      379 │ POINT (-121.639961…  │\n",
       "│     · │       ·     │       ·      │          ·           │ · │   ·        │       ·  │          ·           │\n",
       "│     · │       ·     │       ·      │          ·           │ · │   ·        │       ·  │          ·           │\n",
       "│     · │       ·     │       ·      │          ·           │ · │   ·        │       ·  │          ·           │\n",
       "│   140 │   37.505994 │  -120.012666 │ Mariposa BioMAT Pr…  │ … │ 140_2021   │     2030 │ POINT (-120.012666…  │\n",
       "│   141 │ 39.46624093 │ -121.5218733 │ Mooretown Rancheri…  │ … │ 141_2021   │     2039 │ POINT (-121.521873…  │\n",
       "│   142 │ 39.80247641 │ -123.2495589 │ Round Valley BioMA…  │ … │ 142_2021   │     2048 │ POINT (-123.249558…  │\n",
       "│   143 │ 39.65483903 │ -123.6251896 │ Branscomb BioMAT P…  │ … │ 143_2021   │     2057 │ POINT (-123.625189…  │\n",
       "│   144 │ 40.09576776 │ -120.9081135 │ Crescent Mill BioM…  │ … │ 144_2021   │     2068 │ POINT (-120.908113…  │\n",
       "│   145 │   37.065986 │  -119.492349 │ Auberry BioMAT Pro…  │ … │ 145_2021   │     2081 │ POINT (-119.492349…  │\n",
       "│   146 │    37.87842 │   -120.45625 │ Sierra Energy BioM…  │ … │ 146_2021   │     2090 │ POINT (-120.45625 …  │\n",
       "│   148 │   39.951443 │  -120.965536 │ Plumas County Heal…  │ … │ 148_2021   │     2111 │ POINT (-120.965536…  │\n",
       "│   149 │ 37.90911928 │ -119.0647879 │ Town of Mammoth La…  │ … │ 149_2021   │     2127 │ POINT (-119.064787…  │\n",
       "│   150 │   40.896061 │  -121.649039 │ Bioenergy Cluster …  │ … │ 150_2021   │     2133 │ POINT (-121.649039…  │\n",
       "├───────┴─────────────┴──────────────┴──────────────────────┴───┴────────────┴──────────┴──────────────────────┤\n",
       "│ 60 rows (20 shown)                                                                      20 columns (7 shown) │\n",
       "└──────────────────────────────────────────────────────────────────────────────────────────────────────────────┘"
      ]
     },
     "execution_count": 14,
     "metadata": {},
     "output_type": "execute_result"
    }
   ],
   "source": [
    "# Import the Biomass dataset\n",
    "con.sql(\"SELECT * FROM ST_Read('C:/Users/vance/Downloads/CurrentBiomass/Current_Wood_Facility_Database_Biomass.shp')\")"
   ]
  },
  {
   "cell_type": "code",
   "execution_count": 15,
   "metadata": {},
   "outputs": [
    {
     "data": {
      "text/plain": [
       "┌───────┬─────────────┬──────────────┬───┬────────────┬──────────────────────┬──────────┬──────────────────────┐\n",
       "│ RecID │  latitude   │  longitude   │ … │    Year    │      JoinSymbol      │ ObjectId │         geom         │\n",
       "│ int32 │   double    │    double    │   │    date    │       varchar        │  int32   │       geometry       │\n",
       "├───────┼─────────────┼──────────────┼───┼────────────┼──────────────────────┼──────────┼──────────────────────┤\n",
       "│  9001 │ 40.79719014 │ -124.1815646 │ … │ 2020-01-01 │ Operational Large …  │       30 │ POINT (-124.181564…  │\n",
       "│  9002 │ 38.90448023 │ -121.3070281 │ … │ 2020-01-01 │ Operational Large …  │       31 │ POINT (-121.307028…  │\n",
       "│  9003 │ 39.48193681 │ -121.5632263 │ … │ 2020-01-01 │ Operational Cedar …  │       32 │ POINT (-121.563226…  │\n",
       "│  9008 │   40.471498 │  -122.320991 │ … │ 2020-01-01 │ Operational Large …  │       33 │ POINT (-122.320991…  │\n",
       "│  9012 │   40.901169 │  -124.071143 │ … │ 2020-01-01 │ Operational Fence …  │       34 │ POINT (-124.071143…  │\n",
       "│  9013 │ 40.87184621 │ -123.9632726 │ … │ 2020-01-01 │ Operational Small …  │       35 │ POINT (-123.963272…  │\n",
       "│  9026 │  40.8782226 │ -121.7266623 │ … │ 2020-01-01 │ Operational Large …  │       36 │ POINT (-121.726662…  │\n",
       "│  9027 │   40.876365 │  -121.701786 │ … │ 2020-01-01 │ Operational Large …  │       37 │ POINT (-121.701786…  │\n",
       "│  9034 │ 38.46454832 │ -123.0410353 │ … │ 2020-01-01 │ Operational Specia…  │       38 │ POINT (-123.041035…  │\n",
       "│  9036 │ 40.30330794 │ -121.2413703 │ … │ 2020-01-01 │ Operational Large …  │       39 │ POINT (-121.241370…  │\n",
       "│    ·  │      ·      │       ·      │ · │     ·      │          ·           │        · │          ·           │\n",
       "│    ·  │      ·      │       ·      │ · │     ·      │          ·           │        · │          ·           │\n",
       "│    ·  │      ·      │       ·      │ · │     ·      │          ·           │        · │          ·           │\n",
       "│  9107 │ 37.96333505 │ -120.3174788 │ … │ 2020-01-01 │ Operational Large …  │       47 │ POINT (-120.317478…  │\n",
       "│  9113 │ 35.95409644 │ -119.0489178 │ … │ 2020-01-01 │ Operational Large …  │       48 │ POINT (-119.048917…  │\n",
       "│  9117 │ 39.17958875 │ -123.2036368 │ … │ 2020-01-01 │ Operational Large …  │       49 │ POINT (-123.203636…  │\n",
       "│  9119 │   39.183738 │  -123.203868 │ … │ 2020-01-01 │ Operational Large …  │       50 │ POINT (-123.203868…  │\n",
       "│  9120 │ 40.72493045 │ -122.9306377 │ … │ 2020-01-01 │ Operational Large …  │       51 │ POINT (-122.930637…  │\n",
       "│  9121 │ 41.43245271 │ -122.3794955 │ … │ 2020-01-01 │ Operational Peeler…  │       52 │ POINT (-122.379495…  │\n",
       "│  9133 │   41.737758 │  -122.593349 │ … │ 2020-01-01 │ Operational Peeler…  │       53 │ POINT (-122.593349…  │\n",
       "│  9292 │   40.484703 │  -122.345292 │ … │ 2020-01-01 │ Operational Post/P…  │       54 │ POINT (-122.345292…  │\n",
       "│  9294 │   38.766782 │  -122.991567 │ … │ 2020-01-01 │ Operational Fence …  │       55 │ POINT (-122.991567…  │\n",
       "│  9297 │   42.203091 │  -120.352784 │ … │ 2020-01-01 │ Operational Large …  │       56 │ POINT (-120.352784…  │\n",
       "├───────┴─────────────┴──────────────┴───┴────────────┴──────────────────────┴──────────┴──────────────────────┤\n",
       "│ 27 rows (20 shown)                                                                      17 columns (7 shown) │\n",
       "└──────────────────────────────────────────────────────────────────────────────────────────────────────────────┘"
      ]
     },
     "execution_count": 15,
     "metadata": {},
     "output_type": "execute_result"
    }
   ],
   "source": [
    "# Create biomass table from shp file and show\n",
    "con.sql('''\n",
    "    CREATE TABLE IF NOT EXISTS biomass as\n",
    "    SELECT * FROM ST_Read('C:/Users/vance/Downloads/CurrentBiomass/Current_Wood_Facility_Database_Biomass.shp')    \n",
    "''')\n",
    "con.table('sawmill')"
   ]
  },
  {
   "cell_type": "code",
   "execution_count": 16,
   "metadata": {},
   "outputs": [
    {
     "data": {
      "text/plain": [
       "┌─────────────┬─────────────┬─────────┬─────────┬─────────┬───────┐\n",
       "│ column_name │ column_type │  null   │   key   │ default │ extra │\n",
       "│   varchar   │   varchar   │ varchar │ varchar │ varchar │ int32 │\n",
       "├─────────────┼─────────────┼─────────┼─────────┼─────────┼───────┤\n",
       "│ RecID       │ INTEGER     │ YES     │ NULL    │ NULL    │  NULL │\n",
       "│ latitude    │ DOUBLE      │ YES     │ NULL    │ NULL    │  NULL │\n",
       "│ longitude   │ DOUBLE      │ YES     │ NULL    │ NULL    │  NULL │\n",
       "│ Name        │ VARCHAR     │ YES     │ NULL    │ NULL    │  NULL │\n",
       "│ Status      │ VARCHAR     │ YES     │ NULL    │ NULL    │  NULL │\n",
       "│ Owner       │ VARCHAR     │ YES     │ NULL    │ NULL    │  NULL │\n",
       "│ Cogenerati  │ VARCHAR     │ YES     │ NULL    │ NULL    │  NULL │\n",
       "│ Facility_T  │ VARCHAR     │ YES     │ NULL    │ NULL    │  NULL │\n",
       "│ Feedstock_  │ VARCHAR     │ YES     │ NULL    │ NULL    │  NULL │\n",
       "│ MW_Namepla  │ VARCHAR     │ YES     │ NULL    │ NULL    │  NULL │\n",
       "│ MW_Grid     │ VARCHAR     │ YES     │ NULL    │ NULL    │  NULL │\n",
       "│ MW_Parasit  │ VARCHAR     │ YES     │ NULL    │ NULL    │  NULL │\n",
       "│ Employees   │ VARCHAR     │ YES     │ NULL    │ NULL    │  NULL │\n",
       "│ StAddr      │ VARCHAR     │ YES     │ NULL    │ NULL    │  NULL │\n",
       "│ City        │ VARCHAR     │ YES     │ NULL    │ NULL    │  NULL │\n",
       "│ County      │ VARCHAR     │ YES     │ NULL    │ NULL    │  NULL │\n",
       "│ Year        │ DATE        │ YES     │ NULL    │ NULL    │  NULL │\n",
       "│ JoinSymbol  │ VARCHAR     │ YES     │ NULL    │ NULL    │  NULL │\n",
       "│ ObjectId    │ INTEGER     │ YES     │ NULL    │ NULL    │  NULL │\n",
       "│ geom        │ GEOMETRY    │ YES     │ NULL    │ NULL    │  NULL │\n",
       "├─────────────┴─────────────┴─────────┴─────────┴─────────┴───────┤\n",
       "│ 20 rows                                               6 columns │\n",
       "└─────────────────────────────────────────────────────────────────┘"
      ]
     },
     "execution_count": 16,
     "metadata": {},
     "output_type": "execute_result"
    }
   ],
   "source": [
    "# View biomass table schema\n",
    "con.sql('''\n",
    "    DESCRIBE biomass\n",
    "        \n",
    "''')"
   ]
  },
  {
   "cell_type": "code",
   "execution_count": 17,
   "metadata": {},
   "outputs": [
    {
     "data": {
      "text/plain": [
       "┌─────────────┬───────────────┐\n",
       "│   County    │ Total_MW_Grid │\n",
       "│   varchar   │    double     │\n",
       "├─────────────┼───────────────┤\n",
       "│ Shasta      │          94.0 │\n",
       "│ San Joaquin │          45.0 │\n",
       "│ Riverside   │          44.0 │\n",
       "│ Kern        │          44.0 │\n",
       "│ Placer      │          35.4 │\n",
       "│ Jackson     │          30.0 │\n",
       "│ Humboldt    │          27.8 │\n",
       "│ Fresno      │          24.3 │\n",
       "│ Lassen      │          24.0 │\n",
       "│ Tuolumne    │          20.0 │\n",
       "│ Plumas      │          16.0 │\n",
       "│ Sierra      │          13.0 │\n",
       "│ Siskiyou    │          12.0 │\n",
       "│ Madera      │          10.0 │\n",
       "│ Yolo        │           0.0 │\n",
       "├─────────────┴───────────────┤\n",
       "│ 15 rows           2 columns │\n",
       "└─────────────────────────────┘"
      ]
     },
     "execution_count": 17,
     "metadata": {},
     "output_type": "execute_result"
    }
   ],
   "source": [
    "# Sum the total MW_Grid by county round to 1 decimal\n",
    "\n",
    "con.sql('''\n",
    "    SELECT County, ROUND(SUM(CAST(MW_Grid AS FLOAT)), 1) as Total_MW_Grid\n",
    "    FROM biomass\n",
    "    GROUP BY County\n",
    "    ORDER BY Total_MW_Grid DESC\n",
    "    LIMIT 15\n",
    "''')"
   ]
  },
  {
   "cell_type": "code",
   "execution_count": 18,
   "metadata": {},
   "outputs": [],
   "source": [
    "# Add h3 schema or show both data sets on map\n"
   ]
  },
  {
   "cell_type": "code",
   "execution_count": 19,
   "metadata": {},
   "outputs": [
    {
     "data": {
      "text/plain": [
       "┌─────────┬─────────┬─────────┬────────────┬─────────┬───┬─────────┬─────────┬──────────┬─────────────┬───────────────┐\n",
       "│  UNIT   │  YEAR   │ DECADE  │   ACRES    │ AGENCY  │ … │  DAYS   │  CAUSE  │ OBJECTID │ Shape__Area │ Shape__Length │\n",
       "│ varchar │ varchar │ varchar │  varchar   │ varchar │   │ varchar │ varchar │ varchar  │   varchar   │    varchar    │\n",
       "├─────────┼─────────┼─────────┼────────────┼─────────┼───┼─────────┼─────────┼──────────┼─────────────┼───────────────┤\n",
       "│ MNF     │ 2020    │ 2020    │ 1032699.63 │ USF     │ … │ 87      │ 1       │ 21743    │ 7116307900  │ 1695542.555   │\n",
       "│ BTU     │ 2021    │ 2020    │ 963405.44  │ CDF     │ … │ 103     │ 11      │ 43182    │ 6692866165  │ 2010262.448   │\n",
       "│ SIF     │ 2002    │ 2000    │ 501082.03  │ USF     │ … │ 118     │ 1       │ 32139    │ 3708702192  │ 545191.7425   │\n",
       "│ LNU     │ 2018    │ 2010    │ 410202.47  │ CDF     │ … │ 54      │ 9       │ 42292    │ 2774859061  │ 450086.7901   │\n",
       "│ SCU     │ 2020    │ 2020    │ 396824.47  │ CDF     │ … │ 26      │ 1       │ 21616    │ 2545883719  │ 634336.3388   │\n",
       "│ SNF     │ 2020    │ 2020    │ 379842.41  │ USF     │ … │ 111     │ 14      │ 21688    │ 2435747264  │ 1030210.522   │\n",
       "│ PNF     │ 2020    │ 2020    │ 318797.25  │ USF     │ … │ 108     │ 1       │ 21683    │ 2183903307  │ 515161.1407   │\n",
       "│ NOD     │ 2012    │ 2010    │ 315511.50  │ BLM     │ … │ 71      │ 1       │ 39327    │ 2218061438  │ 546507.0028   │\n",
       "│ LNU     │ 2020    │ 2020    │ 305351.88  │ CDF     │ … │ 30      │ 1       │ 21666    │ 2027266568  │ 1008834.884   │\n",
       "│ VNC     │ 2017    │ 2010    │ 281790.88  │ USF     │ … │ 39      │ 9       │ 41874    │ 1681105895  │ 540531.8875   │\n",
       "│  ·      │  ·      │  ·      │   ·        │  ·      │ · │ ·       │ ·       │   ·      │     ·       │     ·         │\n",
       "│  ·      │  ·      │  ·      │   ·        │  ·      │ · │ ·       │ ·       │   ·      │     ·       │     ·         │\n",
       "│  ·      │  ·      │  ·      │   ·        │  ·      │ · │ ·       │ ·       │   ·      │     ·       │     ·         │\n",
       "│ YNP     │ 1988    │ 1980    │ 195.80     │ NPS     │ … │ 91      │ 1       │ 40404    │ 1277568.273 │ 7210.32599    │\n",
       "│ LAC     │ 1983    │ 1980    │ 195.73     │ CCO     │ … │ -30476  │ 14      │ 33753    │ 1172414.688 │ 4827.071618   │\n",
       "│ SNF     │ 1962    │ 1960    │ 195.71     │ USF     │ … │ 0       │ 14      │ 31549    │ 1262233.094 │ 5528.468111   │\n",
       "│ CNF     │ 1987    │ 1980    │ 195.69     │ USF     │ … │ 0       │ 9       │ 36680    │ 1141313.512 │ 5380.72217    │\n",
       "│ STF     │ 1979    │ 1970    │ 195.69     │ USF     │ … │ 3       │ 3       │ 37979    │ 1289912.414 │ 6124.512519   │\n",
       "│ TNF     │ 1960    │ 1960    │ 195.63     │ USF     │ … │ 0       │ 1       │ 33687    │ 1333791.555 │ 5390.922576   │\n",
       "│ LPF     │ 1939    │         │ 195.59     │ USF     │ … │ 0       │ 9       │ 34653    │ 1181446.051 │ 3928.748248   │\n",
       "│ CNF     │ 1919    │         │ 195.57     │ USF     │ … │ 0       │ 14      │ 26949    │ 1125392.672 │ 4401.19828    │\n",
       "│ TNF     │ 1972    │ 1970    │ 195.56     │ USF     │ … │ 2       │ 3       │ 32922    │ 1330877.559 │ 5625.135937   │\n",
       "│ LAC     │ 1953    │ 1950    │ 195.49     │ CCO     │ … │ -19577  │ 14      │ 25707    │ 1154654.305 │ 4545.463875   │\n",
       "├─────────┴─────────┴─────────┴────────────┴─────────┴───┴─────────┴─────────┴──────────┴─────────────┴───────────────┤\n",
       "│ ? rows (>9999 rows, 20 shown)                                                                 13 columns (10 shown) │\n",
       "└─────────────────────────────────────────────────────────────────────────────────────────────────────────────────────┘"
      ]
     },
     "execution_count": 19,
     "metadata": {},
     "output_type": "execute_result"
    }
   ],
   "source": [
    "con.sql('''\n",
    "    CREATE TABLE IF NOT EXISTS fires as\n",
    "    SELECT * FROM ST_Read('cafires.csv')    \n",
    "''')\n",
    "con.table('fires')"
   ]
  },
  {
   "cell_type": "code",
   "execution_count": 20,
   "metadata": {},
   "outputs": [
    {
     "data": {
      "text/plain": [
       "┌───────────────┬─────────────┬─────────┬─────────┬─────────┬───────┐\n",
       "│  column_name  │ column_type │  null   │   key   │ default │ extra │\n",
       "│    varchar    │   varchar   │ varchar │ varchar │ varchar │ int32 │\n",
       "├───────────────┼─────────────┼─────────┼─────────┼─────────┼───────┤\n",
       "│ UNIT          │ VARCHAR     │ YES     │ NULL    │ NULL    │  NULL │\n",
       "│ YEAR          │ VARCHAR     │ YES     │ NULL    │ NULL    │  NULL │\n",
       "│ DECADE        │ VARCHAR     │ YES     │ NULL    │ NULL    │  NULL │\n",
       "│ ACRES         │ VARCHAR     │ YES     │ NULL    │ NULL    │  NULL │\n",
       "│ AGENCY        │ VARCHAR     │ YES     │ NULL    │ NULL    │  NULL │\n",
       "│ NAME          │ VARCHAR     │ YES     │ NULL    │ NULL    │  NULL │\n",
       "│ START         │ VARCHAR     │ YES     │ NULL    │ NULL    │  NULL │\n",
       "│ CONTAINED     │ VARCHAR     │ YES     │ NULL    │ NULL    │  NULL │\n",
       "│ DAYS          │ VARCHAR     │ YES     │ NULL    │ NULL    │  NULL │\n",
       "│ CAUSE         │ VARCHAR     │ YES     │ NULL    │ NULL    │  NULL │\n",
       "│ OBJECTID      │ VARCHAR     │ YES     │ NULL    │ NULL    │  NULL │\n",
       "│ Shape__Area   │ VARCHAR     │ YES     │ NULL    │ NULL    │  NULL │\n",
       "│ Shape__Length │ VARCHAR     │ YES     │ NULL    │ NULL    │  NULL │\n",
       "├───────────────┴─────────────┴─────────┴─────────┴─────────┴───────┤\n",
       "│ 13 rows                                                 6 columns │\n",
       "└───────────────────────────────────────────────────────────────────┘"
      ]
     },
     "execution_count": 20,
     "metadata": {},
     "output_type": "execute_result"
    }
   ],
   "source": [
    "con.sql('''\n",
    "    DESCRIBE fires\n",
    "''')"
   ]
  },
  {
   "cell_type": "code",
   "execution_count": 21,
   "metadata": {},
   "outputs": [],
   "source": [
    "# Add a new column 'ACRES_FLOAT' to the 'fires' table\n",
    "con.sql('''\n",
    "    ALTER TABLE fires\n",
    "    ADD COLUMN ACRES_FLOAT FLOAT\n",
    "''')\n",
    "\n",
    "# Update the 'ACRES_FLOAT' column with the 'ACRES' values converted to float\n",
    "con.sql('''\n",
    "    UPDATE fires\n",
    "    SET ACRES_FLOAT = CAST(ACRES AS FLOAT)\n",
    "''')"
   ]
  },
  {
   "cell_type": "code",
   "execution_count": 22,
   "metadata": {},
   "outputs": [
    {
     "data": {
      "text/plain": [
       "┌───────────────┬─────────────┬─────────┬─────────┬─────────┬───────┐\n",
       "│  column_name  │ column_type │  null   │   key   │ default │ extra │\n",
       "│    varchar    │   varchar   │ varchar │ varchar │ varchar │ int32 │\n",
       "├───────────────┼─────────────┼─────────┼─────────┼─────────┼───────┤\n",
       "│ UNIT          │ VARCHAR     │ YES     │ NULL    │ NULL    │  NULL │\n",
       "│ YEAR          │ VARCHAR     │ YES     │ NULL    │ NULL    │  NULL │\n",
       "│ DECADE        │ VARCHAR     │ YES     │ NULL    │ NULL    │  NULL │\n",
       "│ ACRES         │ VARCHAR     │ YES     │ NULL    │ NULL    │  NULL │\n",
       "│ AGENCY        │ VARCHAR     │ YES     │ NULL    │ NULL    │  NULL │\n",
       "│ NAME          │ VARCHAR     │ YES     │ NULL    │ NULL    │  NULL │\n",
       "│ START         │ VARCHAR     │ YES     │ NULL    │ NULL    │  NULL │\n",
       "│ CONTAINED     │ VARCHAR     │ YES     │ NULL    │ NULL    │  NULL │\n",
       "│ DAYS          │ VARCHAR     │ YES     │ NULL    │ NULL    │  NULL │\n",
       "│ CAUSE         │ VARCHAR     │ YES     │ NULL    │ NULL    │  NULL │\n",
       "│ OBJECTID      │ VARCHAR     │ YES     │ NULL    │ NULL    │  NULL │\n",
       "│ Shape__Area   │ VARCHAR     │ YES     │ NULL    │ NULL    │  NULL │\n",
       "│ Shape__Length │ VARCHAR     │ YES     │ NULL    │ NULL    │  NULL │\n",
       "│ ACRES_FLOAT   │ FLOAT       │ YES     │ NULL    │ NULL    │  NULL │\n",
       "├───────────────┴─────────────┴─────────┴─────────┴─────────┴───────┤\n",
       "│ 14 rows                                                 6 columns │\n",
       "└───────────────────────────────────────────────────────────────────┘"
      ]
     },
     "execution_count": 22,
     "metadata": {},
     "output_type": "execute_result"
    }
   ],
   "source": [
    "con.sql('''\n",
    "    DESCRIBE fires\n",
    "''')"
   ]
  },
  {
   "cell_type": "code",
   "execution_count": null,
   "metadata": {},
   "outputs": [],
   "source": []
  },
  {
   "cell_type": "code",
   "execution_count": 23,
   "metadata": {},
   "outputs": [
    {
     "data": {
      "text/plain": [
       "┌─────────┬────────────────────┐\n",
       "│ DECADE  │    Total_Acres     │\n",
       "│ varchar │       double       │\n",
       "├─────────┼────────────────────┤\n",
       "│ 1960    │ 2075062.6210534275 │\n",
       "│ 1970    │ 2606294.3197754323 │\n",
       "│ 1950    │ 2844981.3255828023 │\n",
       "│ 1980    │ 3080518.3912314475 │\n",
       "│ 1990    │ 3348844.0855171345 │\n",
       "│ 2000    │  6529025.611988053 │\n",
       "│ 2010    │  6898947.842089854 │\n",
       "│ 2020    │  7010746.721358992 │\n",
       "│         │ 8300465.1086936295 │\n",
       "└─────────┴────────────────────┘"
      ]
     },
     "execution_count": 23,
     "metadata": {},
     "output_type": "execute_result"
    }
   ],
   "source": [
    "con.sql('''\n",
    "    SELECT DECADE, SUM(CAST(ACRES AS FLOAT)) as Total_Acres\n",
    "    FROM fires\n",
    "    GROUP BY DECADE\n",
    "    ORDER BY Total_Acres\n",
    "''')"
   ]
  },
  {
   "cell_type": "code",
   "execution_count": 24,
   "metadata": {},
   "outputs": [
    {
     "data": {
      "text/plain": [
       "┌─────────┬─────────┬─────────┬─────────┬─────────┬───┬─────────┬─────────┬──────────┬─────────────┬───────────────┐\n",
       "│  UNIT   │  YEAR   │ DECADE  │  ACRES  │ AGENCY  │ … │  DAYS   │  CAUSE  │ OBJECTID │ Shape__Area │ Shape__Length │\n",
       "│ varchar │ varchar │ varchar │ varchar │ varchar │   │ varchar │ varchar │ varchar  │   varchar   │    varchar    │\n",
       "├─────────┼─────────┼─────────┼─────────┼─────────┼───┼─────────┼─────────┼──────────┼─────────────┼───────────────┤\n",
       "│ NEU     │ 2020    │ 2020    │ 109.6   │ CDF     │ … │ 5       │ 11      │ 21440    │ 733134.7305 │ 4179.743142   │\n",
       "│ NEU     │ 2020    │ 2020    │ 685.59  │ CDF     │ … │ 3       │ 2       │ 21441    │ 4578171.914 │ 12399.37539   │\n",
       "│ NEU     │ 2020    │ 2020    │ 27.3    │ CDF     │ … │ 1       │ 14      │ 21442    │ 182387.6445 │ 2119.19412    │\n",
       "│ NEU     │ 2020    │ 2020    │ 12.93   │ CDF     │ … │ 1       │ 9       │ 21443    │ 86679.44531 │ 2029.524881   │\n",
       "│ NEU     │ 2020    │ 2020    │ 10.32   │ CDF     │ … │ 5       │ 18      │ 21444    │ 70179.13281 │ 1342.742903   │\n",
       "│ NEU     │ 2020    │ 2020    │ 36.7    │ CDF     │ … │ 0       │ 14      │ 21445    │ 244431.5273 │ 3012.198354   │\n",
       "│ BEA     │ 2020    │ 2020    │ 376.91  │ DOD     │ … │ 1       │ 14      │ 21446    │ 2538316.879 │ 9803.350364   │\n",
       "│ NEU     │ 2020    │ 2020    │ 10.1    │ CDF     │ … │ 3       │ 9       │ 21447    │ 68043.03125 │ 1425.986342   │\n",
       "│ NEU     │ 2020    │ 2020    │ 33.97   │ CDF     │ … │ 1       │ 5       │ 21448    │ 230549.7813 │ 2477.151815   │\n",
       "│ NEU     │ 2020    │ 2020    │ 1309.09 │ CDF     │ … │ 34      │ 7       │ 21449    │ 8877495.797 │ 15221.41054   │\n",
       "│  ·      │  ·      │  ·      │   ·     │  ·      │ · │ ·       │ ·       │   ·      │      ·      │     ·         │\n",
       "│  ·      │  ·      │  ·      │   ·     │  ·      │ · │ ·       │ ·       │   ·      │      ·      │     ·         │\n",
       "│  ·      │  ·      │  ·      │   ·     │  ·      │ · │ ·       │ ·       │   ·      │      ·      │     ·         │\n",
       "│ LAC     │ 1961    │ 1960    │ 45.64   │ CCO     │ … │ -22568  │ 14      │ 31513    │ 269983.9297 │ 2531.86614    │\n",
       "│ LAC     │ 1961    │ 1960    │ 7846.75 │ CCO     │ … │ -22591  │ 14      │ 31514    │ 46429425.55 │ 54839.343     │\n",
       "│ LAC     │ 1961    │ 1960    │ 6151.98 │ CCO     │ … │ -22598  │ 14      │ 31515    │ 36400358.63 │ 48599.91437   │\n",
       "│ LAC     │ 1961    │ 1960    │ 6110.72 │ CCO     │ … │ -22446  │ 14      │ 31516    │ 36493200.46 │ 40024.34723   │\n",
       "│ LAC     │ 1961    │ 1960    │ 33.24   │ CCO     │ … │ -22560  │ 14      │ 31517    │ 197728.4727 │ 2129.450263   │\n",
       "│ LAC     │ 1961    │ 1960    │ 49.31   │ CCO     │ … │ -22598  │ 14      │ 31518    │ 293043.3984 │ 2053.303314   │\n",
       "│ LAC     │ 1961    │ 1960    │ 256.88  │ CCO     │ … │ -22530  │ 14      │ 31519    │ 1522708.605 │ 6479.253082   │\n",
       "│ LAC     │ 1961    │ 1960    │ 12.13   │ CCO     │ … │ -22600  │ 14      │ 31520    │ 71817.45703 │ 1307.428556   │\n",
       "│ LAC     │ 1961    │ 1960    │ 847.17  │ CCO     │ … │ -22414  │ 14      │ 31521    │ 5015849.316 │ 15010.53261   │\n",
       "│ LAC     │ 1961    │ 1960    │ 921.66  │ CCO     │ … │ -22584  │ 14      │ 31522    │ 5463427.348 │ 13561.07094   │\n",
       "├─────────┴─────────┴─────────┴─────────┴─────────┴───┴─────────┴─────────┴──────────┴─────────────┴───────────────┤\n",
       "│ ? rows (>9999 rows, 20 shown)                                                              13 columns (10 shown) │\n",
       "└──────────────────────────────────────────────────────────────────────────────────────────────────────────────────┘"
      ]
     },
     "execution_count": 24,
     "metadata": {},
     "output_type": "execute_result"
    }
   ],
   "source": [
    "con.sql('''\n",
    "    CREATE TABLE IF NOT EXISTS fires2 as\n",
    "    SELECT * FROM ST_Read('cafires2.csv')    \n",
    "''')\n",
    "con.table('fires2')"
   ]
  },
  {
   "cell_type": "code",
   "execution_count": 47,
   "metadata": {},
   "outputs": [
    {
     "data": {
      "text/plain": [
       "┌─────────┬─────────────┐\n",
       "│ DECADE  │ Total_Acres │\n",
       "│ varchar │   double    │\n",
       "├─────────┼─────────────┤\n",
       "│ 2020    │   7010747.0 │\n",
       "│ 2010    │   6898948.0 │\n",
       "│ 2000    │   6529026.0 │\n",
       "│ 1990    │   3348844.0 │\n",
       "│ 1980    │   3080518.0 │\n",
       "│ 1920    │   2925772.0 │\n",
       "│ 1950    │   2844981.0 │\n",
       "│ 1970    │   2606294.0 │\n",
       "│ 1960    │   2075063.0 │\n",
       "│ 1940    │   1959130.0 │\n",
       "├─────────┴─────────────┤\n",
       "│ 10 rows     2 columns │\n",
       "└───────────────────────┘"
      ]
     },
     "execution_count": 47,
     "metadata": {},
     "output_type": "execute_result"
    }
   ],
   "source": [
    "con.sql('''\n",
    "    SELECT DECADE, ROUND(SUM(CAST(ACRES AS FLOAT)),0) as Total_Acres\n",
    "    FROM fires2\n",
    "    GROUP BY DECADE\n",
    "    ORDER BY Total_Acres DESC\n",
    "    LIMIT 10\n",
    "''')"
   ]
  },
  {
   "cell_type": "code",
   "execution_count": 48,
   "metadata": {},
   "outputs": [
    {
     "data": {
      "text/plain": [
       "┌─────────┬─────────────┐\n",
       "│  YEAR   │ Total_Acres │\n",
       "│ varchar │   double    │\n",
       "├─────────┼─────────────┤\n",
       "│ 2020    │   4181573.0 │\n",
       "│ 2021    │   2512512.0 │\n",
       "│ 2018    │   1581917.0 │\n",
       "│ 2017    │   1424583.0 │\n",
       "│ 2008    │   1382710.0 │\n",
       "│ 2007    │   1031803.0 │\n",
       "│ 2003    │    968697.0 │\n",
       "│ 2002    │    963899.0 │\n",
       "│ 1987    │    851816.0 │\n",
       "│ 2012    │    848692.0 │\n",
       "├─────────┴─────────────┤\n",
       "│ 10 rows     2 columns │\n",
       "└───────────────────────┘"
      ]
     },
     "execution_count": 48,
     "metadata": {},
     "output_type": "execute_result"
    }
   ],
   "source": [
    "con.sql('''\n",
    "    SELECT YEAR, ROUND(SUM(CAST(ACRES AS FLOAT)),0) as Total_Acres\n",
    "    FROM fires2\n",
    "    GROUP BY YEAR\n",
    "    ORDER BY Total_Acres DESC\n",
    "    LIMIT 10\n",
    "''')"
   ]
  },
  {
   "cell_type": "code",
   "execution_count": 43,
   "metadata": {},
   "outputs": [
    {
     "data": {
      "text/plain": [
       "┌───────┬────────────┬────────────────┬─────────┐\n",
       "│ YEAR  │   ACRES    │      NAME      │  UNIT   │\n",
       "│ int32 │   float    │    varchar     │ varchar │\n",
       "├───────┼────────────┼────────────────┼─────────┤\n",
       "│  2020 │  1032699.6 │ AUGUST COMPLEX │ MNF     │\n",
       "│  2021 │  963405.44 │ DIXIE          │ BTU     │\n",
       "│  2002 │  501082.03 │ BISCUIT        │ SIF     │\n",
       "│  2018 │  410202.47 │ RANCH          │ LNU     │\n",
       "│  2020 │  396824.47 │ SCU COMPLEX    │ SCU     │\n",
       "│  2020 │   379842.4 │ CREEK          │ SNF     │\n",
       "│  2020 │  318797.25 │ NORTH COMPLEX  │ PNF     │\n",
       "│  2012 │   315511.5 │ RUSH           │ NOD     │\n",
       "│  2020 │ 305351.875 │ HENNESSEY      │ LNU     │\n",
       "│  2017 │ 281790.875 │ THOMAS         │ VNC     │\n",
       "│  2003 │   270686.0 │ CEDAR          │ CNF     │\n",
       "│  2013 │  256175.53 │ RIM            │ STF     │\n",
       "│  2007 │   240358.7 │ ZACA           │ SBC     │\n",
       "│  2018 │   229651.4 │ CARR           │ SHU     │\n",
       "│  2021 │  223107.89 │ MONUMENT       │ SHF     │\n",
       "├───────┴────────────┴────────────────┴─────────┤\n",
       "│ 15 rows                             4 columns │\n",
       "└───────────────────────────────────────────────┘"
      ]
     },
     "execution_count": 43,
     "metadata": {},
     "output_type": "execute_result"
    }
   ],
   "source": [
    "con.sql('''\n",
    "    SELECT CAST(YEAR AS INT) as YEAR, CAST(ACRES AS FLOAT) as ACRES, NAME, UNIT\n",
    "    FROM fires2\n",
    "    WHERE ACRES > 5000 AND YEAR >= 1970\n",
    "    ORDER BY ACRES DESC\n",
    "    LIMIT 15    \n",
    "''')"
   ]
  },
  {
   "cell_type": "code",
   "execution_count": 50,
   "metadata": {},
   "outputs": [
    {
     "data": {
      "text/html": [
       "<div>\n",
       "<style scoped>\n",
       "    .dataframe tbody tr th:only-of-type {\n",
       "        vertical-align: middle;\n",
       "    }\n",
       "\n",
       "    .dataframe tbody tr th {\n",
       "        vertical-align: top;\n",
       "    }\n",
       "\n",
       "    .dataframe thead th {\n",
       "        text-align: right;\n",
       "    }\n",
       "</style>\n",
       "<table border=\"1\" class=\"dataframe\">\n",
       "  <thead>\n",
       "    <tr style=\"text-align: right;\">\n",
       "      <th></th>\n",
       "      <th>UNIT</th>\n",
       "      <th>YEAR</th>\n",
       "      <th>DECADE</th>\n",
       "      <th>ACRES</th>\n",
       "      <th>AGENCY</th>\n",
       "      <th>NAME</th>\n",
       "      <th>START</th>\n",
       "      <th>CONTAINED</th>\n",
       "      <th>DAYS</th>\n",
       "      <th>CAUSE</th>\n",
       "      <th>OBJECTID</th>\n",
       "      <th>Shape__Area</th>\n",
       "      <th>Shape__Length</th>\n",
       "    </tr>\n",
       "  </thead>\n",
       "  <tbody>\n",
       "    <tr>\n",
       "      <th>0</th>\n",
       "      <td>NEU</td>\n",
       "      <td>2020</td>\n",
       "      <td>2020</td>\n",
       "      <td>109.6</td>\n",
       "      <td>CDF</td>\n",
       "      <td>NELSON</td>\n",
       "      <td>18/06/2020</td>\n",
       "      <td>23/06/2020</td>\n",
       "      <td>5</td>\n",
       "      <td>11</td>\n",
       "      <td>21440</td>\n",
       "      <td>733134.7305</td>\n",
       "      <td>4179.743142</td>\n",
       "    </tr>\n",
       "    <tr>\n",
       "      <th>1</th>\n",
       "      <td>NEU</td>\n",
       "      <td>2020</td>\n",
       "      <td>2020</td>\n",
       "      <td>685.59</td>\n",
       "      <td>CDF</td>\n",
       "      <td>AMORUSO</td>\n",
       "      <td>01/06/2020</td>\n",
       "      <td>04/06/2020</td>\n",
       "      <td>3</td>\n",
       "      <td>2</td>\n",
       "      <td>21441</td>\n",
       "      <td>4578171.914</td>\n",
       "      <td>12399.37539</td>\n",
       "    </tr>\n",
       "    <tr>\n",
       "      <th>2</th>\n",
       "      <td>NEU</td>\n",
       "      <td>2020</td>\n",
       "      <td>2020</td>\n",
       "      <td>27.3</td>\n",
       "      <td>CDF</td>\n",
       "      <td>ATHENS</td>\n",
       "      <td>10/08/2020</td>\n",
       "      <td>11/08/2020</td>\n",
       "      <td>1</td>\n",
       "      <td>14</td>\n",
       "      <td>21442</td>\n",
       "      <td>182387.6445</td>\n",
       "      <td>2119.19412</td>\n",
       "    </tr>\n",
       "    <tr>\n",
       "      <th>3</th>\n",
       "      <td>NEU</td>\n",
       "      <td>2020</td>\n",
       "      <td>2020</td>\n",
       "      <td>12.93</td>\n",
       "      <td>CDF</td>\n",
       "      <td>FLEMING</td>\n",
       "      <td>31/03/2020</td>\n",
       "      <td>01/04/2020</td>\n",
       "      <td>1</td>\n",
       "      <td>9</td>\n",
       "      <td>21443</td>\n",
       "      <td>86679.44531</td>\n",
       "      <td>2029.524881</td>\n",
       "    </tr>\n",
       "    <tr>\n",
       "      <th>4</th>\n",
       "      <td>NEU</td>\n",
       "      <td>2020</td>\n",
       "      <td>2020</td>\n",
       "      <td>10.32</td>\n",
       "      <td>CDF</td>\n",
       "      <td>MELANESE</td>\n",
       "      <td>14/04/2020</td>\n",
       "      <td>19/04/2020</td>\n",
       "      <td>5</td>\n",
       "      <td>18</td>\n",
       "      <td>21444</td>\n",
       "      <td>70179.13281</td>\n",
       "      <td>1342.742903</td>\n",
       "    </tr>\n",
       "    <tr>\n",
       "      <th>...</th>\n",
       "      <td>...</td>\n",
       "      <td>...</td>\n",
       "      <td>...</td>\n",
       "      <td>...</td>\n",
       "      <td>...</td>\n",
       "      <td>...</td>\n",
       "      <td>...</td>\n",
       "      <td>...</td>\n",
       "      <td>...</td>\n",
       "      <td>...</td>\n",
       "      <td>...</td>\n",
       "      <td>...</td>\n",
       "      <td>...</td>\n",
       "    </tr>\n",
       "    <tr>\n",
       "      <th>21844</th>\n",
       "      <td>VNC</td>\n",
       "      <td>2022</td>\n",
       "      <td>2020</td>\n",
       "      <td>1.55</td>\n",
       "      <td>LRA</td>\n",
       "      <td>CHAMBERS</td>\n",
       "      <td>16/03/2022</td>\n",
       "      <td>17/03/2022</td>\n",
       "      <td>1</td>\n",
       "      <td>14</td>\n",
       "      <td>43907</td>\n",
       "      <td>9217.691406</td>\n",
       "      <td>537.6913468</td>\n",
       "    </tr>\n",
       "    <tr>\n",
       "      <th>21845</th>\n",
       "      <td>VNC</td>\n",
       "      <td>2022</td>\n",
       "      <td>2020</td>\n",
       "      <td>1.42</td>\n",
       "      <td>LRA</td>\n",
       "      <td>MOON</td>\n",
       "      <td>14/08/2022</td>\n",
       "      <td>14/08/2022</td>\n",
       "      <td>0</td>\n",
       "      <td>14</td>\n",
       "      <td>43908</td>\n",
       "      <td>8444.238281</td>\n",
       "      <td>452.7993093</td>\n",
       "    </tr>\n",
       "    <tr>\n",
       "      <th>21846</th>\n",
       "      <td>SHF</td>\n",
       "      <td>2022</td>\n",
       "      <td>2020</td>\n",
       "      <td>12.91</td>\n",
       "      <td>USF</td>\n",
       "      <td>TEXAS</td>\n",
       "      <td>09/09/2022</td>\n",
       "      <td>10/09/2022</td>\n",
       "      <td>1</td>\n",
       "      <td>14</td>\n",
       "      <td>43909</td>\n",
       "      <td>89850.25781</td>\n",
       "      <td>2061.55088</td>\n",
       "    </tr>\n",
       "    <tr>\n",
       "      <th>21847</th>\n",
       "      <td>KNF</td>\n",
       "      <td>2022</td>\n",
       "      <td>2020</td>\n",
       "      <td>150.4</td>\n",
       "      <td>USF</td>\n",
       "      <td>ALEX</td>\n",
       "      <td>31/07/2022</td>\n",
       "      <td>03/08/2022</td>\n",
       "      <td>3</td>\n",
       "      <td>14</td>\n",
       "      <td>43910</td>\n",
       "      <td>1100802.367</td>\n",
       "      <td>6500.414625</td>\n",
       "    </tr>\n",
       "    <tr>\n",
       "      <th>21848</th>\n",
       "      <td>TGU</td>\n",
       "      <td>2022</td>\n",
       "      <td>2020</td>\n",
       "      <td>134.47</td>\n",
       "      <td>CDF</td>\n",
       "      <td>TULARE</td>\n",
       "      <td>25/07/2022</td>\n",
       "      <td>25/07/2022</td>\n",
       "      <td>0</td>\n",
       "      <td>10</td>\n",
       "      <td>43911</td>\n",
       "      <td>929037.6367</td>\n",
       "      <td>5645.738468</td>\n",
       "    </tr>\n",
       "  </tbody>\n",
       "</table>\n",
       "<p>21849 rows × 13 columns</p>\n",
       "</div>"
      ],
      "text/plain": [
       "      UNIT  YEAR DECADE   ACRES AGENCY      NAME       START   CONTAINED DAYS  \\\n",
       "0      NEU  2020   2020   109.6    CDF    NELSON  18/06/2020  23/06/2020    5   \n",
       "1      NEU  2020   2020  685.59    CDF   AMORUSO  01/06/2020  04/06/2020    3   \n",
       "2      NEU  2020   2020    27.3    CDF    ATHENS  10/08/2020  11/08/2020    1   \n",
       "3      NEU  2020   2020   12.93    CDF   FLEMING  31/03/2020  01/04/2020    1   \n",
       "4      NEU  2020   2020   10.32    CDF  MELANESE  14/04/2020  19/04/2020    5   \n",
       "...    ...   ...    ...     ...    ...       ...         ...         ...  ...   \n",
       "21844  VNC  2022   2020    1.55    LRA  CHAMBERS  16/03/2022  17/03/2022    1   \n",
       "21845  VNC  2022   2020    1.42    LRA      MOON  14/08/2022  14/08/2022    0   \n",
       "21846  SHF  2022   2020   12.91    USF     TEXAS  09/09/2022  10/09/2022    1   \n",
       "21847  KNF  2022   2020   150.4    USF      ALEX  31/07/2022  03/08/2022    3   \n",
       "21848  TGU  2022   2020  134.47    CDF    TULARE  25/07/2022  25/07/2022    0   \n",
       "\n",
       "      CAUSE OBJECTID  Shape__Area Shape__Length  \n",
       "0        11    21440  733134.7305   4179.743142  \n",
       "1         2    21441  4578171.914   12399.37539  \n",
       "2        14    21442  182387.6445    2119.19412  \n",
       "3         9    21443  86679.44531   2029.524881  \n",
       "4        18    21444  70179.13281   1342.742903  \n",
       "...     ...      ...          ...           ...  \n",
       "21844    14    43907  9217.691406   537.6913468  \n",
       "21845    14    43908  8444.238281   452.7993093  \n",
       "21846    14    43909  89850.25781    2061.55088  \n",
       "21847    14    43910  1100802.367   6500.414625  \n",
       "21848    10    43911  929037.6367   5645.738468  \n",
       "\n",
       "[21849 rows x 13 columns]"
      ]
     },
     "execution_count": 50,
     "metadata": {},
     "output_type": "execute_result"
    }
   ],
   "source": [
    "df = pd.read_sql_query(\"SELECT * FROM fires2\", con)\n",
    "df"
   ]
  },
  {
   "cell_type": "code",
   "execution_count": null,
   "metadata": {},
   "outputs": [],
   "source": []
  }
 ],
 "metadata": {
  "kernelspec": {
   "display_name": "spatial",
   "language": "python",
   "name": "python3"
  },
  "language_info": {
   "codemirror_mode": {
    "name": "ipython",
    "version": 3
   },
   "file_extension": ".py",
   "mimetype": "text/x-python",
   "name": "python",
   "nbconvert_exporter": "python",
   "pygments_lexer": "ipython3",
   "version": "3.11.8"
  }
 },
 "nbformat": 4,
 "nbformat_minor": 2
}
