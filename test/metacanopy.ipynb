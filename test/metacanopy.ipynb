{
 "cells": [
  {
   "cell_type": "code",
   "execution_count": 1,
   "metadata": {},
   "outputs": [
    {
     "data": {
      "application/vnd.jupyter.widget-view+json": {
       "model_id": "21d303198b5f4ee5944b7bb13d43e083",
       "version_major": 2,
       "version_minor": 0
      },
      "text/plain": [
       "Map(center=[0, 0], controls=(WidgetControl(options=['position', 'transparent_bg'], widget=SearchDataGUI(childr…"
      ]
     },
     "metadata": {},
     "output_type": "display_data"
    }
   ],
   "source": [
    "# Import geemap and create an interactive map\n",
    "import ee\n",
    "import geemap\n",
    "geemap.ee_initialize()\n",
    "m = geemap.Map()\n",
    "m"
   ]
  },
  {
   "cell_type": "code",
   "execution_count": 9,
   "metadata": {},
   "outputs": [
    {
     "data": {
      "text/html": [
       "\n",
       "            <style>\n",
       "                .geemap-dark {\n",
       "                    --jp-widgets-color: white;\n",
       "                    --jp-widgets-label-color: white;\n",
       "                    --jp-ui-font-color1: white;\n",
       "                    --jp-layout-color2: #454545;\n",
       "                    background-color: #383838;\n",
       "                }\n",
       "                    \n",
       "                .geemap-dark .jupyter-button {\n",
       "                    --jp-layout-color3: #383838;\n",
       "                }\n",
       "                \n",
       "                .geemap-colab {\n",
       "                    background-color: var(--colab-primary-surface-color, white);\n",
       "                }\n",
       "                    \n",
       "                .geemap-colab .jupyter-button {\n",
       "                    --jp-layout-color3: var(--colab-primary-surface-color, white);\n",
       "                }\n",
       "            </style>\n",
       "            "
      ],
      "text/plain": [
       "<IPython.core.display.HTML object>"
      ]
     },
     "metadata": {},
     "output_type": "display_data"
    }
   ],
   "source": [
    "# Import matplotlib\n",
    "import matplotlib as mpl\n",
    "import matplotlib.pyplot as plt\n",
    "import numpy as np\n",
    "import folium"
   ]
  },
  {
   "cell_type": "code",
   "execution_count": 3,
   "metadata": {},
   "outputs": [
    {
     "data": {
      "text/html": [
       "\n",
       "            <style>\n",
       "                .geemap-dark {\n",
       "                    --jp-widgets-color: white;\n",
       "                    --jp-widgets-label-color: white;\n",
       "                    --jp-ui-font-color1: white;\n",
       "                    --jp-layout-color2: #454545;\n",
       "                    background-color: #383838;\n",
       "                }\n",
       "                    \n",
       "                .geemap-dark .jupyter-button {\n",
       "                    --jp-layout-color3: #383838;\n",
       "                }\n",
       "                \n",
       "                .geemap-colab {\n",
       "                    background-color: var(--colab-primary-surface-color, white);\n",
       "                }\n",
       "                    \n",
       "                .geemap-colab .jupyter-button {\n",
       "                    --jp-layout-color3: var(--colab-primary-surface-color, white);\n",
       "                }\n",
       "            </style>\n",
       "            "
      ],
      "text/plain": [
       "<IPython.core.display.HTML object>"
      ]
     },
     "metadata": {},
     "output_type": "display_data"
    },
    {
     "data": {
      "application/vnd.jupyter.widget-view+json": {
       "model_id": "21d303198b5f4ee5944b7bb13d43e083",
       "version_major": 2,
       "version_minor": 0
      },
      "text/plain": [
       "Map(bottom=812.0, center=[10, 0], controls=(WidgetControl(options=['position', 'transparent_bg'], widget=Searc…"
      ]
     },
     "metadata": {},
     "output_type": "display_data"
    }
   ],
   "source": [
    "canopyHeight = ee.ImageCollection(\n",
    "    'projects/meta-forest-monitoring-okw37/assets/CanopyHeight').mosaic()\n",
    "treenotree = canopyHeight.updateMask(canopyHeight.gte(1))\n",
    "\n",
    "## viz settings ##\n",
    "\n",
    "# /Other teams layers#/\n",
    "ethcanopyheight = ee.Image('users/nlang/ETH_GlobalCanopyHeight_2020_10m_v1')\n",
    "m.addLayer(ethcanopyheight, {\n",
    "    'min': 0,\n",
    "    'max': 25,\n",
    "    'palette': 'magma'\n",
    "}, 'Canopy Height Lang 2022 98%', False)\n",
    "\n",
    "umdheight = ee.ImageCollection(\"users/potapovpeter/GEDI_V27\").mosaic()\n",
    "m.addLayer(umdheight, {\n",
    "    'min': 0,\n",
    "    'max': 25,\n",
    "    'palette': 'magma'\n",
    "}, 'Canopy Height Potapov 2021 95%', False)\n",
    "\n",
    "# /Our layers#/\n",
    "m.addLayer(treenotree, {\n",
    "    'min': 0,\n",
    "    'max': 1,\n",
    "    'palette': ['440154', 'fde725']\n",
    "}, 'Canopy height (>=1 meter)', False)\n",
    "m.addLayer(canopyHeight, {\n",
    "    'min': 0,\n",
    "    'max': 25,\n",
    "    'palette': 'viridis'\n",
    "}, 'Canopy Height [meters]')\n",
    "\n",
    "# /Default location and zoom#/\n",
    "m.setCenter(0, 10, 3)\n",
    "m"
   ]
  }
 ],
 "metadata": {
  "kernelspec": {
   "display_name": "spatial",
   "language": "python",
   "name": "python3"
  },
  "language_info": {
   "codemirror_mode": {
    "name": "ipython",
    "version": 3
   },
   "file_extension": ".py",
   "mimetype": "text/x-python",
   "name": "python",
   "nbconvert_exporter": "python",
   "pygments_lexer": "ipython3",
   "version": "3.11.8"
  }
 },
 "nbformat": 4,
 "nbformat_minor": 2
}
