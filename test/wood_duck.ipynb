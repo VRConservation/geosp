{
 "cells": [
  {
   "cell_type": "code",
   "execution_count": 1,
   "metadata": {},
   "outputs": [],
   "source": [
    "import duckdb\n",
    "import leafmap\n",
    "import pandas as pd"
   ]
  },
  {
   "cell_type": "code",
   "execution_count": 2,
   "metadata": {},
   "outputs": [],
   "source": [
    "con = duckdb.connect()\n",
    "con.install_extension(\"httpfs\")\n",
    "con.load_extension(\"httpfs\")\n",
    "con.install_extension(\"spatial\")\n",
    "con.load_extension(\"spatial\")"
   ]
  },
  {
   "cell_type": "code",
   "execution_count": 3,
   "metadata": {},
   "outputs": [
    {
     "name": "stdout",
     "output_type": "stream",
     "text": [
      "True\n"
     ]
    }
   ],
   "source": [
    "# check file exists\n",
    "import os\n",
    "print(os.path.exists(\n",
    "    './CurrentSawmill/Current_Wood_Facility_Database_Primary_Wood_Processing.shp'))"
   ]
  },
  {
   "cell_type": "code",
   "execution_count": 8,
   "metadata": {},
   "outputs": [
    {
     "name": "stdout",
     "output_type": "stream",
     "text": [
      "False\n"
     ]
    }
   ],
   "source": [
    "import os\n",
    "print(os.path.exists('./test/wash.csv'))"
   ]
  },
  {
   "cell_type": "code",
   "execution_count": 4,
   "metadata": {},
   "outputs": [
    {
     "data": {
      "text/plain": [
       "┌───────┬─────────────┬──────────────┬───┬────────────┬──────────────────────┬──────────┬──────────────────────┐\n",
       "│ RecID │  latitude   │  longitude   │ … │    Year    │      JoinSymbol      │ ObjectId │         geom         │\n",
       "│ int32 │   double    │    double    │   │    date    │       varchar        │  int32   │       geometry       │\n",
       "├───────┼─────────────┼──────────────┼───┼────────────┼──────────────────────┼──────────┼──────────────────────┤\n",
       "│  9001 │ 40.79719014 │ -124.1815646 │ … │ 2020-01-01 │ Operational Large …  │       30 │ POINT (-124.181564…  │\n",
       "│  9002 │ 38.90448023 │ -121.3070281 │ … │ 2020-01-01 │ Operational Large …  │       31 │ POINT (-121.307028…  │\n",
       "│  9003 │ 39.48193681 │ -121.5632263 │ … │ 2020-01-01 │ Operational Cedar …  │       32 │ POINT (-121.563226…  │\n",
       "│  9008 │   40.471498 │  -122.320991 │ … │ 2020-01-01 │ Operational Large …  │       33 │ POINT (-122.320991…  │\n",
       "│  9012 │   40.901169 │  -124.071143 │ … │ 2020-01-01 │ Operational Fence …  │       34 │ POINT (-124.071143…  │\n",
       "│  9013 │ 40.87184621 │ -123.9632726 │ … │ 2020-01-01 │ Operational Small …  │       35 │ POINT (-123.963272…  │\n",
       "│  9026 │  40.8782226 │ -121.7266623 │ … │ 2020-01-01 │ Operational Large …  │       36 │ POINT (-121.726662…  │\n",
       "│  9027 │   40.876365 │  -121.701786 │ … │ 2020-01-01 │ Operational Large …  │       37 │ POINT (-121.701786…  │\n",
       "│  9034 │ 38.46454832 │ -123.0410353 │ … │ 2020-01-01 │ Operational Specia…  │       38 │ POINT (-123.041035…  │\n",
       "│  9036 │ 40.30330794 │ -121.2413703 │ … │ 2020-01-01 │ Operational Large …  │       39 │ POINT (-121.241370…  │\n",
       "│    ·  │      ·      │       ·      │ · │     ·      │          ·           │        · │          ·           │\n",
       "│    ·  │      ·      │       ·      │ · │     ·      │          ·           │        · │          ·           │\n",
       "│    ·  │      ·      │       ·      │ · │     ·      │          ·           │        · │          ·           │\n",
       "│  9107 │ 37.96333505 │ -120.3174788 │ … │ 2020-01-01 │ Operational Large …  │       47 │ POINT (-120.317478…  │\n",
       "│  9113 │ 35.95409644 │ -119.0489178 │ … │ 2020-01-01 │ Operational Large …  │       48 │ POINT (-119.048917…  │\n",
       "│  9117 │ 39.17958875 │ -123.2036368 │ … │ 2020-01-01 │ Operational Large …  │       49 │ POINT (-123.203636…  │\n",
       "│  9119 │   39.183738 │  -123.203868 │ … │ 2020-01-01 │ Operational Large …  │       50 │ POINT (-123.203868…  │\n",
       "│  9120 │ 40.72493045 │ -122.9306377 │ … │ 2020-01-01 │ Operational Large …  │       51 │ POINT (-122.930637…  │\n",
       "│  9121 │ 41.43245271 │ -122.3794955 │ … │ 2020-01-01 │ Operational Peeler…  │       52 │ POINT (-122.379495…  │\n",
       "│  9133 │   41.737758 │  -122.593349 │ … │ 2020-01-01 │ Operational Peeler…  │       53 │ POINT (-122.593349…  │\n",
       "│  9292 │   40.484703 │  -122.345292 │ … │ 2020-01-01 │ Operational Post/P…  │       54 │ POINT (-122.345292…  │\n",
       "│  9294 │   38.766782 │  -122.991567 │ … │ 2020-01-01 │ Operational Fence …  │       55 │ POINT (-122.991567…  │\n",
       "│  9297 │   42.203091 │  -120.352784 │ … │ 2020-01-01 │ Operational Large …  │       56 │ POINT (-120.352784…  │\n",
       "├───────┴─────────────┴──────────────┴───┴────────────┴──────────────────────┴──────────┴──────────────────────┤\n",
       "│ 27 rows (20 shown)                                                                      17 columns (7 shown) │\n",
       "└──────────────────────────────────────────────────────────────────────────────────────────────────────────────┘"
      ]
     },
     "execution_count": 4,
     "metadata": {},
     "output_type": "execute_result"
    }
   ],
   "source": [
    "# Create sawmill table from shp file and show\n",
    "con.sql('''\n",
    "    CREATE TABLE IF NOT EXISTS sawmill as\n",
    "    SELECT * FROM ST_Read('./CurrentSawmill/Current_Wood_Facility_Database_Primary_Wood_Processing.shp')\n",
    "''')\n",
    "con.table('sawmill')"
   ]
  },
  {
   "cell_type": "code",
   "execution_count": 15,
   "metadata": {},
   "outputs": [
    {
     "data": {
      "text/plain": [
       "┌─────────────┬─────────────┬─────────┬─────────┬─────────┬───────┐\n",
       "│ column_name │ column_type │  null   │   key   │ default │ extra │\n",
       "│   varchar   │   varchar   │ varchar │ varchar │ varchar │ int32 │\n",
       "├─────────────┼─────────────┼─────────┼─────────┼─────────┼───────┤\n",
       "│ RecID       │ INTEGER     │ YES     │ NULL    │ NULL    │  NULL │\n",
       "│ latitude    │ DOUBLE      │ YES     │ NULL    │ NULL    │  NULL │\n",
       "│ longitude   │ DOUBLE      │ YES     │ NULL    │ NULL    │  NULL │\n",
       "│ Name        │ VARCHAR     │ YES     │ NULL    │ NULL    │  NULL │\n",
       "│ Status      │ VARCHAR     │ YES     │ NULL    │ NULL    │  NULL │\n",
       "│ Owner       │ VARCHAR     │ YES     │ NULL    │ NULL    │  NULL │\n",
       "│ Cogenerati  │ VARCHAR     │ YES     │ NULL    │ NULL    │  NULL │\n",
       "│ Facility_T  │ VARCHAR     │ YES     │ NULL    │ NULL    │  NULL │\n",
       "│ Feedstock_  │ VARCHAR     │ YES     │ NULL    │ NULL    │  NULL │\n",
       "│ Employees   │ VARCHAR     │ YES     │ NULL    │ NULL    │  NULL │\n",
       "│ StAddr      │ VARCHAR     │ YES     │ NULL    │ NULL    │  NULL │\n",
       "│ City        │ VARCHAR     │ YES     │ NULL    │ NULL    │  NULL │\n",
       "│ County      │ VARCHAR     │ YES     │ NULL    │ NULL    │  NULL │\n",
       "│ Year        │ DATE        │ YES     │ NULL    │ NULL    │  NULL │\n",
       "│ JoinSymbol  │ VARCHAR     │ YES     │ NULL    │ NULL    │  NULL │\n",
       "│ ObjectId    │ INTEGER     │ YES     │ NULL    │ NULL    │  NULL │\n",
       "│ geom        │ GEOMETRY    │ YES     │ NULL    │ NULL    │  NULL │\n",
       "├─────────────┴─────────────┴─────────┴─────────┴─────────┴───────┤\n",
       "│ 17 rows                                               6 columns │\n",
       "└─────────────────────────────────────────────────────────────────┘"
      ]
     },
     "execution_count": 15,
     "metadata": {},
     "output_type": "execute_result"
    }
   ],
   "source": [
    "# View sawmill table schema\n",
    "con.sql('''\n",
    "    DESCRIBE sawmill\n",
    "        \n",
    "''')"
   ]
  },
  {
   "cell_type": "code",
   "execution_count": 16,
   "metadata": {},
   "outputs": [
    {
     "data": {
      "text/plain": [
       "┌────────────┬───────┐\n",
       "│   County   │ Count │\n",
       "│  varchar   │ int64 │\n",
       "├────────────┼───────┤\n",
       "│ Shasta     │     5 │\n",
       "│ Humboldt   │     4 │\n",
       "│ Sonoma     │     3 │\n",
       "│ Butte      │     2 │\n",
       "│ Mendocino  │     2 │\n",
       "│ Siskiyou   │     2 │\n",
       "│ Tuolumne   │     2 │\n",
       "│ Plumas     │     2 │\n",
       "│ Trinity    │     1 │\n",
       "│ Lake, OR   │     1 │\n",
       "│ Placer     │     1 │\n",
       "│ Tulare     │     1 │\n",
       "│ Santa Cruz │     1 │\n",
       "├────────────┴───────┤\n",
       "│ 13 rows  2 columns │\n",
       "└────────────────────┘"
      ]
     },
     "execution_count": 16,
     "metadata": {},
     "output_type": "execute_result"
    }
   ],
   "source": [
    "# Sum sawmills by county\n",
    "con.sql('''\n",
    "    SELECT County, COUNT(*) as Count\n",
    "    FROM sawmill\n",
    "    GROUP BY County\n",
    "    ORDER BY count DESC\n",
    "''')"
   ]
  },
  {
   "cell_type": "code",
   "execution_count": 21,
   "metadata": {},
   "outputs": [
    {
     "data": {
      "text/plain": [
       "┌───────┬─────────────┬──────────────┬──────────────────────┬───┬────────────┬──────────┬──────────────────────┐\n",
       "│ RecID │  latitude   │  longitude   │         Name         │ … │ JoinSymbol │ ObjectId │         geom         │\n",
       "│ int32 │   double    │    double    │       varchar        │   │  varchar   │  int32   │       geometry       │\n",
       "├───────┼─────────────┼──────────────┼──────────────────────┼───┼────────────┼──────────┼──────────────────────┤\n",
       "│    25 │   35.576448 │  -119.005818 │ DTE Mt. Poso Cogen   │ … │ 25_2021    │       27 │ POINT (-119.005818…  │\n",
       "│    14 │   36.569581 │  -119.418984 │ Dinuba Energy        │ … │ 14_2021    │       56 │ POINT (-119.418984…  │\n",
       "│    15 │   38.524353 │  -121.903077 │ Dixon Ridge Farms …  │ … │ 15_2021    │       94 │ POINT (-121.903077…  │\n",
       "│    16 │   37.943945 │  -121.330053 │ DTE Stockton Bioma…  │ … │ 16_2021    │      110 │ POINT (-121.330053…  │\n",
       "│    22 │   36.755903 │  -120.365273 │ Covanta Mendota Po…  │ … │ 22_2021    │      122 │ POINT (-120.365273…  │\n",
       "│    19 │   32.906602 │   -115.51372 │ Imperial Valley Re…  │ … │ 19_2021    │      124 │ POINT (-115.51372 …  │\n",
       "│    18 │   40.368492 │  -120.264999 │ Honey Lake Power     │ … │ 18_2021    │      206 │ POINT (-120.264999…  │\n",
       "│    28 │   37.874644 │  -120.477546 │ Pacific Ultrapower…  │ … │ 28_2021    │      297 │ POINT (-120.477546…  │\n",
       "│     5 │   40.879724 │  -121.720406 │ Burney Forest Prod…  │ … │ 5_2021     │      345 │ POINT (-121.720406…  │\n",
       "│     6 │   40.909703 │  -121.639961 │ Covanta Burney Mtn…  │ … │ 6_2021     │      379 │ POINT (-121.639961…  │\n",
       "│     · │       ·     │       ·      │          ·           │ · │   ·        │       ·  │          ·           │\n",
       "│     · │       ·     │       ·      │          ·           │ · │   ·        │       ·  │          ·           │\n",
       "│     · │       ·     │       ·      │          ·           │ · │   ·        │       ·  │          ·           │\n",
       "│   140 │   37.505994 │  -120.012666 │ Mariposa BioMAT Pr…  │ … │ 140_2021   │     2030 │ POINT (-120.012666…  │\n",
       "│   141 │ 39.46624093 │ -121.5218733 │ Mooretown Rancheri…  │ … │ 141_2021   │     2039 │ POINT (-121.521873…  │\n",
       "│   142 │ 39.80247641 │ -123.2495589 │ Round Valley BioMA…  │ … │ 142_2021   │     2048 │ POINT (-123.249558…  │\n",
       "│   143 │ 39.65483903 │ -123.6251896 │ Branscomb BioMAT P…  │ … │ 143_2021   │     2057 │ POINT (-123.625189…  │\n",
       "│   144 │ 40.09576776 │ -120.9081135 │ Crescent Mill BioM…  │ … │ 144_2021   │     2068 │ POINT (-120.908113…  │\n",
       "│   145 │   37.065986 │  -119.492349 │ Auberry BioMAT Pro…  │ … │ 145_2021   │     2081 │ POINT (-119.492349…  │\n",
       "│   146 │    37.87842 │   -120.45625 │ Sierra Energy BioM…  │ … │ 146_2021   │     2090 │ POINT (-120.45625 …  │\n",
       "│   148 │   39.951443 │  -120.965536 │ Plumas County Heal…  │ … │ 148_2021   │     2111 │ POINT (-120.965536…  │\n",
       "│   149 │ 37.90911928 │ -119.0647879 │ Town of Mammoth La…  │ … │ 149_2021   │     2127 │ POINT (-119.064787…  │\n",
       "│   150 │   40.896061 │  -121.649039 │ Bioenergy Cluster …  │ … │ 150_2021   │     2133 │ POINT (-121.649039…  │\n",
       "├───────┴─────────────┴──────────────┴──────────────────────┴───┴────────────┴──────────┴──────────────────────┤\n",
       "│ 60 rows (20 shown)                                                                      20 columns (7 shown) │\n",
       "└──────────────────────────────────────────────────────────────────────────────────────────────────────────────┘"
      ]
     },
     "execution_count": 21,
     "metadata": {},
     "output_type": "execute_result"
    }
   ],
   "source": [
    "# Create biomass table from the shp file and show\n",
    "con.sql('''\n",
    "    CREATE TABLE IF NOT EXISTS biomass as\n",
    "    SELECT * FROM ST_Read('./CurrentBiomass/Current_Wood_Facility_Database_Biomass.shp')\n",
    "''')\n",
    "con.table('biomass')"
   ]
  },
  {
   "cell_type": "code",
   "execution_count": 22,
   "metadata": {},
   "outputs": [
    {
     "data": {
      "text/plain": [
       "┌─────────────┬─────────────┬─────────┬─────────┬─────────┬───────┐\n",
       "│ column_name │ column_type │  null   │   key   │ default │ extra │\n",
       "│   varchar   │   varchar   │ varchar │ varchar │ varchar │ int32 │\n",
       "├─────────────┼─────────────┼─────────┼─────────┼─────────┼───────┤\n",
       "│ RecID       │ INTEGER     │ YES     │ NULL    │ NULL    │  NULL │\n",
       "│ latitude    │ DOUBLE      │ YES     │ NULL    │ NULL    │  NULL │\n",
       "│ longitude   │ DOUBLE      │ YES     │ NULL    │ NULL    │  NULL │\n",
       "│ Name        │ VARCHAR     │ YES     │ NULL    │ NULL    │  NULL │\n",
       "│ Status      │ VARCHAR     │ YES     │ NULL    │ NULL    │  NULL │\n",
       "│ Owner       │ VARCHAR     │ YES     │ NULL    │ NULL    │  NULL │\n",
       "│ Cogenerati  │ VARCHAR     │ YES     │ NULL    │ NULL    │  NULL │\n",
       "│ Facility_T  │ VARCHAR     │ YES     │ NULL    │ NULL    │  NULL │\n",
       "│ Feedstock_  │ VARCHAR     │ YES     │ NULL    │ NULL    │  NULL │\n",
       "│ MW_Namepla  │ VARCHAR     │ YES     │ NULL    │ NULL    │  NULL │\n",
       "│ MW_Grid     │ VARCHAR     │ YES     │ NULL    │ NULL    │  NULL │\n",
       "│ MW_Parasit  │ VARCHAR     │ YES     │ NULL    │ NULL    │  NULL │\n",
       "│ Employees   │ VARCHAR     │ YES     │ NULL    │ NULL    │  NULL │\n",
       "│ StAddr      │ VARCHAR     │ YES     │ NULL    │ NULL    │  NULL │\n",
       "│ City        │ VARCHAR     │ YES     │ NULL    │ NULL    │  NULL │\n",
       "│ County      │ VARCHAR     │ YES     │ NULL    │ NULL    │  NULL │\n",
       "│ Year        │ DATE        │ YES     │ NULL    │ NULL    │  NULL │\n",
       "│ JoinSymbol  │ VARCHAR     │ YES     │ NULL    │ NULL    │  NULL │\n",
       "│ ObjectId    │ INTEGER     │ YES     │ NULL    │ NULL    │  NULL │\n",
       "│ geom        │ GEOMETRY    │ YES     │ NULL    │ NULL    │  NULL │\n",
       "├─────────────┴─────────────┴─────────┴─────────┴─────────┴───────┤\n",
       "│ 20 rows                                               6 columns │\n",
       "└─────────────────────────────────────────────────────────────────┘"
      ]
     },
     "execution_count": 22,
     "metadata": {},
     "output_type": "execute_result"
    }
   ],
   "source": [
    "# View biomass table schema\n",
    "con.sql('''\n",
    "    DESCRIBE biomass\n",
    "''')"
   ]
  },
  {
   "cell_type": "code",
   "execution_count": 24,
   "metadata": {},
   "outputs": [
    {
     "name": "stdout",
     "output_type": "stream",
     "text": [
      "┌───────┬───────────┬─────────────┬───┬────────────┬──────────────────────┬────────────┬──────────────────────┐\n",
      "│ RecID │ latitude  │  longitude  │ … │   Year:1   │     JoinSymbol:1     │ ObjectId:1 │        geom:1        │\n",
      "│ int32 │  double   │   double    │   │    date    │       varchar        │   int32    │       geometry       │\n",
      "├───────┼───────────┼─────────────┼───┼────────────┼──────────────────────┼────────────┼──────────────────────┤\n",
      "│    14 │ 36.569581 │ -119.418984 │ … │ 2020-01-01 │ Operational Large …  │         48 │ POINT (-119.048917…  │\n",
      "│    28 │ 37.874644 │ -120.477546 │ … │ 2020-01-01 │ Operational Large …  │         47 │ POINT (-120.317478…  │\n",
      "│     5 │ 40.879724 │ -121.720406 │ … │ 2020-01-01 │ Operational Post/P…  │         54 │ POINT (-122.345292…  │\n",
      "│     6 │ 40.909703 │ -121.639961 │ … │ 2020-01-01 │ Operational Post/P…  │         54 │ POINT (-122.345292…  │\n",
      "│     7 │ 41.475178 │ -122.829037 │ … │ 2020-01-01 │ Operational Peeler…  │         53 │ POINT (-122.593349…  │\n",
      "│     9 │ 40.302842 │ -121.244088 │ … │ 2020-01-01 │ Operational Large …  │         44 │ POINT (-120.911261…  │\n",
      "│    20 │ 40.473227 │ -122.328937 │ … │ 2020-01-01 │ Operational Post/P…  │         54 │ POINT (-122.345292…  │\n",
      "│    12 │  40.79946 │  -124.20309 │ … │ 2020-01-01 │ Operational Large …  │         45 │ POINT (-124.102748…  │\n",
      "│    27 │ 39.480996 │ -121.565567 │ … │ 2020-01-01 │ Operational Large …  │         43 │ POINT (-121.556893…  │\n",
      "│     3 │ 40.877693 │ -123.994609 │ … │ 2020-01-01 │ Operational Large …  │         45 │ POINT (-124.102748…  │\n",
      "│     · │     ·     │      ·      │ · │     ·      │          ·           │          · │          ·           │\n",
      "│     · │     ·     │      ·      │ · │     ·      │          ·           │          · │          ·           │\n",
      "│     · │     ·     │      ·      │ · │     ·      │          ·           │          · │          ·           │\n",
      "│   137 │ 40.988223 │ -121.621177 │ … │ 2020-01-01 │ Operational Large …  │         36 │ POINT (-121.726662…  │\n",
      "│   150 │ 40.896061 │ -121.649039 │ … │ 2020-01-01 │ Operational Large …  │         36 │ POINT (-121.726662…  │\n",
      "│     5 │ 40.879724 │ -121.720406 │ … │ 2020-01-01 │ Operational Large …  │         33 │ POINT (-122.320991…  │\n",
      "│     6 │ 40.909703 │ -121.639961 │ … │ 2020-01-01 │ Operational Large …  │         33 │ POINT (-122.320991…  │\n",
      "│    20 │ 40.473227 │ -122.328937 │ … │ 2020-01-01 │ Operational Large …  │         33 │ POINT (-122.320991…  │\n",
      "│    51 │ 40.429592 │ -122.278243 │ … │ 2020-01-01 │ Operational Large …  │         33 │ POINT (-122.320991…  │\n",
      "│    42 │  40.47185 │ -122.324034 │ … │ 2020-01-01 │ Operational Large …  │         33 │ POINT (-122.320991…  │\n",
      "│    40 │ 40.876759 │ -121.701845 │ … │ 2020-01-01 │ Operational Large …  │         33 │ POINT (-122.320991…  │\n",
      "│   137 │ 40.988223 │ -121.621177 │ … │ 2020-01-01 │ Operational Large …  │         33 │ POINT (-122.320991…  │\n",
      "│   150 │ 40.896061 │ -121.649039 │ … │ 2020-01-01 │ Operational Large …  │         33 │ POINT (-122.320991…  │\n",
      "├───────┴───────────┴─────────────┴───┴────────────┴──────────────────────┴────────────┴──────────────────────┤\n",
      "│ 86 rows (20 shown)                                                                     37 columns (7 shown) │\n",
      "└─────────────────────────────────────────────────────────────────────────────────────────────────────────────┘\n",
      "\n"
     ]
    }
   ],
   "source": [
    "# Perform spatial join and create new table\n",
    "con.sql('''\n",
    "    CREATE TABLE bio_join AS\n",
    "    SELECT *\n",
    "    FROM biomass\n",
    "    JOIN sawmill\n",
    "    ON biomass.County = sawmill.County\n",
    "''')\n",
    "\n",
    "# Verify that the new table has been created\n",
    "print(con.table('bio_join'))"
   ]
  },
  {
   "cell_type": "code",
   "execution_count": 32,
   "metadata": {},
   "outputs": [
    {
     "name": "stdout",
     "output_type": "stream",
     "text": [
      "┌───────────┬───────┐\n",
      "│  County   │ count │\n",
      "│  varchar  │ int64 │\n",
      "├───────────┼───────┤\n",
      "│ Humboldt  │    12 │\n",
      "│ Tuolumne  │     8 │\n",
      "│ Shasta    │    40 │\n",
      "│ Plumas    │     8 │\n",
      "│ Tulare    │     2 │\n",
      "│ Placer    │     2 │\n",
      "│ Siskiyou  │     6 │\n",
      "│ Butte     │     4 │\n",
      "│ Mendocino │     4 │\n",
      "└───────────┴───────┘\n",
      "\n"
     ]
    }
   ],
   "source": [
    "result = con.sql('''\n",
    "    SELECT county, COUNT(*) as count\n",
    "    FROM bio_join\n",
    "    GROUP BY County\n",
    "''')\n",
    "print(result)"
   ]
  }
 ],
 "metadata": {
  "kernelspec": {
   "display_name": "spatial",
   "language": "python",
   "name": "python3"
  },
  "language_info": {
   "codemirror_mode": {
    "name": "ipython",
    "version": 3
   },
   "file_extension": ".py",
   "mimetype": "text/x-python",
   "name": "python",
   "nbconvert_exporter": "python",
   "pygments_lexer": "ipython3",
   "version": "3.11.8"
  }
 },
 "nbformat": 4,
 "nbformat_minor": 2
}
