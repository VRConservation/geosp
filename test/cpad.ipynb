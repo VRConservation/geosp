{
 "cells": [
  {
   "cell_type": "code",
   "execution_count": 32,
   "metadata": {},
   "outputs": [
    {
     "data": {
      "text/html": [
       "\n",
       "            <style>\n",
       "                .geemap-dark {\n",
       "                    --jp-widgets-color: white;\n",
       "                    --jp-widgets-label-color: white;\n",
       "                    --jp-ui-font-color1: white;\n",
       "                    --jp-layout-color2: #454545;\n",
       "                    background-color: #383838;\n",
       "                }\n",
       "                    \n",
       "                .geemap-dark .jupyter-button {\n",
       "                    --jp-layout-color3: #383838;\n",
       "                }\n",
       "                \n",
       "                .geemap-colab {\n",
       "                    background-color: var(--colab-primary-surface-color, white);\n",
       "                }\n",
       "                    \n",
       "                .geemap-colab .jupyter-button {\n",
       "                    --jp-layout-color3: var(--colab-primary-surface-color, white);\n",
       "                }\n",
       "            </style>\n",
       "            "
      ],
      "text/plain": [
       "<IPython.core.display.HTML object>"
      ]
     },
     "metadata": {},
     "output_type": "display_data"
    }
   ],
   "source": [
    "import duckdb\n",
    "import leafmap\n",
    "import pandas as pd\n",
    "import geopandas as gpd"
   ]
  },
  {
   "cell_type": "code",
   "execution_count": 4,
   "metadata": {},
   "outputs": [],
   "source": [
    "con = duckdb.connect()\n",
    "con.install_extension(\"httpfs\")\n",
    "con.load_extension(\"httpfs\")\n",
    "con.install_extension(\"spatial\")\n",
    "con.load_extension(\"spatial\")"
   ]
  },
  {
   "cell_type": "code",
   "execution_count": 5,
   "metadata": {},
   "outputs": [
    {
     "data": {
      "application/vnd.jupyter.widget-view+json": {
       "model_id": "d39db67cbdf2488286da21b2d117d17f",
       "version_major": 2,
       "version_minor": 0
      },
      "text/plain": [
       "FloatProgress(value=0.0, layout=Layout(width='auto'), style=ProgressStyle(bar_color='black'))"
      ]
     },
     "metadata": {},
     "output_type": "display_data"
    },
    {
     "data": {
      "text/plain": [
       "┌──────────┬──────────────────────┬──────────────────────┬───┬────────────┬────────────┬─────────────┬───────────────┐\n",
       "│ OBJECTID │         NAME         │        AGENCY        │ … │ GAP4_acres │ GAP_tot_ac │ Shape__Area │ Shape__Length │\n",
       "│ varchar  │       varchar        │       varchar        │   │  varchar   │  varchar   │   varchar   │    varchar    │\n",
       "├──────────┼──────────────────────┼──────────────────────┼───┼────────────┼────────────┼─────────────┼───────────────┤\n",
       "│ 1        │ El Corte de Madera…  │ Midpeninsula Regio…  │ … │ 0          │ 1          │ 11258.48438 │ 419.143937    │\n",
       "│ 2        │ La Raggione Tot Lot  │ San Jose, City of    │ … │ 0.31       │ 0.31       │ 1974.441406 │ 184.4334246   │\n",
       "│ 3        │ Shady Oaks Park      │ San Jose, City of    │ … │ 8          │ 8          │ 53018.16406 │ 998.8756168   │\n",
       "│ 4        │ West Evergreen Park  │ San Jose, City of    │ … │ 1          │ 1          │ 6596.527344 │ 329.6446295   │\n",
       "│ 5        │ Martin Griffin Pre…  │ Audubon Canyon Ranch │ … │ 0          │ 237        │ 1548386.953 │ 6127.604575   │\n",
       "│ 6        │ Unnamed site - San…  │ Santa Barbara, Cou…  │ … │ 0          │ 1          │ 7399.367188 │ 632.4040709   │\n",
       "│ 7        │ Unnamed site - San…  │ Santa Barbara, Cou…  │ … │ 0          │ 1          │ 7923.46875  │ 588.9376219   │\n",
       "│ 8        │ Unnamed site - San…  │ Santa Barbara, Cou…  │ … │ 0          │ 1          │ 7790.328125 │ 591.7555362   │\n",
       "│ 9        │ Unnamed site - San…  │ Santa Barbara, Cou…  │ … │ 2          │ 2          │ 13251.32813 │ 1231.402377   │\n",
       "│ 10       │ Unnamed site - San…  │ Santa Barbara, Cou…  │ … │ 0.24       │ 0.96       │ 5831.574219 │ 584.2922433   │\n",
       "│ ·        │  ·                   │          ·           │ · │ ·          │  ·         │      ·      │      ·        │\n",
       "│ ·        │  ·                   │          ·           │ · │ ·          │  ·         │      ·      │      ·        │\n",
       "│ ·        │  ·                   │          ·           │ · │ ·          │  ·         │      ·      │      ·        │\n",
       "│ 9991     │ USFS                 │ United States Fore…  │ … │ 0          │ 0.63       │ 4711.039063 │ 266.0078534   │\n",
       "│ 9992     │ USFS                 │ United States Fore…  │ … │ 0          │ 0.12       │ 1003.082031 │ 130.1271006   │\n",
       "│ 9993     │ USFS                 │ United States Fore…  │ … │ 0          │ 0.37       │ 3102.324219 │ 225.5538418   │\n",
       "│ 9994     │ Franklin Canyon      │ John Muir Land Trust │ … │ 0          │ 11         │ 73294.06641 │ 1119.17658    │\n",
       "│ 9995     │ Franklin Canyon      │ John Muir Land Trust │ … │ 0          │ 0.03       │ 180.8203125 │ 54.35319812   │\n",
       "│ 9996     │ Oakshade Greenbelt   │ Davis, City of       │ … │ 0.35       │ 0.35       │ 2303.945313 │ 360.0755384   │\n",
       "│ 9997     │ USFS                 │ United States Fore…  │ … │ 0          │ 0.23       │ 1551.238281 │ 158.1763743   │\n",
       "│ 9998     │ USFS                 │ United States Fore…  │ … │ 0          │ 0.11       │ 982.0703125 │ 137.28565     │\n",
       "│ 9999     │ Calero County Park   │ Santa Clara County…  │ … │ 2194       │ 2194       │ 14011895.17 │ 40265.55033   │\n",
       "│ 10000    │ USFS                 │ United States Fore…  │ … │ 0          │ 0.35       │ 2489.3125   │ 254.0934595   │\n",
       "├──────────┴──────────────────────┴──────────────────────┴───┴────────────┴────────────┴─────────────┴───────────────┤\n",
       "│ ? rows (>9999 rows, 20 shown)                                                                 17 columns (7 shown) │\n",
       "└────────────────────────────────────────────────────────────────────────────────────────────────────────────────────┘"
      ]
     },
     "execution_count": 5,
     "metadata": {},
     "output_type": "execute_result"
    }
   ],
   "source": [
    "con.sql(\"\"\"\n",
    "        CREATE TABLE IF NOT EXISTS cpad as\n",
    "        SELECT * FROM ST_Read('C:/Users/vance/Downloads/cpadclean.csv')\n",
    "\n",
    "\"\"\")\n",
    "con.table(\"cpad\")"
   ]
  },
  {
   "cell_type": "code",
   "execution_count": 59,
   "metadata": {},
   "outputs": [
    {
     "data": {
      "text/html": [
       "\n",
       "            <style>\n",
       "                .geemap-dark {\n",
       "                    --jp-widgets-color: white;\n",
       "                    --jp-widgets-label-color: white;\n",
       "                    --jp-ui-font-color1: white;\n",
       "                    --jp-layout-color2: #454545;\n",
       "                    background-color: #383838;\n",
       "                }\n",
       "                    \n",
       "                .geemap-dark .jupyter-button {\n",
       "                    --jp-layout-color3: #383838;\n",
       "                }\n",
       "                \n",
       "                .geemap-colab {\n",
       "                    background-color: var(--colab-primary-surface-color, white);\n",
       "                }\n",
       "                    \n",
       "                .geemap-colab .jupyter-button {\n",
       "                    --jp-layout-color3: var(--colab-primary-surface-color, white);\n",
       "                }\n",
       "            </style>\n",
       "            "
      ],
      "text/plain": [
       "<IPython.core.display.HTML object>"
      ]
     },
     "metadata": {},
     "output_type": "display_data"
    },
    {
     "data": {
      "text/plain": [
       "┌──────────────────────┬───────────────────────────────────────────┬───────────────────┬─────────────────┬─────────────┐\n",
       "│         NAME         │                  AGENCY                   │      ACCESS       │     COUNTY      │    ACRES    │\n",
       "│       varchar        │                  varchar                  │      varchar      │     varchar     │   varchar   │\n",
       "├──────────────────────┼───────────────────────────────────────────┼───────────────────┼─────────────────┼─────────────┤\n",
       "│ BLM                  │ United States Bureau of Land Management   │ Open Access       │ San Bernardino  │ 999.978904  │\n",
       "│ Lassen National Fo…  │ United States Forest Service              │ Open Access       │ Shasta          │ 999.4542589 │\n",
       "│ Unnamed site - Cal…  │ California Tahoe Conservancy              │ No Public Access  │ Placer          │ 999.4033232 │\n",
       "│ Los Padres Nationa…  │ United States Forest Service              │ Open Access       │ Ventura         │ 998.7598506 │\n",
       "│ Irvine Ranch Open …  │ Orange, County of                         │ Restricted Access │ Orange          │ 998.4113732 │\n",
       "│ Mojave National Pr…  │ United States National Park Service       │ Open Access       │ San Bernardino  │ 997.445544  │\n",
       "│ Carrizo Plain Nati…  │ United States Bureau of Land Management   │ Open Access       │ San Luis Obispo │ 997.1892275 │\n",
       "│ Upper Butte Basin …  │ California Department of Fish and Wildl…  │ Open Access       │ Butte           │ 997.1643018 │\n",
       "│ BLM                  │ United States Bureau of Land Management   │ Open Access       │ Trinity         │ 9968.988356 │\n",
       "│ Nacimiento County …  │ Monterey, County of                       │ Open Access       │ San Luis Obispo │ 996.8098597 │\n",
       "│ BLM                  │ United States Bureau of Land Management   │ Open Access       │ Alpine          │ 996.7652871 │\n",
       "│ Lassen National Fo…  │ United States Forest Service              │ Open Access       │ Shasta          │ 996.5092828 │\n",
       "│ Los Padres Nationa…  │ United States Forest Service              │ Open Access       │ San Luis Obispo │ 996.4914496 │\n",
       "│ Lassen National Fo…  │ United States Forest Service              │ Open Access       │ Shasta          │ 996.3318124 │\n",
       "│ Sierra National Fo…  │ United States Forest Service              │ Open Access       │ Fresno          │ 994.6004685 │\n",
       "│ Anza-Borrego Deser…  │ California Department of Parks and Recr…  │ Open Access       │ Riverside       │ 994.3785448 │\n",
       "│ Inyo National Forest │ United States Forest Service              │ Open Access       │ Inyo            │ 9937.143522 │\n",
       "│ Los Padres Nationa…  │ United States Forest Service              │ Open Access       │ Ventura         │ 993.6781314 │\n",
       "│ Cleveland National…  │ United States Forest Service              │ Open Access       │ San Diego       │ 993.0848688 │\n",
       "│ Giant Sequoia Nati…  │ United States Forest Service              │ Open Access       │ Tulare          │ 992.4172023 │\n",
       "├──────────────────────┴───────────────────────────────────────────┴───────────────────┴─────────────────┴─────────────┤\n",
       "│ 20 rows                                                                                                    5 columns │\n",
       "└──────────────────────────────────────────────────────────────────────────────────────────────────────────────────────┘"
      ]
     },
     "execution_count": 59,
     "metadata": {},
     "output_type": "execute_result"
    }
   ],
   "source": [
    "con.sql(\"\"\"\n",
    "        SELECT NAME, AGENCY, ACCESS, COUNTY, ACRES FROM CPAD\n",
    "        ORDER BY ACRES desc\n",
    "        LIMIT 20\n",
    "\"\"\")\n"
   ]
  },
  {
   "cell_type": "code",
   "execution_count": 6,
   "metadata": {},
   "outputs": [
    {
     "data": {
      "text/plain": [
       "┌───────────────┬─────────────┬─────────┬─────────┬─────────┬───────┐\n",
       "│  column_name  │ column_type │  null   │   key   │ default │ extra │\n",
       "│    varchar    │   varchar   │ varchar │ varchar │ varchar │ int32 │\n",
       "├───────────────┼─────────────┼─────────┼─────────┼─────────┼───────┤\n",
       "│ OBJECTID      │ VARCHAR     │ YES     │ NULL    │ NULL    │  NULL │\n",
       "│ NAME          │ VARCHAR     │ YES     │ NULL    │ NULL    │  NULL │\n",
       "│ AGENCY        │ VARCHAR     │ YES     │ NULL    │ NULL    │  NULL │\n",
       "│ AGNCY_TYP     │ VARCHAR     │ YES     │ NULL    │ NULL    │  NULL │\n",
       "│ ACCESS        │ VARCHAR     │ YES     │ NULL    │ NULL    │  NULL │\n",
       "│ LAND_WATER    │ VARCHAR     │ YES     │ NULL    │ NULL    │  NULL │\n",
       "│ COUNTY        │ VARCHAR     │ YES     │ NULL    │ NULL    │  NULL │\n",
       "│ ACRES         │ VARCHAR     │ YES     │ NULL    │ NULL    │  NULL │\n",
       "│ DATE_REVIS    │ VARCHAR     │ YES     │ NULL    │ NULL    │  NULL │\n",
       "│ YR_EST        │ VARCHAR     │ YES     │ NULL    │ NULL    │  NULL │\n",
       "│ GAP1_acres    │ VARCHAR     │ YES     │ NULL    │ NULL    │  NULL │\n",
       "│ GAP2_acres    │ VARCHAR     │ YES     │ NULL    │ NULL    │  NULL │\n",
       "│ GAP3_acres    │ VARCHAR     │ YES     │ NULL    │ NULL    │  NULL │\n",
       "│ GAP4_acres    │ VARCHAR     │ YES     │ NULL    │ NULL    │  NULL │\n",
       "│ GAP_tot_ac    │ VARCHAR     │ YES     │ NULL    │ NULL    │  NULL │\n",
       "│ Shape__Area   │ VARCHAR     │ YES     │ NULL    │ NULL    │  NULL │\n",
       "│ Shape__Length │ VARCHAR     │ YES     │ NULL    │ NULL    │  NULL │\n",
       "├───────────────┴─────────────┴─────────┴─────────┴─────────┴───────┤\n",
       "│ 17 rows                                                 6 columns │\n",
       "└───────────────────────────────────────────────────────────────────┘"
      ]
     },
     "execution_count": 6,
     "metadata": {},
     "output_type": "execute_result"
    }
   ],
   "source": [
    "con.sql('''\n",
    "    DESCRIBE cpad\n",
    "''')"
   ]
  },
  {
   "cell_type": "code",
   "execution_count": 24,
   "metadata": {},
   "outputs": [
    {
     "data": {
      "text/plain": [
       "┌────────────────┬───────────┐\n",
       "│     COUNTY     │ SUM_ACRES │\n",
       "│    varchar     │  double   │\n",
       "├────────────────┼───────────┤\n",
       "│ San Bernardino │ 8520747.0 │\n",
       "│ Inyo           │ 5985768.0 │\n",
       "│ Riverside      │ 2948155.0 │\n",
       "│ Siskiyou       │ 2579078.0 │\n",
       "│ Mono           │ 1863675.0 │\n",
       "│ Lassen         │ 1771334.0 │\n",
       "│ Modoc          │ 1716097.0 │\n",
       "│ Imperial       │ 1575202.0 │\n",
       "│ Trinity        │ 1564125.0 │\n",
       "│ Tulare         │ 1558949.0 │\n",
       "│   ·            │      ·    │\n",
       "│   ·            │      ·    │\n",
       "│   ·            │      ·    │\n",
       "│ Santa Cruz     │   85694.0 │\n",
       "│ Yuba           │   82869.0 │\n",
       "│ Solano         │   74603.0 │\n",
       "│ Sacramento     │   70849.0 │\n",
       "│ Yolo           │   69666.0 │\n",
       "│ Stanislaus     │   55134.0 │\n",
       "│ San Joaquin    │   30776.0 │\n",
       "│ Kings          │   23855.0 │\n",
       "│ Sutter         │   14931.0 │\n",
       "│ San Francisco  │    5850.0 │\n",
       "├────────────────┴───────────┤\n",
       "│     58 rows (20 shown)     │\n",
       "└────────────────────────────┘"
      ]
     },
     "execution_count": 24,
     "metadata": {},
     "output_type": "execute_result"
    }
   ],
   "source": [
    "con.sql('''\n",
    "    SELECT COUNTY, ROUND(SUM(CAST(ACRES AS DOUBLE)),0) as SUM_ACRES\n",
    "    FROM cpad\n",
    "    GROUP BY COUNTY\n",
    "    ORDER BY SUM_ACRES DESC\n",
    "''')"
   ]
  },
  {
   "cell_type": "code",
   "execution_count": null,
   "metadata": {},
   "outputs": [],
   "source": []
  },
  {
   "cell_type": "code",
   "execution_count": 25,
   "metadata": {},
   "outputs": [
    {
     "data": {
      "application/vnd.jupyter.widget-view+json": {
       "model_id": "3359e465100549c3952cb86d7afcdb8e",
       "version_major": 2,
       "version_minor": 0
      },
      "text/plain": [
       "Map(center=[36.7783, -119.4179], controls=(ZoomControl(options=['position', 'zoom_in_text', 'zoom_in_title', '…"
      ]
     },
     "metadata": {},
     "output_type": "display_data"
    }
   ],
   "source": [
    "import leafmap\n",
    "m = leafmap.Map()\n",
    "m.add_shp(\"D:/OneDrive/Documents/ArcGIS/Projects/Tutorials/Chapter7/CPAD_2020b_Units.shp\", layer_name=\"cpad\")\n",
    "m.set_center(-119.4179, 36.7783, zoom=6)\n",
    "m"
   ]
  },
  {
   "cell_type": "code",
   "execution_count": 48,
   "metadata": {},
   "outputs": [
    {
     "data": {
      "text/html": [
       "\n",
       "            <style>\n",
       "                .geemap-dark {\n",
       "                    --jp-widgets-color: white;\n",
       "                    --jp-widgets-label-color: white;\n",
       "                    --jp-ui-font-color1: white;\n",
       "                    --jp-layout-color2: #454545;\n",
       "                    background-color: #383838;\n",
       "                }\n",
       "                    \n",
       "                .geemap-dark .jupyter-button {\n",
       "                    --jp-layout-color3: #383838;\n",
       "                }\n",
       "                \n",
       "                .geemap-colab {\n",
       "                    background-color: var(--colab-primary-surface-color, white);\n",
       "                }\n",
       "                    \n",
       "                .geemap-colab .jupyter-button {\n",
       "                    --jp-layout-color3: var(--colab-primary-surface-color, white);\n",
       "                }\n",
       "            </style>\n",
       "            "
      ],
      "text/plain": [
       "<IPython.core.display.HTML object>"
      ]
     },
     "metadata": {},
     "output_type": "display_data"
    }
   ],
   "source": [
    "# Load the Inyo County and cpad shapefiles\n",
    "inyo = gpd.read_file('C:/Users/vance/Downloads/inyo/inyo.shp')\n",
    "cpad = gpd.read_file(\"D:/OneDrive/Documents/ArcGIS/Projects/Tutorials/Chapter7/CPAD_2020b_Units.shp\")"
   ]
  },
  {
   "cell_type": "code",
   "execution_count": 63,
   "metadata": {},
   "outputs": [
    {
     "data": {
      "text/html": [
       "\n",
       "            <style>\n",
       "                .geemap-dark {\n",
       "                    --jp-widgets-color: white;\n",
       "                    --jp-widgets-label-color: white;\n",
       "                    --jp-ui-font-color1: white;\n",
       "                    --jp-layout-color2: #454545;\n",
       "                    background-color: #383838;\n",
       "                }\n",
       "                    \n",
       "                .geemap-dark .jupyter-button {\n",
       "                    --jp-layout-color3: #383838;\n",
       "                }\n",
       "                \n",
       "                .geemap-colab {\n",
       "                    background-color: var(--colab-primary-surface-color, white);\n",
       "                }\n",
       "                    \n",
       "                .geemap-colab .jupyter-button {\n",
       "                    --jp-layout-color3: var(--colab-primary-surface-color, white);\n",
       "                }\n",
       "            </style>\n",
       "            "
      ],
      "text/plain": [
       "<IPython.core.display.HTML object>"
      ]
     },
     "metadata": {},
     "output_type": "display_data"
    },
    {
     "data": {
      "application/vnd.jupyter.widget-view+json": {
       "model_id": "7718f72ab3f149ec8059e8ca6d7fa599",
       "version_major": 2,
       "version_minor": 0
      },
      "text/plain": [
       "Map(center=[36.5531, -117.3921], controls=(ZoomControl(options=['position', 'zoom_in_text', 'zoom_in_title', '…"
      ]
     },
     "metadata": {},
     "output_type": "display_data"
    }
   ],
   "source": [
    "# Ensure both GeoDataFrames are in the same coordinate reference system\n",
    "inyo = inyo.to_crs(cpad.crs)\n",
    "\n",
    "# Perform the intersection\n",
    "intersection = gpd.overlay(cpad, inyo, how='intersection')\n",
    "\n",
    "# Create a map\n",
    "m = leafmap.Map()\n",
    "\n",
    "# Add the intersection to the map\n",
    "m.add_gdf(intersection, layer_name=\"intersection\")\n",
    "\n",
    "# Center the map\n",
    "m.set_center(-117.3921, 36.5531, zoom=8)\n",
    "\n",
    "# Display the map\n",
    "m"
   ]
  },
  {
   "cell_type": "code",
   "execution_count": null,
   "metadata": {},
   "outputs": [],
   "source": [
    "# Not sure if this will work\n",
    "con.sql(\"\"\"\n",
    "        CREATE TABLE IF NOT EXISTS inyo as\n",
    "        SELECT ROUND(SUM(CAST(area AS DOUBLE)),0) as TOTAL_AREA\n",
    "        FROM intersection\n",
    "\"\"\")"
   ]
  }
 ],
 "metadata": {
  "kernelspec": {
   "display_name": "spatial",
   "language": "python",
   "name": "python3"
  },
  "language_info": {
   "codemirror_mode": {
    "name": "ipython",
    "version": 3
   },
   "file_extension": ".py",
   "mimetype": "text/x-python",
   "name": "python",
   "nbconvert_exporter": "python",
   "pygments_lexer": "ipython3",
   "version": "3.11.8"
  }
 },
 "nbformat": 4,
 "nbformat_minor": 2
}
