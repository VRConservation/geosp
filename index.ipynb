{
 "cells": [
  {
   "cell_type": "markdown",
   "id": "d684595d",
   "metadata": {},
   "source": [
    "\n",
    "# FOSS GEOSPATIAL RESOURCES\n",
    "\n",
    "![logo](logo.png)\n"
   ]
  }
 ],
 "metadata": {
  "kernelspec": {
   "display_name": "Python 3",
   "language": "python",
   "name": "python3"
  }
 },
 "nbformat": 4,
 "nbformat_minor": 5
}
