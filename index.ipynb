{
 "cells": [
  {
   "cell_type": "markdown",
   "id": "e68e326c",
   "metadata": {},
   "source": [
    "# FOSS GEOSPATIAL RESOURCES\n",
    "\n",
    "\n",
    "I would like to cite earth engine {cite}`Gorelick2017-mz`.\n",
    "\n",
    "![logo](logo.png)"
   ]
  }
 ],
 "metadata": {
  "kernelspec": {
   "display_name": "Python 3",
   "language": "python",
   "name": "python3"
  }
 },
 "nbformat": 4,
 "nbformat_minor": 5
}
