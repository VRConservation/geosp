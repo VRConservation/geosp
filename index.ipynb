{
 "cells": [
  {
   "cell_type": "markdown",
   "id": "d684595d",
   "metadata": {},
   "source": [
    "# FOSS GEOSPATIAL RESOURCES\n",
    "\n",
    "\n",
    "I would like to cite earth engine {cite}`gorelick2017`.\n",
    "\n",
    "![logo](logo.png)"
   ]
  }
 ],
 "metadata": {
  "kernelspec": {
   "display_name": "Python 3",
   "language": "python",
   "name": "python3"
  }
 },
 "nbformat": 4,
 "nbformat_minor": 5
}
