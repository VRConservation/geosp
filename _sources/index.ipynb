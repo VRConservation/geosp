{
 "cells": [
  {
   "cell_type": "markdown",
   "id": "432c9c02",
   "metadata": {},
   "source": [
    "# FOSS GEOSPATIAL RESOURCES\n",
    "\n",
    "\n",
    "I would like to cite earth engine {cite}`Gorelick2017-mz`.\n",
    "\n",
    "![logo](logo.png)"
   ]
  }
 ],
 "metadata": {
  "jupytext": {
   "text_representation": {
    "extension": ".md",
    "format_name": "myst",
    "format_version": 0.13,
    "jupytext_version": "1.11.5"
   }
  },
  "kernelspec": {
   "display_name": "Python 3",
   "language": "python",
   "name": "python3"
  },
  "source_map": [
   12
  ]
 },
 "nbformat": 4,
 "nbformat_minor": 5
}