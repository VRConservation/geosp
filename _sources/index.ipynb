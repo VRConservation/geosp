{
 "cells": [
  {
   "cell_type": "markdown",
   "id": "71e408aa",
   "metadata": {},
   "source": [
    "# Welcome to FOS Geospatial Tools!\n",
    "\n",
    "![cover](cover.png)"
   ]
  }
 ],
 "metadata": {
  "kernelspec": {
   "display_name": "Python 3",
   "language": "python",
   "name": "python3"
  }
 },
 "nbformat": 4,
 "nbformat_minor": 5
}
