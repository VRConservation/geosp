{
 "cells": [
  {
   "cell_type": "markdown",
   "id": "f1a99207",
   "metadata": {},
   "source": [
    "# Appendix 2: Visual Studio Code\n",
    "Get your integrated development environment set up to code like a pro\n",
    "\n",
    "## Visual Studio Code\n",
    "[Visual Studio Code](https://code.visualstudio.com/) is a powerful open source code editor. There are other integrated development environments (IDEs) out there such as Pycharm or Spyder (comes with Anaconda), so choose the one that's best for you. Note that if you only use R, RStudio comes with an integrated terminal and IDE so you can solely work within RStudio. If you use multiple languages, however, VS Code is fantastic, used by many (so makes tutorials and learning new packages or languages easier) and it has many plugins to make it easy to use.\n",
    "\n",
    "Visual Studio Code has great documentation and setup tutorials available, so we won't go into those here. Download VS Code for your OS and open it. On the left hand pane there is an icon with 4 squares for extensions. Click on that to open it and install and activate the following extensions (use the search box at the top of the extension pane to find each extension):\n",
    "\n",
    "1. autoDocstring\n",
    "2. Bracket Pair Color DLW\n",
    "3. Code Spell Checker\n",
    "4. CodeSnap\n",
    "5. GitHub Actions, GitHub Pull Requests, and GitHub Repositories\n",
    "6. GitLens\n",
    "7. Highligh Matching Tag\n",
    "8. indent-rainbos\n",
    "9. Jupyter\n",
    "10. Prettier\n",
    "11. Python\n",
    "\n",
    "Optional extensions include github copilot (requires a subscription), chatgpt (requires account and subscription for some versions). I highly recommend considering copilot as the chat and autocomplete for it often suggest code that works or can help you resolve errors in your code when searches or your own editing doesn't work. It will also greatly speed up the process of producing code and does seem to be improving rapidly. Copilot is free to students and possibly free through select nonprofits organizations.\n",
    "\n",
    "## Environment Variables Setup\n",
    "In many cases VS Code isn't properly set up with the terminal, usually in Windows. Open the terminal by clicking the Terminal Window in the top bar of VS Code and select 'New Terminal'. In the command line enter `conda`. If you get a red error message follow these steps:\n",
    "\n",
    "1. Hit the windows button on your computer and type 'env' then select 'Edit the System Environment Variables'.\n",
    "2. In the system properties window, select 'Environment Variables'\n",
    "3. In the Environment Variables window under 'System variables' double click 'Path'\n",
    "4. In the Edit environment variable window, you should have a variable that looks like 'C:\\Users\\yourusername\\anaconda3\\Scripts\\conda.exe'. anaconda3 may be replaced by miniconda if you installed miniconda.\n",
    "5. If that doesn't exist open internet explorer and go to the Scripts file:\n",
    "    1. Select 'This PC' in the left pane of explorer\n",
    "    2. Open 'Users'\n",
    "    3. Open your username file, likely your first name\n",
    "    4. Scroll down and open miniconda or anaconda3 (don't open the files such as .anaconda keep scrolling until you find the file)\n",
    "    5. Open 'Scripts'\n",
    "    6. Find the conda.exe file. It could appear solely as 'conda'. Right click on the file and select 'Copy as path'.\n",
    "    7. Go back to the Edit environment variable double click at the bottom and then type control V on your keyboard to paste the conda file path into the variables. Ok your way out of each of the open windows.\n",
    "    8. Close Visual Studio Code\n",
    "6. Open VS Code and type conda in the terminal. You should no longer get an error.\n",
    "7. What a pain in the butt! To watch how to do this go to minute 34:20 of the [Introducing Visual Studio Code](http://gg.gg/1av3xn) video. Or this might convince you to purchase a machine with a linux OS where none of this is necessary!"
   ]
  }
 ],
 "metadata": {
  "jupytext": {
   "cell_metadata_filter": "-all",
   "main_language": "python",
   "notebook_metadata_filter": "-all"
  }
 },
 "nbformat": 4,
 "nbformat_minor": 5
}
