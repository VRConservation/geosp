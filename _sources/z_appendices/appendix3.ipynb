{
 "cells": [
  {
   "cell_type": "markdown",
   "id": "6864431a",
   "metadata": {},
   "source": [
    "# Appendix 3: Github\n",
    "Coming soon!\n",
    "\n",
    "<!-- ## Install Git\n",
    "1. Set up a github account at [github](https://github.com/)\n",
    "\n",
    "## Github\n",
    "\n",
    "1. Clone a repository. Copy the url in the green <> Code button from repo. \n",
    "2. Right click where you want folder, open in terminal and type the following `git push` \n",
    "\n",
    "```\n",
    "git clone htpps://repo-url\n",
    "```\n",
    "You can type control + v to paste the url after the command. You have to have Git installed on your computer to do this.\n",
    "\n",
    "## VS Code\n",
    "1. In the lower left corner of VS Code above the settings icon, click on the accounts icon and sign into your Github account. This will open a browser and allow you to sign into Github online. Select open in VS Code and open.\n",
    "2. Or directly in VS code control + shift + p type clone and select clone github repo.\n",
    "3. Right click in the folder you just cloned and select open in Visual Studio Code -->"
   ]
  }
 ],
 "metadata": {
  "jupytext": {
   "cell_metadata_filter": "-all",
   "main_language": "python",
   "notebook_metadata_filter": "-all"
  }
 },
 "nbformat": 4,
 "nbformat_minor": 5
}
