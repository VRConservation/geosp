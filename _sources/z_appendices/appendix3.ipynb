{
 "cells": [
  {
   "cell_type": "markdown",
   "id": "6864431a",
   "metadata": {},
   "source": [
    "# Appendix 3: Github\n",
    "\n",
    "## Install Git\n",
    "1. Set up a github account at [github](https://github.com/)"
   ]
  },
  {
   "cell_type": "markdown",
   "id": "2402024a",
   "metadata": {},
   "source": [
    "## Github\n",
    "1. Clone a repository. Copy the url in the green <> Code button from repo. \n",
    "2. Right click where you want folder, open in terminal and type the following `git push` \n",
    "\n",
    "```\n",
    "git clone htpps://repo-url\n",
    "```\n",
    "You can type control + v to paste the url after the command. You have to have Git installed on your computer to do this.\n",
    "\n",
    "Or directly in VS code control + shift + p type clone and select clone github repo.\n",
    "\n",
    "4. Right click in the folder you just cloned and select open in Visual Studio Code"
   ]
  }
 ],
 "metadata": {
  "jupytext": {
   "cell_metadata_filter": "-all",
   "main_language": "python",
   "notebook_metadata_filter": "-all"
  }
 },
 "nbformat": 4,
 "nbformat_minor": 5
}
