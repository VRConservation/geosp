{
 "cells": [
  {
   "cell_type": "markdown",
   "id": "fd264757",
   "metadata": {},
   "source": [
    "# FREE & OPEN SOURCE GEOSPATIAL RESOURCES\n",
    "\n",
    "I would like to cite earth engine {cite}`Gorelick2017-mz`.\n",
    "\n",
    "![logo](logo.png)"
   ]
  }
 ],
 "metadata": {
  "jupytext": {
   "text_representation": {
    "extension": ".md",
    "format_name": "myst",
    "format_version": 0.13,
    "jupytext_version": "1.11.5"
   }
  },
  "kernelspec": {
   "display_name": "Python 3",
   "language": "python",
   "name": "python3"
  },
  "source_map": [
   12
  ]
 },
 "nbformat": 4,
 "nbformat_minor": 5
}