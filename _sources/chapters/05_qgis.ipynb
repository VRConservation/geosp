{
 "cells": [
  {
   "cell_type": "markdown",
   "id": "467e4e30",
   "metadata": {},
   "source": [
    "# QGIS"
   ]
  },
  {
   "cell_type": "markdown",
   "id": "11d06e9b",
   "metadata": {},
   "source": [
    "sql qgis pro tip from spatial thoughts: You can use the 'Execute SQL' processing algorithm to run SQL queries on ANY vector layer within QGIS. Here's an example of calculating group statistics on a vector layer. This also allows you to run SQL queries in a model. https://twitter.com/spatialthoughts/status/1774833044396081189"
   ]
  }
 ],
 "metadata": {
  "jupytext": {
   "cell_metadata_filter": "-all",
   "formats": "ipynb,md",
   "main_language": "python",
   "notebook_metadata_filter": "-all"
  },
  "kernelspec": {
   "display_name": "Python 3 (ipykernel)",
   "language": "python",
   "name": "python3"
  },
  "language_info": {
   "codemirror_mode": {
    "name": "ipython",
    "version": 3
   },
   "file_extension": ".py",
   "mimetype": "text/x-python",
   "name": "python",
   "nbconvert_exporter": "python",
   "pygments_lexer": "ipython3",
   "version": "3.11.8"
  }
 },
 "nbformat": 4,
 "nbformat_minor": 5
}
