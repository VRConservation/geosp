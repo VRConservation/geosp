{
 "cells": [
  {
   "cell_type": "markdown",
   "id": "e382dc96",
   "metadata": {},
   "source": [
    "# Future\n",
    "\n",
    "There's a lot to learn hear and open source usually requires more knowledge, more troubleshooting, but ultimately greater control over your data, analysis, outcomes, and visualization. It's a higher input = higher rewards kind of situation. This chapter provides some thoughts on where your learning and open source geospatial might go next, plus several examples of where it is now (and software I don't know well enough to write a full chapter!).\n",
    "\n",
    "## Hybrid\n",
    "Use case of CMP analog conceptual model development with fine scale veg map and planning such as Marin Forest Health Strategy. Adapt/paste the storymap.\n",
    "\n",
    "## Marxan\n",
    "https://marxansolutions.org/\n",
    "\n",
    "## Online\n",
    "[rapid editor](https://rapideditor.org/edit)\n",
    "[kepler.gl](https://kepler.gl/)\n",
    "\n",
    "## GDAL/PDAL\n",
    "I didn't cover the Geospatial Data Abstraction Library, or GDAL, in this version because I have only used it a couple of times, one of which completely broke my IDE set up and required deleting and reinstalling env's and other items (I probably would not make the same mistake again nor used the scorched earth fix). Here are some resources to convince you to use these powerful tools\n",
    "\n",
    "- Robert Simmon shared an excellent six-part series called [A Gentle Introduction to GDAL](https://medium.com/planet-stories/a-gentle-introduction-to-gdal-part-1-a3253eb96082). In Part 1 the author answers the question of Why GDAL with GIS systems are great for analyzing geospatial data. However most GIS software is expensive, difficult to learn, and won't run on his OS of choice. He goes on to say the good news is GDAL is an open source alternative that is free, broadly supported, constantly updated, and runs on almost any OS. But, it is difficult to learn, especially if you're terrified of command lines.\n",
    "- Joshua Stevens has a convincing deck on using the command line for cartographic workflows [here](https://speakerdeck.com/jscarto/commanding-cartography-take-control-of-faster-more-elegant-workflows-from-the-command-line?slide=39).\n",
    "- Open Source Options has a [GDAL Python Tutorial](https://www.youtube.com/watch?v=bK-eCFUFgkQ) on youtube that shows you how to use Python and GDAL to read, create, and display raster data.\n",
    "- [PDAL Tutorial](https://sites.google.com/thewatershedcenter.com/caflclanding/code-tutorials/pdal-tutorials?authuser=0) from the Watershed Research and Training Center. This help you install the Point Data Absraction Library, or PDAL, and run it from a container. It does not run you through a sample dataset.\n",
    "- [pdal.io](https://pdal.io/en/2.7-maintenance/) will help get you started with PADL.\n",
    "- Spatialised has a nice tutorial on [Lidar processing with PDAL, WMTS and geobash](https://www.spatialised.net/lidar-and-geobash/) and also a video from FOSS4G Bucharest on [Exploiting PDAL and Entwine in the Wild](https://media.ccc.de/v/bucharest-267-exploiting-pdal-entwine-in-the-wild#t=34).\n",
    "\n",
    "## Future of Geospatial"
   ]
  }
 ],
 "metadata": {
  "jupytext": {
   "cell_metadata_filter": "-all",
   "main_language": "python",
   "notebook_metadata_filter": "-all"
  }
 },
 "nbformat": 4,
 "nbformat_minor": 5
}
