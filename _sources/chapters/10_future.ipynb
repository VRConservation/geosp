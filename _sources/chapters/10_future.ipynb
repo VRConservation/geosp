{
 "cells": [
  {
   "cell_type": "markdown",
   "id": "e382dc96",
   "metadata": {},
   "source": [
    "# Future\n",
    "\n",
    "Where your geospatial journey may lead you and the future of open-source geospatial software.\n",
    "\n",
    "Coming soon!\n",
    "<!-- There's a lot to learn here, and open source usually requires more knowledge and more troubleshooting but ultimately greater control over your data, analysis, outcomes, and visualization. It's a higher input = higher rewards kind of situation. This chapter provides some thoughts on where your learning and open-source geospatial might go and where free and open-source software may go.\n",
    "\n",
    "## Hybrid\n",
    "Use case of CMP analog conceptual model development with fine-scale veg map and planning, such as Marin Forest Health Strategy. Adapt/paste the storymap.\n",
    "\n",
    "## Marxan\n",
    "https://marxansolutions.org/\n",
    "\n",
    "## Online\n",
    "[rapid editor](https://rapideditor.org/edit). Rapid editor integrates advanced mapping tools, authoritative geospatial open data, and cutting-edge technology to empower OpenStreetMap mappers at all levels.\n",
    "[kepler.gl](https://kepler.gl/). Open-source geospatial analysis tool for large-scale datasets.\n",
    "[py.cafe](https://py.cafe/). Run, edit, and share python apps in your browser.\n",
    "\n",
    "## GDAL/PDAL\n",
    "I didn't cover the Geospatial Data Abstraction Library, or GDAL, in this version because I have only used it a couple of times, one of which completely broke my IDE setup and required deleting and reinstalling a python environment, QGIS, and anaconda. Hopefully, I won't make the same again nor use the same scorched earth fix). Here are some resources to convince you to use these powerful tools\n",
    "\n",
    "- Robert Simmon shared an excellent six-part series called [A Gentle Introduction to GDAL](https://medium.com/planet-stories/a-gentle-introduction-to-gdal-part-1-a3253eb96082). In Part 1, the author answers why GDAL and GIS systems are great for analyzing geospatial data. However, most GIS software is expensive, difficult to learn, and won't run on his OS. He says the good news is that GDAL is a free and open-source alternative, broadly supported, constantly updated and runs on almost any OS. But it is difficult to learn, especially if you're terrified of command lines.\n",
    "- Joshua Stevens has a convincing deck on using the command line for cartographic workflows [here](https://speakerdeck.com/jscarto/commanding-cartography-take-control-of-faster-more-elegant-workflows-from-the-command-line?slide=39).\n",
    "- Open Source Options has a [GDAL Python Tutorial](https://www.youtube.com/watch?v=bK-eCFUFgkQ) on youtube that shows how to use Python and GDAL to read, create, and display raster data.\n",
    "- [PDAL Tutorial](https://sites.google.com/thewatershedcenter.com/caflclanding/code-tutorials/pdal-tutorials?authuser=0) from the Watershed Research and Training Center. This helps you install the Point Data Abstraction Library, or PDAL, and run it from a container. It does not run you through a sample dataset.\n",
    "- [pdal.io](https://pdal.io/en/2.7-maintenance/) will help get you started with PADL.\n",
    "- Spatialised has a nice tutorial on [Lidar processing with PDAL, WMTS, and geobash](https://www.spatialised.net/lidar-and-geobash/) and also a video from FOSS4G Bucharest on [Exploiting PDAL and Entwine in the Wild](https://media.ccc.de/v/bucharest-267-exploiting-pdal-entwine-in-the-wild#t=34).\n",
    "\n",
    "## Future of Geospatial \n",
    "- modern GIS mapscaping podcast about how most maps are used by people w/o cartographic, geospatial, and data science backgrounds, but they still use mapping tools to get around, plan vacations, or look at cool places on the planet.\n",
    "\n",
    "-->"
   ]
  }
 ],
 "metadata": {
  "jupytext": {
   "cell_metadata_filter": "-all",
   "main_language": "python",
   "notebook_metadata_filter": "-all"
  }
 },
 "nbformat": 4,
 "nbformat_minor": 5
}
