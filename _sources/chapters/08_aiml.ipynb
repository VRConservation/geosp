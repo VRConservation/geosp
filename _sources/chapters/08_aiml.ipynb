{
 "cells": [
  {
   "cell_type": "markdown",
   "id": "dc6c31f8",
   "metadata": {},
   "source": [
    "# AI & ML\n",
    "Coming soon!\n",
    "<!-- ## Machine Learning\n",
    "\n",
    "ML example could be from Spatial Thoughts or Whitebark pine\n",
    "\n",
    "Write entire chapter using ai even the text from Copilot, Gemini, and ChatGPT. For each ask them to write code for the same example from chp1, then review\n",
    "\n",
    "Using generative AI to generate geemap code within jupyter lab: https://www.youtube.com/watch?v=57eXNc299Ik\n",
    "\n",
    "## Resources\n",
    "- [Autonomous GIS](https://github.com/gladcolor/LLM-Geo) repo\n",
    "- [Clay Foundation Model](https://clay-foundation.github.io/model/index.html). Only works on linux devices with CUDA GPUs? \n",
    "- [human brain edge over ai article](https://www.linkedin.com/pulse/where-human-brain-still-has-edge-over-ai-fast-company-j2jpe/)\n",
    "-->"
   ]
  }
 ],
 "metadata": {
  "jupytext": {
   "cell_metadata_filter": "-all",
   "main_language": "python",
   "notebook_metadata_filter": "-all"
  }
 },
 "nbformat": 4,
 "nbformat_minor": 5
}
