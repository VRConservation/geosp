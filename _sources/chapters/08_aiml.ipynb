{
 "cells": [
  {
   "cell_type": "markdown",
   "id": "dc6c31f8",
   "metadata": {},
   "source": [
    "# AI & ML\n",
    "Coming soon!\n",
    "<!-- \n",
    "\n",
    "## Machine Learning\n",
    "Whitebark pine example from EE and possibly make it into an app.\n",
    "\n",
    "## AI\n",
    "\n",
    "From Josep Ferrer (@rfeers on twitter): In multiple linear regression, imagine you're baking.\n",
    "\n",
    "You've got different ingredients or variables.\n",
    "\n",
    "You need the perfect recipe (model) for your cake (prediction).\n",
    "\n",
    "Each ingredient's quantity (coefficient) affects the taste (outcome).\n",
    "\n",
    "## Resources\n",
    "- [Jupyter generative AI](https://blog.jupyter.org/generative-ai-in-jupyter-3f7174824862)\n",
    "\n",
    "- [Autonomous GIS](https://github.com/gladcolor/LLM-Geo) repo\n",
    "- [Clay Foundation Model](https://clay-foundation.github.io/model/index.html). Only works on linux devices with CUDA GPUs? \n",
    "- [human brain edge over ai article](https://www.linkedin.com/pulse/where-human-brain-still-has-edge-over-ai-fast-company-j2jpe/)\n",
    "- [A Beginner's Guide to Prompt Engineering with GitHub Copilot](http://gg.gg/1b54nw). Extensive guide on how to better engineer your prompts to code better and best use AI. Also applicable to prompts in other platforms such as Gemini or ChatGPT.\n",
    "Articles on copilot prompt engineering.\n",
    "\n",
    "geogpt. medium article is underwhelming but the repo has better examples. https://medium.com/@ageospatial/geogpt-using-openais-custom-gpts-for-geospatial-analysis-aa6145f9666d\n",
    "\n",
    "ai plugin for QGIS: https://medium.com/aino-world/introducing-the-aino-ai-plugin-for-qgis-enhancing-spatial-data-analysis-8cf3b9e66da1\n",
    "-->"
   ]
  }
 ],
 "metadata": {
  "jupytext": {
   "cell_metadata_filter": "-all",
   "main_language": "python",
   "notebook_metadata_filter": "-all"
  }
 },
 "nbformat": 4,
 "nbformat_minor": 5
}
