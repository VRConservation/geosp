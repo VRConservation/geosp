{
 "cells": [
  {
   "cell_type": "markdown",
   "id": "b353689b",
   "metadata": {},
   "source": [
    "# Pros & Cons\n",
    "Pluses and minuses of using open-source geospatial software\n",
    "\n",
    "## Open source vs. paid\n",
    "Navigating the world of open-source and subscription-based geospatial tools is challenging. Paying for software, imagery, and technicians to conduct your analyses can also be costly. Increasingly, for-profit companies are monetizing software and imagery use that is proprietary to their products. Increased costs and limited access make it difficult for nonprofits, communities, and individuals to access important geospatial data and decrease the democratization and use of this information in a world where it needs to be freely available and accessible.\n",
    "\n",
    "## False dichotomy\n",
    "In truth, it's a false dichotomy to pit FOSS vs. paid geospatial tools. Your workflow may involve data analysis in GEE, then importing datasets into ArcGIS Pro for further analysis and creating layouts, web apps, or online maps. You may find that working with many government agencies requires the use of Arc products because it's what their employees know or the agency has a license (*Cf. the [Modern Geospatial](https://mapscaping.com/podcast/modern-geospatial/) Mapscaping Podcast on using FOSS with different clients*).  See Chapter 1: FOSS for more discussion on using multiple tools.\n",
    "\n",
    "## Table\n",
    "A non-exhaustive summary of the more commonly used geospatial software products is provided below (Table 1).\n",
    "\n",
    "Table 1. Pros and cons of select geospatial software providers.\n",
    "\n",
    "| SOFTWARE | PROS      | CONS            | PRICE |\n",
    "| :------- | :------   | :-------        | ----: |\n",
    "| ArcGIS Pro | Use, Support, Vis | Price, Credits, Notebooks | $100-6,000+/user/yr |\n",
    "| CARTO | Use, Vis, Data | Haven't used | High |\n",
    "| DuckDB | Use, Fast, Documentation | Vector data only | Free |\n",
    "| Earth Blox | Use, Data, Solutions | Price | Unclear: >$1,500? |\n",
    "| Felt | Use, Vis, QGIS integ | Price, Sharing, Long-term? | $360-1,080/user/yr |\n",
    "| GEE  | Cloud, Support, Colab | Javascript, Cost | Free to mucho |\n",
    "| Geemap | Use, Support, GEE/Colab integration | Setup in windows | Free |\n",
    "| Leafmap | Use, Feature-rich, one line code solutions | CLI, IDE setup in Windows | Free |\n",
    "| Planet | Vis, Data | Haven't used | High |\n",
    "| Post-GIS | Use, Fast, QGIS integration, Industry Standard | UI | Free |\n",
    "| QGIS | Free, Community, Analysis | Vis, Crashing, Future? | Free |\n",
    "| R, RStudio | Use, Plugins, Academic standard | Slow at times | Free |\n",
    "\n",
    "## Discussion & Caveats\n",
    "Use means ease of use. Vis = visualization is very good and feature-rich. Support and documentation indicate good or bad support. Typically, the software documentation and tutorials are very good, or the company or software provider quickly responds to bugs or questions. \n",
    "\n",
    "I did not add many software packages I have not used (or, in the case of GDAL, that I'm afraid of). I have limited knowledge and use of CARTO, Felt, and Earth Blox since I've only used them in free-to-test form. As a result, my pros and cons are limited for them.\n",
    "\n",
    "Pricing is difficult since several companies are opaque about their pricing, ask you to submit information for a quote, or want you to participate in a call to give you bespoke pricing quotes. For instance, Earth Blox does not list their price online and would not tell me when I emailed them, but they offered to schedule a call to discuss the product. I've tried to add information on pricing when I have an approximate or specific idea.\n",
    "\n",
    "One common thread with pros and cons of software use is that free is good. So is the long-term viability of a provider. You don't want to put all your assets, analysis, and projects into a proprietary system to have the company later go belly up, making your data and analysis difficult to access. Several long-term providers, such as QGIS and Google Earth Engine (GEE), have very active communities, so getting help through forums for common bugs and errors is often easy. Plus, these software providers have been around for a long time."
   ]
  }
 ],
 "metadata": {
  "jupytext": {
   "cell_metadata_filter": "-all",
   "main_language": "python",
   "notebook_metadata_filter": "-all"
  }
 },
 "nbformat": 4,
 "nbformat_minor": 5
}
