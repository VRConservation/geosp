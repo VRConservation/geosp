{
 "cells": [
  {
   "cell_type": "markdown",
   "id": "ac907e69",
   "metadata": {},
   "source": [
    "# Introduction\n",
    "\n",
    "Welcome! Free and Open Source Geospatial Solutions provides resources and examples of open source geospatial software and solutions. Please cite as \n",
    "\n",
    "Russell, Vance. 2024. Free and Open Source Geospatial Solutions. Jupyterbook.org.\n",
    "\n",
    "## Support\n",
    "This book is a free to use resource to anyone. If you would like to support me, provide a donation, or buy me a coffee, please go to my [buymeacoffe](https://www.buymeacoffee.com/3point) site. I will be adding chapters and resources in the future. Thank you for your support!\n",
    "\n",
    "## Why this book\n",
    "Accessing, processing, and analyzing geospatial data can be daunting tasks, often hindered by issues such as data accessibility, compatibility, and cost constraints. There are a lot of geospatial resources, tutorials, and books out there but most focus on specific tools, such as Spatial SQL by Matt Forrest {cite}`forrest2023`, the Cloud Based Remote Sensing with Google Earth Engine remote sensing {cite:p}`eefa` or Quisheng Wu's excellent geospatial data analysis book using geemap and earth engine {cite}`geemap`. This book is a resource to provide a beginners guide to getting going with each of those and compare free and open source software to paid resources and books.\n",
    "\n",
    "At the software level, many tutorials, github repositories, and software sites assume you have familiarity with installing software or running code. They'll use acronyms such as CLI and IDE, and if you're a beginner, you will have no idea what they're talking about. Once you decipher the terms, running into errors and tying to fix them can be trying, or just a downright deterrence to using free and open space geospatial software. Don't be put off by entering this new world and keep at it when errors occur.\n",
    "\n",
    "The \"Navigating Geospatial Data Challenges in Conservation Science\" book aims to address these challenges head-on by providing practical solutions and resources. Because you want to analyze and visualize data, not spend time looking through stack exchange or asking ChatGPT how to fix an obscure error when your code doesn't run or your laptop won't install a package correctly.\n",
    "\n",
    "## Audience & Learning\n",
    "The intended audience for this book is beginners to geospatial analysis with some knowledge of desktop tools such as ArcGIS Pro or QGIS and limited knowledge of coding using Javascript or Python. Ideally you will have taken an introductory geography and computer science course introducing you to software and languages. If not, you can still get by and get started in each chapter, but some background work will be required, e.g., installing Leafmap or Geemap. Nevertheless, resources and tutorials will be offered in each chapter to get you up to speed.\n",
    "\n",
    "## Chapters\n",
    "The book contains the following chapters:\n",
    "\n",
    "1. **FOSS**. Free and open source software introduction and a little about my journey in this field and using these tools.\n",
    "2. **GEE**. Google Earth Engine is an incredible resource for cloud geospatial computer. This chapter provides some quick tips and steps to get started.\n",
    "3. **Proscons**. Outlines the pros and cons for free and open source vs. paid geospatial software.\n",
    "4. **Python**. Using Python for geospatial data analysis and visualization with a variety of libraries.\n",
    "5. **QGIS**. There are many QGIS tutorials along with a supportive community. This chapter will get you started on the basics for using this powerful geospatial software.\n",
    "6. **SQL**. How to get started using the universal database Structured Query Language or SQL using DuckDB and Post-GIS spatial packages.\n",
    "7. **AIML**. Artificial intelligence (AI) and machine learning (ML) are sorta popular right now, no? Here's how to use these tools to complement, not replace, your work.\n",
    "8. **R**. A programming language universally adopted by academics, R is easy to use, get started, and has many statistical computing, data visualization, and geospatial packages. We'll use it within the free desktop integrated development environment (IDE).\n",
    "9. **Next**. We'll look into a crystal ball, that's actually a globe, for some thoughts and insights to the future of free and open source geospatial software.\n",
    "\n",
    "Only written chapters will appear in the table of contents panel to the left and below. Once each chapter is published they will appear.\n",
    "\n",
    "## jupyter{book}\n",
    "This book was made using [Jupyter Books](https://jupyterbook.org/) a free and open source package that lets anyone build beautiful, publication quality books and articles from computational content. Thank you Jupyter Books for this wonderful resource!\n",
    "\n",
    "## Acknowledgements\n",
    "I would like thank and acknowledge many of the free and open source geospatial pioneers out there offering their incredible resources and dedication to the trade. I've learned so much from you, not just geospatial analysis, but about the value of geographic information, analysis, and generosity.\n",
    "\n",
    "A great portion of this book is adapted from Quisheng Wu's extensive, innovative, and useful geospatial resources such as Geemap and Leafmap. Dr. Wu's vast geospatial knowledge, tutorials, videos and courses are an incredible learning resource. Thank you Quisheng! I only hope this complements your work.\n",
    "\n",
    "A special thank you to my family while I wrote this in the early AM or late PM hours. Your love and support are always an inspiration to me. A special extra thank you to my spouse who originally inspired me to get more serious about geospatial analysis. It's hard to start out doing this when you have a Ph.D. in the house with a degree in ecological remote sensing, but you always encouraged me and, with some sighing, helped explain many things. Thank you Emma!\n",
    "\n",
    "```{tableofcontents}\n",
    "```"
   ]
  }
 ],
 "metadata": {
  "jupytext": {
   "cell_metadata_filter": "-all",
   "main_language": "python",
   "notebook_metadata_filter": "-all"
  }
 },
 "nbformat": 4,
 "nbformat_minor": 5
}
