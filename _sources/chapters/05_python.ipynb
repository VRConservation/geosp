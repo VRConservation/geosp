{
 "cells": [
  {
   "cell_type": "markdown",
   "id": "c0fc92ed",
   "metadata": {},
   "source": [
    "# Python\n",
    "\n",
    "Python is widely applicable and used in the geospatial community. ArcGIS Pro has a Python package called Arcpy, and QGIS has a package named PYQGIS. It could just be me, but I tried using arcpy, read through and tried the tutorials from an entire Arcpy book, and struggled through using esri notebooks. The language didn't stick with me or it was overly complicated. Sure you could run an analysis tool, and copy the arcpy code into a notebook to modify it, but when it came to developing codeblocks, I had a block.\n",
    "\n",
    "Then I found Geemap and Leafmap—incredible, user-friendly Python packages developed by Qiusheng Wu and available on GitHub at GISWQS. There are also clear tutorials at leafmap.org and geemap.org and videos at [Open Geospatial Solutions](https://www.youtube.com/@giswqs). Many analyses require only one line of code. Here, geospatial analysis using scripts just clicked for me, and it opened up another world to using Python to analyze data rapidly.\n",
    "\n",
    "## Getting Started\n",
    "\n",
    "To be honest, getting started using a Windows computer was a total pain in the ass. So if you're using Linux of Apple OS it will be much easier to set things up. It will take a few hours from scratch, but a great resource is at the [Geog-414](http://gg.gg/1ats9t) course software web page. Scroll through the page to familiarize yourself with the commands. Near the bottom of the page is a series of videos to get you started, which is worth viewing and following. For some reason, I found that Miniconda didn't work well on my machine with Windows 11, but everything worked with Anaconda. \n",
    "\n",
    "```{important} Getting started quick guides can be found in the Virtual Environment, Visual Studio Code, and Github appendices.\n",
    "```\n",
    "\n",
    "To get you up and running quickly, I've provided a cheat sheet in in the {doc}`/z_appendices/appendix1` appendix that shortcuts the Geog-414 videos and should have you started quickly. You may want to refer to the videos if you get stuck.\n",
    "\n",
    "However, you may choose to jump straight in without all the setup. Google Colab is an online notebook that lets you write and execute code. Its advantage is that it is shareable and connected to your Google account, and it performs calculations in the cloud. The disadvantage of Colab is once you close the notebook, everything you've installed or executed is gone, although the code is saved. It's great for quickly testing out code blocks. Open [Colab](https://colab.research.google.com/) and click the blue 'New notebook' button to start a new notebook.\n",
    "\n",
    "## Sentinel-2 Data\n",
    "\n",
    "Let's look at a simple example from a GitHub [gist](https://gist.github.com/alexgleith/dc49156aab4b9270b0a0f145bd7fa0ce) posted by Alex Leith. \n",
    "\n",
    "```{note} 'Uncommenting' a line in Python means removing the hashtag before the command or clicking on the line, then clicking control or command plus backslash (/). If you run this in colab, add a % to the line, e.g., %pip install...\n",
    "```\n",
    "\n",
    "Install the dependencies:"
   ]
  },
  {
   "cell_type": "code",
   "execution_count": null,
   "id": "16bf7b14",
   "metadata": {
    "lines_to_next_cell": 0
   },
   "outputs": [],
   "source": [
    "# Uncomment the line below to install pystac and odc\n",
    "# pip install pystac-client odc-stac odc-geo"
   ]
  },
  {
   "cell_type": "markdown",
   "id": "a40fe5b6",
   "metadata": {},
   "source": [
    "Access data and create a bounding box:"
   ]
  },
  {
   "cell_type": "code",
   "execution_count": null,
   "id": "2dda96a6",
   "metadata": {},
   "outputs": [],
   "source": [
    "# Earth search is managed by Element-84 and provides access to a wide range of data sources\n",
    "client = Client.open(\"https://earth-search.aws.element84.com/v1\")\n",
    "collection = \"sentinel-2-l2a\"\n",
    "\n",
    "# Create a bounding box centered near New River Lagoon in Tasmania\n",
    "# The bounding box is lower-left x, lower-left y, upper-right x, upper-right y\n",
    "bbox = [146.5, -43.6, 146.7, -43.4]"
   ]
  },
  {
   "cell_type": "markdown",
   "id": "74e1700b",
   "metadata": {},
   "source": [
    "```{hint} Use Earth Engine's inspector or the [polyline tool](https://www.keene.edu/campus/maps/tool/) to generate coordinates.\n",
    "```\n",
    "\n",
    "Search and load the data:"
   ]
  },
  {
   "cell_type": "code",
   "execution_count": null,
   "id": "74bc1caa",
   "metadata": {
    "lines_to_next_cell": 0
   },
   "outputs": [],
   "source": [
    "# Datetime can be a single date, like YEAR, YEAR-MONTH or YEAR-MONTH-DAY\n",
    "# or a range, like YEAR-MONTH/YEAR-MONTH\n",
    "datetime = \"2023-12\"\n",
    "\n",
    "# Run a lazy-loaded search of the STAC API\n",
    "search = client.search(collections=[collection], bbox=bbox, datetime=datetime)\n",
    "\n",
    "# Pass the search results to the load function, which will lazy-load the data\n",
    "data = load(search.items(), bbox=bbox, groupby=\"solar_day\", chunks={}, crs=\"EPSG:8857\", resolution=10)"
   ]
  },
  {
   "cell_type": "markdown",
   "id": "31d8544b",
   "metadata": {},
   "source": [
    "Visualize it:"
   ]
  },
  {
   "cell_type": "code",
   "execution_count": null,
   "id": "1f319887",
   "metadata": {
    "lines_to_next_cell": 0
   },
   "outputs": [],
   "source": [
    "# Visualize the data\n",
    "# Time=2 is an arbitrary time slice picked because there's few clouds\n",
    "data[[\"red\", \"green\", \"blue\"]].isel(time=2).to_array().plot.imshow(vmin=0, vmax=1500)\n",
    "\n",
    "# Alternately, we could visualise using odc.geo.xr's explore function\n",
    "# data.isel(time=2).explore(bands=[\"red\", \"green\", \"blue\"], vmin=0, vmax=1500)"
   ]
  },
  {
   "cell_type": "markdown",
   "id": "23789d4b",
   "metadata": {},
   "source": [
    "Sentinel-2 true color image:\n",
    "\n",
    "![](https://i.imgur.com/ea6GCzY.png)\n",
    "\n",
    "The access and sharing of this code are another example of why free and open-source software is special. The community is willing to share it, and it is reproducible and easily modified to meet your needs. Thanks to Alex Leith for sharing this.\n",
    "\n",
    "## Geemap\n",
    "Compared to Javascript, Geemap is a much easier way to access, analyze, and visualize Earth Engine data, all within a Python package environment developed by [Quisheng Wu](https://github.com/giswqs).\n",
    "\n",
    "```{admonition} Getting Started\n",
    "Watch this [installation video](https://www.youtube.com/watch?v=gyQ6wBqYGks&list=PLAxJ4-o7ZoPeXzIjOJx3vBF0ftKlcYH9J&index=3) followed by this [vs code and github](https://www.youtube.com/watch?v=gyQ6wBqYGks&list=PLAxJ4-o7ZoPeXzIjOJx3vBF0ftKlcYH9J&index=3) video. If you already have an IDE, Miniconda, and virtual env's installed, go to the Geemap [installation](https://geemap.org/installation/) page.\n",
    "```\n",
    "\n",
    "Let's look at how to visualize the same map from Chapter 2 using Geemap. Open a Jupyter notebook and add the following code block:"
   ]
  },
  {
   "cell_type": "code",
   "execution_count": null,
   "id": "bb95eae8",
   "metadata": {
    "lines_to_next_cell": 0
   },
   "outputs": [],
   "source": [
    "# Import geemap and create an interactive map\n",
    "import ee\n",
    "import geemap\n",
    "geemap.ee_initialize()\n",
    "m = geemap.Map()\n",
    "m"
   ]
  },
  {
   "cell_type": "markdown",
   "id": "f1efb7f6",
   "metadata": {},
   "source": [
    "That will give you a generic world map with map widgets:\n",
    "\n",
    "![](https://i.imgur.com/hKl0roO.png)\n",
    "\n",
    "In the upper right corner of the map, click the wrench icon, then click the two encircling arrows box (bottom row, middle) to open the Javascript to Python code converter:\n",
    "\n",
    "![](https://i.imgur.com/XXdWssh.png)\n",
    "\n",
    "Go to the Earth Engine [code editor](https://code.earthengine.google.com/), open the script from Chapter 2, select all, and paste it into the converter. Click the convert button. The code is copied to the clipboard. Paste it into a new code block and comment out the definition function on lines 4-6:"
   ]
  },
  {
   "cell_type": "code",
   "execution_count": null,
   "id": "107c32f3",
   "metadata": {
    "lines_to_next_cell": 0
   },
   "outputs": [],
   "source": [
    "# Add global carbon density map\n",
    "dataset = ee.ImageCollection('NASA/ORNL/biomass_carbon_density/v1')\n",
    "\n",
    "# def func_rif(image)return image.clip(bbox)};: \\\n",
    "#                     .map(function(image){return image.clip(bbox)} \\\n",
    "#                     .map(func_rif)\n",
    "\n",
    "# Add visual parameter variables\n",
    "vis_a = {\n",
    "  'bands': ['agb'],\n",
    "  'min': -50.0,\n",
    "  'max': 80.0,\n",
    "  'palette': ['d9f0a3', 'addd8e', '78c679', '41ab5d', '238443', '005a32']\n",
    "}\n",
    "\n",
    "vis_b = {\n",
    "  'bands': ['bgb'],\n",
    "  'min': -50.0,\n",
    "  'max': 80.0,\n",
    "  'palette': ['D6BCB1', 'AB8574', '784E3D', '3D2216', '26140C', '000000']\n",
    "}\n",
    "\n",
    "# Center map and add layers\n",
    "m.setCenter(-120.2348, 38.8744, 9)\n",
    "m.addLayer(dataset, vis_a, 'Aboveground biomass carbon')\n",
    "m.addLayer(dataset, vis_b, 'Belowground biomass carbon')"
   ]
  },
  {
   "cell_type": "markdown",
   "id": "46c11f42",
   "metadata": {},
   "source": [
    "Running that block will give you the following:\n",
    "\n",
    "![](https://i.imgur.com/uAQ9wBz.jpeg)\n",
    "\n",
    "If you return to the wrench icon and select the layers icon to the left, you can switch layers on and off\n",
    "\n",
    "![](https://i.imgur.com/RzJfVjV.png)\n",
    "\n",
    "Add a new code block and add an area of interest called bbox, short for bounding box:\n",
    "\n",
    "```{tip} To run the code in a code block, click ctrl/command + enter. To run the code and add a new code block, click alt + enter.\n",
    "```"
   ]
  },
  {
   "cell_type": "code",
   "execution_count": null,
   "id": "aa982e37",
   "metadata": {
    "lines_to_next_cell": 0
   },
   "outputs": [],
   "source": [
    "# Add an area of interest\n",
    "bbox = [-121.1874, 38.2931, -119.5262, 39.2884]\n",
    "bbox = ee.Geometry.Rectangle(bbox)"
   ]
  },
  {
   "cell_type": "markdown",
   "id": "0a705642",
   "metadata": {},
   "source": [
    "Then clip the carbon raster to the AOI:"
   ]
  },
  {
   "cell_type": "code",
   "execution_count": null,
   "id": "e3da07ba",
   "metadata": {
    "lines_to_next_cell": 0
   },
   "outputs": [],
   "source": [
    "# Clip the dataset to the area of interest\n",
    "aoi = dataset.map(lambda image: image.clip(bbox))"
   ]
  },
  {
   "cell_type": "markdown",
   "id": "66cc8961",
   "metadata": {},
   "source": [
    "Now add the clipped rasters:"
   ]
  },
  {
   "cell_type": "code",
   "execution_count": null,
   "id": "7d4e6a62",
   "metadata": {
    "lines_to_next_cell": 0
   },
   "outputs": [],
   "source": [
    "# Add the clipped dataset to the map\n",
    "m.addLayer(aoi, vis_b, 'AOI belowground biomass carbon')\n",
    "m.addLayer(aoi, vis_a, 'AOI aboveground biomass carbon')\n",
    "m"
   ]
  },
  {
   "cell_type": "markdown",
   "id": "0eedb012",
   "metadata": {},
   "source": [
    "If you turn off the aboveground and belowground maps, your map will now look like the following, with only the clipped aboveground biomass carbon layer showing:\n",
    "\n",
    "![](https://i.imgur.com/DDRJeDF.png)\n",
    "\n",
    "Delete the function from the javascript conversion that you commented out previously in lines 4-6. If you need to keep running and test the map, you can turn off the original biomass layers added for the entire globe by changing the center map add map layers to the code block to"
   ]
  },
  {
   "cell_type": "code",
   "execution_count": null,
   "id": "f67a8813",
   "metadata": {
    "lines_to_next_cell": 0
   },
   "outputs": [],
   "source": [
    "# Center map and add layers\n",
    "m.setCenter(-120.2348, 38.8744, 9)\n",
    "m.addLayer(dataset, vis_a, 'Aboveground biomass carbon', False)\n",
    "m.addLayer(dataset, vis_b, 'Belowground biomass carbon', False)"
   ]
  },
  {
   "cell_type": "markdown",
   "id": "3b2b7b41",
   "metadata": {},
   "source": [
    "Adding 'False' after the layer name still adds the layers to the map but turns them off by default. \n",
    "\n",
    "```{admonition} Lambda Function\n",
    "Let's take another look at the lambda function to clip the raster. Lambda functions are similar to other Python functions but are not bound to a name when run. Known as anonymous functions, they are used when you need a one-off function that isn't separately defined. In our case, the Lamda function takes an image, clips it to the bounding box, and returns the clipped image. The map() function, not to be confused with the Map function in Javascript, applies the function to every image in the ImageCollection.\n",
    "```\n",
    "\n",
    "## Easier bboxing\n",
    "Boots and cats, boots and cats, boots and cats. Yeah! As you can see in both examples, adding a bounding box can be semi-painful. There's an excellent [Polyline Tool](https://www.keene.edu/campus/maps/tool) that allows you to creates json text when you right-click on each point in a polygon. "
   ]
  },
  {
   "cell_type": "code",
   "execution_count": null,
   "id": "6580c6f6",
   "metadata": {},
   "outputs": [],
   "source": [
    "# Import geemap and initialize earth engine\n",
    "import ee\n",
    "import geemap\n",
    "geemap.ee_initialize()\n",
    "m = geemap.Map()"
   ]
  },
  {
   "cell_type": "markdown",
   "id": "284eaf44",
   "metadata": {},
   "source": [
    "In the Polyline Tool, I've right-clicked 3 points around Cape Cod, Massachusetts, in the United States, then clicked close shape to get a square. Then, I copied the curly brackets and the geojson coordinates in between and assigned them to a variable. Then, convert the geojson coordinates to an earth engine geometry type and map."
   ]
  },
  {
   "cell_type": "code",
   "execution_count": null,
   "id": "7579b7b7",
   "metadata": {
    "lines_to_next_cell": 0
   },
   "outputs": [],
   "source": [
    "# Add the coordinates from the Polyline tool and assign to a variable\n",
    "capecod = {\n",
    "    \"coordinates\": [\n",
    "        [\n",
    "            [\n",
    "                -70.4525757,\n",
    "                42.0916883\n",
    "            ],\n",
    "            [\n",
    "                -70.423462,\n",
    "                41.4974371\n",
    "            ],\n",
    "            [\n",
    "                -69.7763673,\n",
    "                41.5036664\n",
    "            ],\n",
    "            [\n",
    "                -69.7939453,\n",
    "                42.1075947\n",
    "            ],\n",
    "            [\n",
    "                -70.4525757,\n",
    "                42.0916883\n",
    "            ]\n",
    "        ]\n",
    "    ],\n",
    "    \"type\": \"Polygon\"\n",
    "}\n",
    "\n",
    "# Convert the geojson coordinates to ee.Geometry and map\n",
    "bbox = ee.Geometry(capecod)\n",
    "m.addLayer(bbox, {}, 'Cape Cod')\n",
    "m"
   ]
  },
  {
   "cell_type": "markdown",
   "id": "8b83fabe",
   "metadata": {},
   "source": [
    "It's lengthy but gets you any polygon on the globe with as many points as you like.\n",
    "\n",
    "## Leafmap\n",
    "A related Python package worth exploring is [Leafmap](https://leafmap.org/), also developed by Quisheng Wu. Like Geemap, the site has extensive documentation and tutorials. I highly recommend attending one of the workshops, which will guide you through installation, examples, and many use cases.\n",
    "\n",
    "The tutorials and workshops are supported by notebooks and videos to walk you through this excellent software package. Click on the links provided to run the code in Binder or Colab. If you wanted to run a workshop in VS Code:\n",
    "\n",
    "1. Click workshops in leafmap.org\n",
    "2. Select the workshop\n",
    "3. Select GitHub in the upper right, select examples, then notebooks\n",
    "4. Click on the notebook you want (*.ipynb)\n",
    "5. Below history in the upper right of your browser, click on the download raw file button, save the file, and then click to open it in VS Code. \n",
    "6. Alternatively, go straight to the workshop notebooks, such as the [FOSS4G Workshop](https://github.com/opengeos/leafmap/blob/master/examples/workshops/FOSS4G_2021.ipynb).\n",
    "\n",
    "Before running the code cells, ensure Leafmap is installed in your environment. For a quick starter guide on how to do this, see the miniconda/anaconda section of the FOSS4G workshop.\n",
    "\n",
    "## Resources\n",
    "- [Geemap](https://geemap.org/) has a webpage, book, tutorials, API, and much more to support this excellent Python package.\n",
    "- [Leafmap](https://leafmap.org/) is a Python package for geospatial analysis in a Jupyter environment. It has superb documentation, tutorials, and ease of use.\n",
    "- [Open Geospatial Solutions](https://github.com/opengeos) hosts many open-source geospatial software projects and datasets.\n",
    "[Spatial Thoughts](https://spatialthoughts.com), run by Ujaval Gandhi, offers a free course called [Python Foundation for Spatial Analysis](https://courses.spatialthoughts.com/python-foundation.html). The site also offers many other free and paid courses and tutorials for geospatial analysis.\n",
    "- [Geocomputation with Python](https://py.geocompx.org/) is an open source book inspired by the FOSS4G movement. \n",
    "- [RiverREM](https://github.com/OpenTopography/RiverREM). A super cool Python package for automatically generating river relative elevation model (REM).\n",
    "- [lonboard](https://developmentseed.org/blog/2023-10-23-lonboard). Python library for fast geospatial vector data visualization.\n",
    "- [Python for Ecologists](https://datacarpentry.org/python-ecology-lesson). The Datacarpentry.org tutorial focused on data analysis and visualization using Python and Jupyter notebooks. This is more data than geospatial, but it is a useful set of tutorials.\n",
    "- [Unlocking the Depths](http://gg.gg/1az3jj). A useful tutorial for mapping bathymetry and calculating lake volume. It may be behind a paywall."
   ]
  }
 ],
 "metadata": {
  "jupytext": {
   "cell_metadata_filter": "-all",
   "main_language": "python",
   "notebook_metadata_filter": "-all"
  }
 },
 "nbformat": 4,
 "nbformat_minor": 5
}
