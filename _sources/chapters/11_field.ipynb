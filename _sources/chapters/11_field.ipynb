{
 "cells": [
  {
   "cell_type": "markdown",
   "id": "b031eb91",
   "metadata": {},
   "source": [
    "# Field Surveys\n",
    "Your guide to open source field surveys\n",
    "\n",
    "Coming soon!\n",
    "<!-- \n",
    "## Background\n",
    "\n",
    "## Tutorial\n",
    "\n",
    "-->\n",
    "\n",
    "## Resources\n",
    "- **[Kobo Toolbox](https://www.kobotoolbox.org/)**. Open source data collection platform.\n",
    "- **[ODK](https://getodk.org/)**. Free if you can self host and support.\n",
    "- **[Mergin maps](https://merginmaps.com/)**. Record geospatial data on your phone and sync with QGIS.\n",
    "- **[QField](https://qfield.org/)**. Survey and digitize data mobile app taht syncs to QGIS."
   ]
  }
 ],
 "metadata": {
  "jupytext": {
   "cell_metadata_filter": "-all",
   "main_language": "python",
   "notebook_metadata_filter": "-all"
  }
 },
 "nbformat": 4,
 "nbformat_minor": 5
}
