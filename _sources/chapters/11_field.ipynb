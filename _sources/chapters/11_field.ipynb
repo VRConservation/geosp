{
 "cells": [
  {
   "cell_type": "markdown",
   "id": "a97420ea",
   "metadata": {},
   "source": [
    "# Field Surveys\n",
    "Your guide to open source field surveys\n",
    "\n",
    "Coming soon!\n",
    "\n",
    "```{admonition} Case 1\n",
    ":class: tip\n",
    "Case 1 text. And a whole lot more text\n",
    "```\n"
   ]
  },
  {
   "cell_type": "markdown",
   "id": "83fc7599",
   "metadata": {},
   "source": [
    "## Resources\n",
    "- **[Kobo Toolbox](https://www.kobotoolbox.org)**. Open source data collection platform that's easy to use and setup, but you have to export the csv or geojson files then load into your geospatial platform of choice.\n",
    "- **[ODK](https://getodk.org)**. Free if you can self host and support.\n",
    "- **[QField](https://qfield.org)**. Survey and digitize data mobile app that syncs to QGIS. The QField setup tutorial from [gisgeography.com](https://gisgeography.com/qfield/) runs you through the basics to get up and running. QField would be amazing if it was easy to set up and use. Unfortunately, I found the interface and cloud hosting to be difficult and the forms in the app not very easy to use. You cannot have huge files in the cloud before charges are incurred. Great idea, but needs a lot more work to be easier to use."
   ]
  }
 ],
 "metadata": {
  "jupytext": {
   "cell_metadata_filter": "-all",
   "main_language": "python",
   "notebook_metadata_filter": "-all"
  }
 },
 "nbformat": 4,
 "nbformat_minor": 5
}
