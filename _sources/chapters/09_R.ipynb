{
 "cells": [
  {
   "cell_type": "markdown",
   "id": "26de051c",
   "metadata": {},
   "source": [
    "# R\n",
    "R is the definitive programming language for data analysis and visualization in academia. But it's increasingly being used more broadly due to its ease of use and many analysis packages.\n",
    "\n",
    "**The remainder of chapter is coming soon!**\n",
    "\n",
    "## Similarities\n",
    "Javascript, Python, and R have strikingly similar code structure ({numref}`comparison`).\n",
    "\n",
    "```{figure} /figures/rgee.png\n",
    ":name: comparison\n",
    "\n",
    "Javascript, Python, R code comparison. Adapted from [rgee](http://gg.gg/19zkau). Note that Python require additional commands to run Earth Engine.\n",
    "```\n",
    "\n",
    "In fact, it's similar enough to make each challenging to keep straight, almost like learning and remembering Spanish and Portuguese."
   ]
  },
  {
   "cell_type": "markdown",
   "id": "dc51a8f4",
   "metadata": {},
   "source": [
    "```{tip} R has the somewhat annoying symbol for variables or assignment operator of <-, but you can quickly enter it using the keyboard shortcut Alt/Option and - (Alt and minus sign) in Windows/Mac.\n",
    "```\n",
    "## R mapping\n",
    "\n",
    "## LidR\n",
    "Example coming soon!\n",
    "\n",
    "## Resources\n",
    "\n",
    "- r-spatial/rgee. See https://github.com/r-spatial/rgee and go scroll down to table showing how javascript, python and R look similar in code.\n",
    "- https://www.neonscience.org/resources/learning-hub/tutorials/packages-r. Neon intro to R\n",
    "- https://jean-romain.github.io/lidRbook/index.html. Notebook for the LidR module.\n",
    "- https://datacarpentry.org/r-intro-geospatial/01-rstudio-intro/index.html Data carprentry R module. Data carpentry also has a intro to geospatial at https://datacarpentry.org/lessons/#geospatial-curriculum\n",
    "\n",
    "<!-- ## Notes\n",
    "- R tutorial with Lidr and a lidar spatial dataset from NRCP? \n",
    "\n",
    "-->"
   ]
  }
 ],
 "metadata": {
  "jupytext": {
   "cell_metadata_filter": "-all",
   "main_language": "python",
   "notebook_metadata_filter": "-all"
  }
 },
 "nbformat": 4,
 "nbformat_minor": 5
}
