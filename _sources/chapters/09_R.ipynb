{
 "cells": [
  {
   "cell_type": "markdown",
   "id": "26de051c",
   "metadata": {},
   "source": [
    "# R\n",
    "R is the definitive programming language for data analysis and visualization in academia. But it's increasingly being used more broadly due to its ease of use and many analysis packages.\n",
    "\n",
    "## Similarities\n",
    "Javascript, Python, and R have strikingly similar code structure ({numref}`comparison`).\n",
    "\n",
    "```{figure} /figures/rgee.png\n",
    ":name: comparison\n",
    "\n",
    "Javascript, Python, R code comparison. Adapted from [rgee](http://gg.gg/19zkau). Note that Python require additional commands to run Earth Engine.\n",
    "```\n",
    "\n",
    "In fact, it's similar enough to make each coding language organized in your head, almost like learning Spanish and Portuguese. It's probably better to focus on one or the other, but you may find that one language sometimes offers better packages, processes data more quickly than the other, or is preferred in a particular workplace."
   ]
  },
  {
   "cell_type": "markdown",
   "id": "f701c166",
   "metadata": {},
   "source": [
    "```{tip} R has the somewhat annoying symbol for variables or assignment operator of <-, but you can quickly enter it using the keyboard shortcut Alt/Option and - (Alt and minus sign) in Windows/Mac.\n",
    "```\n",
    "\n",
    "## Installation\n",
    "The [RStudio](https://posit.co/download/rstudio-desktop/) desktop IDE is very good and only requires a two stop installation of R and RStudio. The IDE has a terminal, code section, installs packages through search, a variable/file panel, and a preview window that will show maps, graphs, or other outputs.\n",
    "\n",
    "If you don't want to install yet another IDE, you can run R through VS Code with a number of basic to bespoke options:\n",
    "\n",
    "1. Install R from [CRAN](https://cran.rstudio.com/). \n",
    "2. Install the language server in R: 'install.packages(\"languageserver\")'\n",
    "3. Go to extensions and install the R Extension Pack by Yuki Ueda. This will install R (the coding language) and R-LSP (provides language support and autocomplete for commands).\n",
    "4. Install extra packages such as [radian](https://github.com/randy3k/radian) to make R easier to use. See the notes in the R extension in VS Code for additional recommendations, links, and installation instructions. [This](https://medium.com/analytics-vidhya/a-fresh-start-for-r-in-vscode-ec61ed108cf6) article is a concise guide for setup. \n",
    "\n",
    "## EDA\n",
    "The R library DataExplorer allows you to quickly perform exploratory data analysis (EDA) on datasets. I've adapted this section from a post in datascienceplus.com from [Raja 2018](https://datascienceplus.com/blazing-fast-eda-in-r-with-dataexplorer/).\n",
    "\n",
    "If you want to fast forward to creating an html report that opens in your browser run the command `create_report()` after loading the package library and reading your dataset to a variable.\n",
    "\n",
    "```{tip} **Package Installation**. If you're using RSTudio you can also install packages by going to the packages tab in the Files, Plots, Packages pane (default location lower right), select Packages, Install then enter the package name in the open window.\n",
    "\n",
    "**Running R Script**. You can run each line of code entered by placing the cursor at the comment or line of code you want to run then clicking the Run button in the upper right of the code pane (default location upper left) or using control/command enter on your keyboard. You can also highlight an entire block or section of code and run it with the same command.\n",
    "```\n",
    "\n",
    "Install the Data Explorer package and load it\n",
    "\n",
    "```\n",
    "install.packages('DataExplorer')\n",
    "library(DataExplorer)\n",
    "```\n",
    "\n",
    "Download the [chocoloate bar ratings](https://www.kaggle.com/datasets/rtatman/chocolate-bar-ratings/data) dataset from kaggle and copy it's path to wherever you store it.\n",
    "\n",
    "```{tip}\n",
    "If you use Windows OS, right clicking on a file and selecting copying the path to the file will create a file pathway with backslashes rather than forward slashes and create an error when you run `read.csv()`. Install [Path Copy Copy](https://pathcopycopy.github.io/) and then right click and select show more options then copy unix path.\n",
    "```\n",
    "Read the csv file, show the top 10, and total rows"
   ]
  },
  {
   "cell_type": "code",
   "execution_count": null,
   "id": "2cb81e30",
   "metadata": {},
   "outputs": [],
   "source": [
    "#read csv\n",
    "cacao <- read.csv('./test/cacao.csv', header = T, stringsAsFactors = F)\n",
    "\n",
    "#examine head and create summary statistics\n",
    "head(cacao)\n",
    "summary(cacao)"
   ]
  },
  {
   "cell_type": "markdown",
   "id": "e05122b8",
   "metadata": {},
   "source": [
    "Running the head(cacao) line produces the following in the console\n",
    "\n",
    "![head](https://i.imgur.com/TD3suZC.png)\n",
    "\n",
    "It's messy but at least confirms the dataset loaded. The summary command gives more information\n",
    "\n",
    "![summary](https://i.imgur.com/o0BJKFI.png)\n",
    "\n",
    "A better visual summary can be produced using `plot_intro(cacao)` producing\n",
    "\n",
    "![plot_intro](https://i.imgur.com/MqSenEN.png)\n",
    "\n",
    "Note the summary stats show that the variable Cocoa.Percent is a character rather than a number due to the % sign attached to each value and the review date needs to be changed to character. To fix this error run the following:"
   ]
  },
  {
   "cell_type": "code",
   "execution_count": null,
   "id": "e5cbb3dd",
   "metadata": {
    "lines_to_next_cell": 0
   },
   "outputs": [],
   "source": [
    "# Fix Cocoa.Percent character error\n",
    "cacao$Cocoa.Percent = as.numeric(gsub('%','',cacao$Cocoa.Percent))  \n",
    "cacao$Review.Date = as.character(cacao$Review.Date)"
   ]
  },
  {
   "cell_type": "markdown",
   "id": "6958a3c7",
   "metadata": {},
   "source": [
    "When you run head or summary again the Cocoa.Percent is now converted to numbers.\n",
    "\n",
    "There are several functions to analyze and plot the dataset looking at categorical and continuous variables and other analyses. For example:"
   ]
  },
  {
   "cell_type": "code",
   "execution_count": null,
   "id": "c7eb4f45",
   "metadata": {
    "lines_to_next_cell": 0
   },
   "outputs": [],
   "source": [
    "# variable dimension strings: variables, variable type, and total number\n",
    "plot_str(cacao)\n",
    "# missing values for each variable\n",
    "plot_missing(cacao)\n",
    "# variable histograms\n",
    "plot_histogram(cacao)\n",
    "# variable density plots\n",
    "plot_density(cacao)\n",
    "# variable bar plots\n",
    "plot_bar(cacao)\n",
    "# multivariate correlationa analysis\n",
    "plot_correlation(cacao, type = 'continuous','Review.Date')"
   ]
  },
  {
   "cell_type": "markdown",
   "id": "a398e7d8",
   "metadata": {},
   "source": [
    "For instance the histogram plot shows distribution values for all the continuous variables. In this case most cocoa percents are in the 70s and ratings cluster around three.\n",
    "\n",
    "![histogram](https://i.imgur.com/S0UdRRz.png)\n",
    "\n",
    "The simplified correlation analysis grouping Review.Dat shows weak relationship between Rating and Cocoa.Percent.\n",
    "\n",
    "![correlation](https://i.imgur.com/ojVX5Hx.png)\n",
    "\n",
    "The `create_report()` function will run all of the EDA commands above, convert the outputs to an html file then open the report in your default browser. This is useful if you want to enter one line and get a rapid summary of everything for the dataset. All of the above code runs very fast even with large datasets. More details on the package can be found at the [Introduction to DataExplorer site](https://cran.r-project.org/web/packages/DataExplorer/vignettes/dataexplorer-intro.html).\n",
    "\n",
    "## lidR\n",
    "Lidar (Light detection and ranging) frequently used for forest stand analysis. Let's explore the lidR package to show it's amazing 3d and analysis capabilities. Not only does the package come with a book with excellent instructions to demo the package functions, it also has a manageable sized las point cloud dataset {cite}`lidr`. The following examples are excerpted from the book.\n",
    "\n",
    "If you don't have point cloud data, and don't want to use the provided dataset, the US Geological Service has a [Lidar Explorer](https://apps.nationalmap.gov/lidar-explorer/#/) offering downloads of publicly available lidar datasets across the United States. Define an ROI on the map and download the tiled laz files. Beware, even a single tile can be huge. I downloaded a single tile in Mendocino County, CA that was 1.3 gb in size and contained nearly 49 million points. By contrast the las dataset from the lidR book is 'only' 2 mb and has a little less than 38k points. "
   ]
  },
  {
   "cell_type": "code",
   "execution_count": null,
   "id": "b04959c6",
   "metadata": {},
   "outputs": [],
   "source": [
    "## Install lidR import, read las file and plot\n",
    "install.packages('lidR')\n",
    "library(lidR)\n",
    "LASfile <- system.file(\"extdata\", \"MixedConifer.laz\", package=\"lidR\")\n",
    "las <- readLAS(LASfile, select = \"xyzr\", filter = \"-drop_z_below 0\")\n",
    "plot(las, bg = \"white\", size = 4)"
   ]
  },
  {
   "cell_type": "markdown",
   "id": "71f2b377",
   "metadata": {},
   "source": [
    "This will give you a popup window showing the 3d point cloud of the lidar return in this dataset with highest values red and lowest blue. Since the point cloud appears to be of a forest stand, you can discern tree outlines. If you left click on the point cloud model you can rotate the dateset in 3 dimensions. Far out man!\n",
    "\n",
    "<!-- <video controls src=\"/figures/3dmodel.mp4\" title=\"3d Las\"></video> -->\n",
    "\n",
    "Rasterize a canopy height model and plot it. Not the highest tree show up in the lower right corner, same as the 3d mmodel."
   ]
  },
  {
   "cell_type": "code",
   "execution_count": null,
   "id": "ed1241f3",
   "metadata": {
    "lines_to_next_cell": 0
   },
   "outputs": [],
   "source": [
    "# Rasterize canopy height model\n",
    "chm <- rasterize_canopy(las, 0.5, pitfree(subcircle = 0.2))\n",
    "plot(chm, col = height.colors(50))"
   ]
  },
  {
   "cell_type": "markdown",
   "id": "83703061",
   "metadata": {},
   "source": [
    "![rasterized_las](https://i.imgur.com/20jBlqP.png)\n",
    "\n",
    "Locate the tree top centers"
   ]
  },
  {
   "cell_type": "code",
   "execution_count": null,
   "id": "600a1664",
   "metadata": {
    "lines_to_next_cell": 0
   },
   "outputs": [],
   "source": [
    "# Locate the tree tops and plot\n",
    "ttops <- locate_trees(las, lmf(ws = 5))\n",
    "plot(sf::st_geometry(ttops), add = TRUE, pch = 3)"
   ]
  },
  {
   "cell_type": "markdown",
   "id": "889e116d",
   "metadata": {},
   "source": [
    "![centers](https://i.imgur.com/u4Edfbm.png)\n",
    "\n",
    "You can also add the tree top centers to a 3d model"
   ]
  },
  {
   "cell_type": "code",
   "execution_count": null,
   "id": "3b4edf82",
   "metadata": {},
   "outputs": [],
   "source": [
    "# Add 3d tree tops\n",
    "add_treetops3d(x, ttops)"
   ]
  },
  {
   "cell_type": "markdown",
   "id": "7453dfb6",
   "metadata": {},
   "source": [
    "<!-- <video controls src=\"/figures/tops.mp4\" title=\"3d Treetops\"></video> -->\n",
    "\n",
    "Finally, you can add custom metrics with a geometry argument that shows each tree as a convex shaded by height:"
   ]
  },
  {
   "cell_type": "code",
   "execution_count": null,
   "id": "41da66a7",
   "metadata": {},
   "outputs": [],
   "source": [
    "metrics <- crown_metrics(las, func = ccm, geom = \"convex\")\n",
    "plot(metrics[\"z_max\"], pal = hcl.colors)"
   ]
  },
  {
   "cell_type": "markdown",
   "id": "e23917d4",
   "metadata": {},
   "source": [
    "Creates\n",
    "\n",
    "![convexhulls](https://i.imgur.com/gelwCHp.png)\n",
    "\n",
    "## DuckDB\n",
    "Yes you can execute DuckDB in R! DuckDB everywhere and because it uses SQL syntax, it looks similar to Python.\n",
    "\n",
    "Install DuckDB, import the library, and create an in-memory database"
   ]
  },
  {
   "cell_type": "code",
   "execution_count": null,
   "id": "91edb63e",
   "metadata": {},
   "outputs": [],
   "source": [
    "# Install and import duckdb\n",
    "install.packages('duckdb')\n",
    "library('duckdb')\n",
    "con <- dbConnect(duckdb())"
   ]
  },
  {
   "cell_type": "markdown",
   "id": "6f31cccc",
   "metadata": {},
   "source": [
    "Create a simple table and insert two items into the table"
   ]
  },
  {
   "cell_type": "code",
   "execution_count": null,
   "id": "9e59de8d",
   "metadata": {},
   "outputs": [],
   "source": [
    "# Create a table\n",
    "dbExecute(con, \"CREATE TABLE items(item VARCHAR, value DECIMAL(10, 2), count INTEGER)\")\n",
    "# Insert two items into the table\n",
    "dbExecute(con, \"INSERT INTO items VALUES ('jeans', 20.0, 1), ('hammer', 42.2, 2)\")"
   ]
  },
  {
   "cell_type": "markdown",
   "id": "88901a03",
   "metadata": {},
   "source": [
    "Write a query for the table and show it in the R console"
   ]
  },
  {
   "cell_type": "code",
   "execution_count": null,
   "id": "3795ab22",
   "metadata": {
    "lines_to_next_cell": 0
   },
   "outputs": [],
   "source": [
    "# Query and print to console\n",
    "res <- dbGetQuery(con, \"SELECT * FROM items\")\n",
    "print(res)"
   ]
  },
  {
   "cell_type": "markdown",
   "id": "5f47cb48",
   "metadata": {},
   "source": [
    "Gives the output\n",
    "\n",
    "```\n",
    "    item value count\n",
    "1  jeans  20.0     1\n",
    "2 hammer  42.2     2\n",
    "```\n",
    "\n",
    "## Resources\n",
    "These examples barely scratch the surface of what is available for geospatial R. The following resources provide a deeper dive:\n",
    "\n",
    "- **[Geocomputation with R](https://r.geocompx.org/)**. An excellent free and open source book hosted on Github and covers many aspects of geospatial analysis in R {cite}`lovelace`. **[Spatial Data Science with Applications in R](https://r-spatial.org/book/)** is another excellent resource {cite}`sds`. Both publications are great if you are new to R. Spatial Data Science is particularly good for explanations and figures accompanied by R codeblocks to show you how to put together the code.\n",
    "- **[Neon intro to R](https://www.neonscience.org/resources/learning-hub/tutorials/packages-r)**. National Ecological Observatory Network from the US National Science Foundation introductory R tutorial.\n",
    "- https://jean-romain.github.io/lidRbook/index.html. Notebook for the LidR module.\n",
    "- **[Data Carpentry](https://datacarpentry.org/r-intro-geospatial/01-rstudio-intro/index.html)**. Data carprentry R module. Data carpentry also has an intro to geospatial [module](https://datacarpentry.org/lessons/#geospatial-curriculum).\n",
    "- **[Introduction to Statistical Learning](https://www.statlearning.com/)**. Look! You can do statistical learning in R or Python - Bonus!\n",
    "- **[r-spatial/rgee](https://github.com/r-spatial/rgee)**. An R library for Google Earth Engine. Chapter 6.4 of the Earth Engine Fundamentals and Applications is focused on the rgee package {cite}`eefa`.\n",
    "- **[lidR](https://r-lidar.github.io/lidRbook)**. Online book for the lidR package."
   ]
  }
 ],
 "metadata": {
  "jupytext": {
   "cell_metadata_filter": "-all",
   "main_language": "python",
   "notebook_metadata_filter": "-all"
  }
 },
 "nbformat": 4,
 "nbformat_minor": 5
}
