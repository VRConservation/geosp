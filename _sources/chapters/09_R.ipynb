{
 "cells": [
  {
   "cell_type": "markdown",
   "id": "26de051c",
   "metadata": {},
   "source": [
    "# R\n",
    "R is the definitive programming language for data analysis and visualization in academia. But it's increasingly being used more broadly due to its ease of use and many analysis packages.\n",
    "\n",
    "**The remainder of chapter is coming soon!**\n",
    "\n",
    "## Similarities\n",
    "Javascript, Python, and R have strikingly similar code structure ({numref}`comparison`).\n",
    "\n",
    "```{figure} /figures/rgee.png\n",
    ":name: comparison\n",
    "\n",
    "Javascript, Python, R code comparison. Adapted from [rgee](http://gg.gg/19zkau). Note that Python require additional commands to run Earth Engine.\n",
    "```\n",
    "\n",
    "In fact, it's similar enough to make each coding language organized in your head, almost like learning and remembering Spanish and Portuguese."
   ]
  },
  {
   "cell_type": "markdown",
   "id": "f701c166",
   "metadata": {},
   "source": [
    "```{tip} R has the somewhat annoying symbol for variables or assignment operator of <-, but you can quickly enter it using the keyboard shortcut Alt/Option and - (Alt and minus sign) in Windows/Mac.\n",
    "```\n",
    "\n",
    "## Installation\n",
    "The [RStudio](https://posit.co/download/rstudio-desktop/) desktop IDE is very good and only requires a two stop installation of R and RStudio. The IDE has a terminal, code section, installs packages through search, a variable/file panel, and a preview window that will show maps, graphs, or other outputs.\n",
    "\n",
    "If you don't want to install yet another IDE, you can run R through VS Code with a number of basic to bespoke options:\n",
    "\n",
    "1. Install R from [CRAN](https://cran.rstudio.com/). \n",
    "2. Install the language server in R: 'install.packages(\"languageserver\")'\n",
    "3. Go to extensions and install the R Extension Pack by Yuki Ueda. This will install R (the coding language) and R-LSP (provides language support and autocomplete for commands).\n",
    "4. Install extra packages such as [radian](https://github.com/randy3k/radian) to make R easier to use. See the notes in the R extension in VS Code for additional recommendations, links, and installation instructions. [This](https://medium.com/analytics-vidhya/a-fresh-start-for-r-in-vscode-ec61ed108cf6) article is a concise guide for setup. \n",
    "\n",
    "## EDA\n",
    "The R library DataExplorer allows you to quickly perform exploratory data analysis (EDA) on datasets. I've adapted this section from a post in datascienceplus.com from [Raja 2018](https://datascienceplus.com/blazing-fast-eda-in-r-with-dataexplorer/).\n",
    "\n",
    "If you want to fast forward to creating an html report that opens in your browser run the command `create_report()` after loading the package library and reading your dataset to a variable.\n",
    "\n",
    "```{tip} **Package Installation**. If you're using RSTudio you can also install packages by going to the packages tab in the Files, Plots, Packages pane (default location lower right), select Packages, Install then enter the package name in the open window.\n",
    "\n",
    "**Running R Script**. You can run each line of code entered by placing the cursor at the comment or line of code you want to run then clicking the Run button in the upper right of the code pane (default location upper left) or using control/command enter on your keyboard. You can also highlight an entire block or section of code and run it with the same command.\n",
    "```\n",
    "\n",
    "Install the Data Explorer package and load it\n",
    "\n",
    "```\n",
    "install.packages('DataExplorer')\n",
    "library(DataExplorer)\n",
    "```\n",
    "\n",
    "Download the [chocoloate bar ratings](https://www.kaggle.com/datasets/rtatman/chocolate-bar-ratings/data) dataset from kaggle and copy it's path to wherever you store it.\n",
    "\n",
    "```{tip}\n",
    "If you use Windows OS, right clicking on a file and selecting copying the path to the file will create a file pathway with backslashes rather than forward slashes and create an error when you run `read.csv()`. Install [Path Copy Copy](https://pathcopycopy.github.io/) and then right click and select show more options then copy unix path.\n",
    "```\n",
    "Read the csv file, show the top 10, and total rows"
   ]
  },
  {
   "cell_type": "code",
   "execution_count": null,
   "id": "2cb81e30",
   "metadata": {},
   "outputs": [],
   "source": [
    "#read csv\n",
    "cacao <- read.csv('./test/cacao.csv', header = T, stringsAsFactors = F)\n",
    "\n",
    "#examine head and count total dataset rows\n",
    "head(cacao)\n",
    "nrow(cacao)"
   ]
  },
  {
   "cell_type": "markdown",
   "id": "e05122b8",
   "metadata": {},
   "source": [
    "Instead of head() and nrow() you can call summary statistics on the dataset with the command `summary()` putting the name of your dataset variable in the parenthesis, e.g., `summary(cacao)`. Note the variable Cocoa.Percent is a character rather than a number due to the % sign attached to each value and the review date needs to be changed to character. To fix the dataset run the following:"
   ]
  },
  {
   "cell_type": "code",
   "execution_count": null,
   "id": "e5cbb3dd",
   "metadata": {},
   "outputs": [],
   "source": [
    "# Fix Cocoa.Percent character error\n",
    "cacao$Cocoa.Percent = as.numeric(gsub('%','',cacao$Cocoa.Percent))  \n",
    "cacao$Review.Date = as.character(cacao$Review.Date)\n",
    "\n",
    "# Check changes made \n",
    "head(cacao)"
   ]
  },
  {
   "cell_type": "markdown",
   "id": "6958a3c7",
   "metadata": {},
   "source": [
    "There are several functions to analyze and plot the dataset looking at categorical and continuous variables and other analyses. For example:"
   ]
  },
  {
   "cell_type": "code",
   "execution_count": null,
   "id": "c7eb4f45",
   "metadata": {},
   "outputs": [],
   "source": [
    "# variable dimension strings: variables, variable type, and total number\n",
    "plot_str(cacao)\n",
    "# missing values for each variable\n",
    "plot_missing(cacao)\n",
    "# variable histograms\n",
    "plot_histogram(cacao)\n",
    "# variable density plots\n",
    "plot_density(cacao)\n",
    "# variable bar plots\n",
    "plot_bar(cacao)\n",
    "# multivariate correlationa analysis\n",
    "plot_correlation(cacao, type = 'continuous','Review.Date')"
   ]
  },
  {
   "cell_type": "markdown",
   "id": "a398e7d8",
   "metadata": {},
   "source": [
    "The `create_report()` function will run all of the EDA commands above, convert the outputs to an html file then open the report in your default browser. This is useful if you want to enter one line and get a rapid summary of everything for the dataset. All of the above code runs very fast even with large datasets.\n",
    "\n",
    "## lidR\n",
    "Lidar (Light detection and ranging) frequently used for forest stand analysis. Let's explore the lidR package to show it's amazing 3d and analysis capabilities. "
   ]
  },
  {
   "cell_type": "code",
   "execution_count": null,
   "id": "b04959c6",
   "metadata": {},
   "outputs": [],
   "source": [
    "## Install lidR import, read las file and plot\n",
    "install.packages('lidR')\n",
    "library(lidR)\n",
    "LASfile <- system.file(\"extdata\", \"MixedConifer.laz\", package=\"lidR\")\n",
    "las <- readLAS(LASfile, select = \"xyzr\", filter = \"-drop_z_below 0\")\n",
    "plot(las, bg = \"white\", size = 4)"
   ]
  },
  {
   "cell_type": "markdown",
   "id": "e23917d4",
   "metadata": {},
   "source": [
    "This will give you a popup showing the 3d point cloud of the forest stand in this dataset. The window may not popup, so check your open windows to see if it rendered. If you left click on the point cloud model you can rotate the dateset in 3 dimensions. Far out man!\n"
   ]
  },
  {
   "cell_type": "markdown",
   "id": "b58e5651",
   "metadata": {},
   "source": [
    "## DuckDB\n",
    "Yes you can execute DuckDB in R! It's everywhere and it's somewhat to code in R than Python\n",
    "\n",
    "Install DuckDB, import the library, and create an in-memory database"
   ]
  },
  {
   "cell_type": "code",
   "execution_count": null,
   "id": "91edb63e",
   "metadata": {},
   "outputs": [],
   "source": [
    "# install and import duckdb\n",
    "install.packages('duckdb')\n",
    "library('duckdb')\n",
    "con <- dbConnect(duckdb())"
   ]
  },
  {
   "cell_type": "markdown",
   "id": "6f31cccc",
   "metadata": {},
   "source": [
    "Create a simple table and insert two items into the table"
   ]
  },
  {
   "cell_type": "code",
   "execution_count": null,
   "id": "9e59de8d",
   "metadata": {},
   "outputs": [],
   "source": [
    "# create a table\n",
    "dbExecute(con, \"CREATE TABLE items(item VARCHAR, value DECIMAL(10, 2), count INTEGER)\")\n",
    "# insert two items into the table\n",
    "dbExecute(con, \"INSERT INTO items VALUES ('jeans', 20.0, 1), ('hammer', 42.2, 2)\")"
   ]
  },
  {
   "cell_type": "markdown",
   "id": "5f47cb48",
   "metadata": {},
   "source": [
    "Write a query for the table and show it in the R console"
   ]
  },
  {
   "cell_type": "code",
   "execution_count": null,
   "id": "825d1f21",
   "metadata": {},
   "outputs": [],
   "source": [
    "# Query and print to console\n",
    "res <- dbGetQuery(con, \"SELECT * FROM items\")\n",
    "print(res)"
   ]
  },
  {
   "cell_type": "markdown",
   "id": "6450a935",
   "metadata": {},
   "source": [
    "## Resources\n",
    "\n",
    "- **[Geocomputation with R](https://r.geocompx.org/)**. An excellent free and open source book hosted on Github and covers many aspects of geospatial analysis in R {cite}`lovelace`. **[Spatial Data Science with Applications in R](https://r-spatial.org/book/)** is another excellent resource {cite}`sds`. Both publications are great if you are new to R. Spatial Data Science is particularly good for explanations and figures accompanied by R codeblocks to show you how to put together the code.\n",
    "- **[Neon intro to R](https://www.neonscience.org/resources/learning-hub/tutorials/packages-r)**. National Ecological Observatory Network from the US National Science Foundation introductory R tutorial.\n",
    "- https://jean-romain.github.io/lidRbook/index.html. Notebook for the LidR module.\n",
    "- **[Data Carpentry](https://datacarpentry.org/r-intro-geospatial/01-rstudio-intro/index.html)**. Data carprentry R module. Data carpentry also has an intro to geospatial [module](https://datacarpentry.org/lessons/#geospatial-curriculum).\n",
    "- **[Introduction to Statistical Learning](https://www.statlearning.com/)**. Look! You can do statistical learning in R or Python - Bonus!\n",
    "- **[r-spatial/rgee](https://github.com/r-spatial/rgee)**. An R library for Google Earth Engine. Chapter 6.4 of the Earth Engine Fundamentals and Applications is focused on the rgee package {cite}`eefa`.\n",
    "- **[lidR](https://r-lidar.github.io/lidRbook/)**. Online book for the lidR package.\n",
    "\n",
    "<!-- ## Notes\n",
    "- R tutorial with Lidr and a lidar spatial dataset from NRCP? "
   ]
  },
  {
   "cell_type": "markdown",
   "id": "dc51a8f4",
   "metadata": {},
   "source": [
    "-->"
   ]
  }
 ],
 "metadata": {
  "jupytext": {
   "cell_metadata_filter": "-all",
   "main_language": "python",
   "notebook_metadata_filter": "-all"
  }
 },
 "nbformat": 4,
 "nbformat_minor": 5
}
