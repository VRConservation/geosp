{
 "cells": [
  {
   "cell_type": "markdown",
   "id": "3ddc74ac",
   "metadata": {},
   "source": [
    "# R\n",
    "\n",
    "## Code Comparison\n",
    "Javascript, Python, and R have strikingly similar code structure ({numref}`comparison`).\n",
    "\n",
    "```{list-table} Javascript, Python, R code comparison. Adapted from [rgee's read me page](http://gg.gg/19zkau).\n",
    ":header-rows: 1\n",
    ":name: comparison\n",
    "\n",
    "* - Javascript\n",
    "  - Python\n",
    "  - R\n",
    "* - //Import dataset\n",
    "  - #Import EE, dataset\n",
    "  - #Import rgee, dataset\n",
    "* - n/a\n",
    "  - import ee\n",
    "  - library(rgee)\n",
    "* - n/a\n",
    "  - ee.Initialize()\n",
    "  - ee_Initialize()      \n",
    "* - var db = 'CGIAR/SRTM90_V4'\n",
    "  - db = 'CGIAR/SRTM90_V4'\n",
    "  - db <- 'CGIAR/SRTM90_V4'   \n",
    "* - var image = ee.Image(db)\n",
    "  - image = ee.Image(db) \n",
    "  - image <- ee$Image(db)\n",
    "* - print(image.bandNames())\n",
    "  - image.bandNames().getInfo()\n",
    "  - image$bandNames()$getInfo()\n",
    "* - (output) #> [\"elevation\"]   \n",
    "  - #> ['elevation']\n",
    "  - #> [1] \"elevation\"\n",
    "```\n",
    "In fact, it's similar enough to make each challenging to keep straight, almost like learning and remembering Spanish and Portuguese."
   ]
  },
  {
   "cell_type": "markdown",
   "id": "654c3f10",
   "metadata": {},
   "source": [
    "```{tip} R has the somewhat annoying symbol for variables or assignment operator of < + -, but you can quickly enter it using the keyboard shortcut Alt/Option + - in Windows/Mac.\n",
    "```\n",
    "\n",
    "## Resources\n",
    "\n",
    "- r-spatial/rgee. See https://github.com/r-spatial/rgee and go scroll down to table showing how javascript, python and R look similar in code.\n",
    "- https://www.neonscience.org/resources/learning-hub/tutorials/packages-r. Neon intro to R\n",
    "- https://jean-romain.github.io/lidRbook/index.html. Notebook for the LidR module.\n",
    "- https://datacarpentry.org/r-intro-geospatial/01-rstudio-intro/index.html Data carprentry R module. Data carpentry also has a intro to geospatial at https://datacarpentry.org/lessons/#geospatial-curriculum"
   ]
  }
 ],
 "metadata": {
  "jupytext": {
   "cell_metadata_filter": "-all",
   "formats": "ipynb,md",
   "main_language": "python",
   "notebook_metadata_filter": "-all"
  },
  "kernelspec": {
   "display_name": "Python 3 (ipykernel)",
   "language": "python",
   "name": "python3"
  },
  "language_info": {
   "codemirror_mode": {
    "name": "ipython",
    "version": 3
   },
   "file_extension": ".py",
   "mimetype": "text/x-python",
   "name": "python",
   "nbconvert_exporter": "python",
   "pygments_lexer": "ipython3",
   "version": "3.11.8"
  }
 },
 "nbformat": 4,
 "nbformat_minor": 5
}
