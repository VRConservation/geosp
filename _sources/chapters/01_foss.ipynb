{
 "cells": [
  {
   "cell_type": "markdown",
   "id": "dad678b4",
   "metadata": {},
   "source": [
    "# FOSS\n",
    "\n",
    "Free and open-source geospatial tools and software are essential for data democratization, equitable planning, and preserving natural resources because they provide accessible and transparent ways to analyze and visualize spatial data. These tools enable individuals and communities, regardless of their financial resources, to access, analyze, and share geospatial information. By harnessing these tools, users can make informed decisions about land use planning, resource management, and environmental conservation. Additionally, the open nature of these tools fosters collaboration and innovation among diverse stakeholders, leading to more inclusive and sustainable solutions for our communities and the environment. Ultimately, free and open-source geospatial tools play a crucial role in promoting transparency, equity, and sustainability in decision-making processes related to our natural resources and the built environment.\n",
    "\n",
    "## Participatory Rural Appraisal\n",
    "I literally did stone-age mapping for a portion of my graduate school research working with indigenous villages in a community run reserve called Chimalapas in Oaxaca, Mexico. \n",
    "\n",
    "Participatory Rural Appraisal (PRA) is a crucial natural resource assessment and community empowerment tool for several reasons. Firstly, PRA involves local community members in the assessment process, enabling them to actively contribute their knowledge, experiences, and perspectives regarding natural resources. This inclusive approach ensures that the assessment reflects the needs and priorities of the community, leading to more relevant and sustainable resource management decisions. Secondly, PRA fosters community empowerment by building local capacity, enhancing collective decision-making, and promoting ownership of development initiatives. By engaging in the assessment process, community members gain a sense of responsibility and agency over their resources, leading to more effective and long-lasting conservation efforts. Overall, PRA serves as a bridge between scientific expertise and traditional knowledge, facilitating a collaborative and holistic approach to natural resource management that benefits both the environment and the community.\n",
    "\n",
    "## Modern GIS\n",
    "\n",
    ">'Modern GIS is the process, systems, and technology used to derive insights from geospatial data. Modern GIS\n",
    "uses open, interoperable, and standards based technology. It can be run locally or in the cloud and can scale to\n",
    "work with different types, velocities, and scales of data.' {cite}`forrest2023`.\n",
    "\n",
    "## Data Democratization\n",
    "Imagine a nonprofit NGO focused on wildlife conservation in a remote corner of the world, striving to protect endangered species and fragile ecosystems amidst mounting challenges. In today's digital age, data is inundating our world at an unprecedented rate, offering valuable insights crucial for informed decision-making. However, not all data is readily accessible, and the software required to analyze it often comes with a hefty price tag. This unfortunate reality creates a significant barrier, preventing organizations and communities in need from harnessing the power of data-driven solutions. Regrettably, the areas most in peril, facing the looming threats of destruction and extinction, are often located in developing regions where resources are scant. Data democratization is essential to bridge this gap, ensuring that vital information is accessible to all, empowering conservation efforts and safeguarding our natural world for future generations.\n",
    "\n",
    "## Equity Maps"
   ]
  }
 ],
 "metadata": {
  "jupytext": {
   "cell_metadata_filter": "-all",
   "formats": "ipynb,md"
  },
  "kernelspec": {
   "display_name": "Python 3 (ipykernel)",
   "language": "python",
   "name": "python3"
  },
  "language_info": {
   "codemirror_mode": {
    "name": "ipython",
    "version": 3
   },
   "file_extension": ".py",
   "mimetype": "text/x-python",
   "name": "python",
   "nbconvert_exporter": "python",
   "pygments_lexer": "ipython3",
   "version": "3.11.8"
  }
 },
 "nbformat": 4,
 "nbformat_minor": 5
}
