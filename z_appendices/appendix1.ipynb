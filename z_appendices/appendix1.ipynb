{
 "cells": [
  {
   "cell_type": "markdown",
   "id": "34f24464",
   "metadata": {},
   "source": [
    "# Appendix 1\n",
    "Getting started with Visual Studio Code, Github, Anaconda: Your systems started right!\n",
    "\n",
    "## Installation\n",
    "\n",
    "## Github\n",
    "\n",
    "## Anaconda"
   ]
  }
 ],
 "metadata": {
  "jupytext": {
   "cell_metadata_filter": "-all",
   "main_language": "python",
   "notebook_metadata_filter": "-all"
  }
 },
 "nbformat": 4,
 "nbformat_minor": 5
}
