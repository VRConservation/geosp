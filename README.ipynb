{
 "cells": [
  {
   "cell_type": "markdown",
   "id": "28bfaa5e",
   "metadata": {},
   "source": [
    "# Free and Open Source Geospatial Tools\n",
    "Author: Vance Russell\n",
    "\n",
    "Year: 2024\n",
    "\n",
    "Copyright: ©2024 All Rights Reserved\n",
    "\n",
    "Website: https://3point.xyz/geosp-bib\n",
    "\n",
    "## Background\n",
    "Welcome to Free and Open Source Geospatial Solutions. This book provides resources and examples of open-source geospatial software and solutions. Accessing, processing, and analyzing geospatial data can be daunting, often hindered by data accessibility, compatibility, and cost constraints. There are a lot of geospatial resources, tutorials, and books out there, but most focus on specific tools. This book resource provides a beginner's guide to getting going with each of those and compares free and open-source software to paid resources and books. The FOSS book aims to address these challenges head-on by providing practical solutions and resources. Because you want to analyze and visualize data, not spend time looking through stack exchange or asking ChatGPT how to fix an obscure error when your code doesn’t run, or your laptop won’t install a package correctly.\n",
    "\n",
    "## Citation\n",
    "Please cite as Russell, Vance. 2024. Free and Open Source Geospatial Solutions. Jupyterbook.org. \n",
    "\n",
    "With bibtex:\n",
    "\n",
    "```\n",
    "@book{vrussell2024,\n",
    "  title\t\t= {Free and open source geospatial tools},\n",
    "  author\t= {Russell, Vance},\n",
    "  year\t\t= {2024},\n",
    "  publisher\t= {3point Geospatial},\n",
    "  URL\t\t= {https://3point.xyz/geosp-bib}\n",
    "}\n",
    "```"
   ]
  }
 ],
 "metadata": {
  "jupytext": {
   "cell_metadata_filter": "-all",
   "main_language": "python",
   "notebook_metadata_filter": "-all"
  }
 },
 "nbformat": 4,
 "nbformat_minor": 5
}
