{
 "cells": [
  {
   "cell_type": "markdown",
   "id": "28bfaa5e",
   "metadata": {},
   "source": [
    "# Free and Open Source Geospatial Tools\n",
    "Author: Vance Russell\n",
    "Year: 2024\n",
    "Published: jupyterbooks\n",
    "Website: https://3point.xyz/geosp-bib/\n",
    "\n",
    "Welcome to Free and Open Source Geospatial Solutions. This book provides resources and examples of open-source geospatial software and solutions. Accessing, processing, and analyzing geospatial data can be daunting, often hindered by data accessibility, compatibility, and cost constraints. There are a lot of geospatial resources, tutorials, and books out there, but most focus on specific tools. This book resource provides a beginner's guide to getting going with each of those and compares free and open-source software to paid resources and books. The FOSS book aims to address these challenges head-on by providing practical solutions and resources. Because you want to analyze and visualize data, not spend time looking through stack exchange or asking ChatGPT how to fix an obscure error when your code doesn’t run, or your laptop won’t install a package correctly.\n",
    "\n",
    "Please cite as Russell, Vance. 2024. Free and Open Source Geospatial Solutions. Jupyterbook.org. or with bibtex:\n",
    "\n",
    "@book{vrussell2024,\n",
    "\ttitle\t\t  = {Free and open source geospatial tools},\n",
    "\tauthor\t\t= {Russell, Vance},\n",
    "\tyear\t\t  = {2024},\n",
    "\tpublisher\t= {jupyterbook.org},\n",
    "\turl \t\t  = {https://3point.xyz/geosp-bib}\n",
    "}"
   ]
  }
 ],
 "metadata": {
  "jupytext": {
   "cell_metadata_filter": "-all",
   "main_language": "python",
   "notebook_metadata_filter": "-all"
  }
 },
 "nbformat": 4,
 "nbformat_minor": 5
}
