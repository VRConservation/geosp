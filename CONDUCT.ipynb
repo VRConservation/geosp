{
 "cells": [
  {
   "cell_type": "markdown",
   "id": "5ad5a893",
   "metadata": {},
   "source": [
    "# Code of Conduct\n",
    "\n",
    "## Our Pledge\n",
    "\n",
    "In the interest of fostering an open and welcoming environment, we as contributors and maintainers pledge to making participation in our project and our community a harassment-free experience for everyone, regardless of age, body size, disability, ethnicity, gender identity and expression, level of experience, nationality, personal appearance, race, religion, or sexual identity and orientation.\n",
    "\n",
    "## Our Standards\n",
    "\n",
    "Examples of behavior that contributes to creating a positive environment include:\n",
    "\n",
    "- Using welcoming and inclusive language\n",
    "- Being respectful of differing viewpoints and experiences\n",
    "- Gracefully accepting constructive criticism\n",
    "- Focusing on what is best for the community\n",
    "- Showing empathy towards other community members\n",
    "\n",
    "Examples of unacceptable behavior by participants include:\n",
    "\n",
    "- The use of sexualized language or imagery and unwelcome sexual attention or advances\n",
    "- Trolling, insulting/derogatory comments, and personal or political attacks\n",
    "- Public or private harassment\n",
    "- Publishing others' private information, such as a physical or electronic address, without explicit permission\n",
    "- Other conduct which could reasonably be considered inappropriate in a professional setting\n",
    "\n",
    "## Our Responsibilities\n",
    "\n",
    "Project maintainers are responsible for clarifying the standards of acceptable behavior and are expected to take appropriate and fair corrective action in response to any instances of unacceptable behavior.\n",
    "\n",
    "Project maintainers have the right and responsibility to remove, edit, or reject comments, commits, code, wiki edits, issues, and other contributions that are not aligned to this Code of Conduct, or to ban temporarily or permanently any contributor for other behaviors that they deem inappropriate, threatening, offensive, or harmful.\n",
    "\n",
    "## Scope\n",
    "\n",
    "This Code of Conduct applies both within project spaces and in public spaces when an individual is representing the project or its community. Examples of representing a project or community include using an official project e-mail address, posting via an official social media account, or acting as an appointed representative at an online or offline event. Representation of a project may be further defined and clarified by project maintainers.\n",
    "\n",
    "## Enforcement\n",
    "\n",
    "Instances of abusive, harassing, or otherwise unacceptable behavior may be reported by contacting the project team. The project team will review and investigate all complaints, and will respond in a way that it deems appropriate to the circumstances. The project team is obligated to maintain confidentiality with regard to the reporter of an incident. Further details of specific enforcement policies may be posted separately.\n",
    "\n",
    "Project maintainers who do not follow or enforce the Code of Conduct in good faith may face temporary or permanent repercussions as determined by other members of the project's leadership.\n",
    "\n",
    "## Attribution\n",
    "\n",
    "This Code of Conduct is adapted from the [Contributor Covenant, version 1.4](http://contributor-covenant.org/version/1/4)."
   ]
  }
 ],
 "metadata": {
  "jupytext": {
   "cell_metadata_filter": "-all",
   "main_language": "python",
   "notebook_metadata_filter": "-all"
  }
 },
 "nbformat": 4,
 "nbformat_minor": 5
}
