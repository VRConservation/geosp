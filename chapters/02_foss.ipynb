{
 "cells": [
  {
   "cell_type": "markdown",
   "id": "7820a1da",
   "metadata": {},
   "source": [
    "# FOSS\n",
    "Free and open-source geospatial tools and software are essential for data democratization, equitable planning, and preserving natural resources because they provide accessible and transparent ways to analyze and visualize spatial data. These tools enable individuals and communities to access, analyze, and share geospatial information regardless of their financial resources. By harnessing these tools, users can make informed decisions about land use planning, resource management, and environmental conservation. Additionally, the open nature of these tools fosters collaboration and innovation among diverse stakeholders, leading to more inclusive and sustainable solutions for our communities and the environment. Ultimately, free and open-source geospatial tools are crucial in promoting transparency, equity, and sustainability in decision-making processes related to our natural resources and the built environment.\n",
    "\n",
    "## Participatory Rural Appraisal\n",
    "For a portion of my graduate school research, I did community-based mapping, working with indigenous villages in a community-run reserve called Chimalapas in Oaxaca, Mexico using participatory rural appraisal (PRA) tools. PRA involves local community members in the assessment process, enabling them to actively contribute their knowledge, experiences, and perspectives regarding natural resources. This inclusive approach ensures that the assessment reflects the needs and priorities of the community, leading to more relevant and sustainable resource management decisions. Secondly, PRA fosters community empowerment by building local capacity, enhancing collective decision-making, and promoting ownership of development initiatives. \n",
    "\n",
    "![pra](/figures/pra.jpg)\n",
    "\n",
    "The tools are simple; mapping can be drawing a diagram in the dirt or sand or working with villagers to create an elaborate model of how they perceive their local landscape. Other tools can involve using rocks or beans to evaluate resources and crops. The point of the exercises were to develop the spatial perception of how communities perceived their geography and determine what was important to them in managing and living in the natural world.\n",
    "\n",
    "My point here, is mapping can be as simple and free as you want, especially to create something that is meaningful to your audience and you should use the right tools for the analysis in question. I learned as much from developing maps in dirt as I have from analyzing rasters for land use change or running regressions with multiple variables to develop machine learning models.\n",
    "\n",
    "## Modern GIS\n",
    "Geographic information systems (GIS) have changed substantially in the past four decades from simple, but clunky map layers to complex software able to process thousands of datapoints in multiple dimensions. Even the term GIS has started to shift toward geospatial data and data analysis and data analysis nearly always has a spatial component.\n",
    "\n",
    "An explosion in data science during the past decade from big data to [big data is dead](https://motherduck.com/blog/big-data-is-dead/) has not only seen data have its [rock is dead/long live rock](https://www.youtube.com/watch?v=DqVcDV5kGcg) moment it has also seen proliferation in software and cost to geospatial analysis.\n",
    "\n",
    "```{admonition} Modern GIS\n",
    "'...the process, systems, and technology used to derive insights from geospatial data. Modern GIS\n",
    "uses open, interoperable, and standards-based technology. It can be run locally or in the cloud and can scale to work with different types, velocities, and data scales.' {cite}`forrest2023`\n",
    "```\n"
   ]
  },
  {
   "cell_type": "markdown",
   "id": "8afd4908",
   "metadata": {},
   "source": [
    "## Data Democratization\n",
    "Imagine a nonprofit NGO focused on wildlife conservation in a remote corner of the world, striving to protect endangered species and fragile ecosystems amidst mounting challenges. In today's digital age, data is inundating our world at an unprecedented rate, offering valuable insights crucial for informed decision-making. \n",
    "\n",
    "However, not all data is readily accessible, and the software required to analyze it often comes with a hefty price tag. This unfortunate reality creates a significant barrier, preventing organizations and communities in need from harnessing the power of data-driven solutions. Regrettably, the areas most in peril, facing the looming threats of destruction and extinction, are often located in developing regions where resources are scant.\n",
    "\n",
    "Data democratization is essential to bridge this gap, ensuring that vital information is accessible, empowering conservation efforts, and safeguarding our natural world for future generations. Accessible data and imagery depends on free and open source software. The challenge with free and open source software is it usually requires knowledge of coding, a barrier for some without a computer science background.\n",
    "\n",
    "## Solutions\n",
    "The solution is to learn how to code and fortunately there are a vast number of resources available to learn from youtube to online tutorials and blogs. However, there are still challenges with this approach:\n",
    "\n",
    "1. "
   ]
  }
 ],
 "metadata": {
  "jupytext": {
   "cell_metadata_filter": "-all",
   "formats": "ipynb,md"
  },
  "kernelspec": {
   "display_name": "Python 3 (ipykernel)",
   "language": "python",
   "name": "python3"
  }
 },
 "nbformat": 4,
 "nbformat_minor": 5
}
