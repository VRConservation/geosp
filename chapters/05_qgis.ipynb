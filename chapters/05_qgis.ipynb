{
 "cells": [
  {
   "cell_type": "markdown",
   "id": "5afcef95",
   "metadata": {},
   "source": [
    "# QGIS"
   ]
  },
  {
   "cell_type": "markdown",
   "id": "43b51a58",
   "metadata": {},
   "source": [
    "sql qgis pro tip from spatial thoughts: You can use the 'Execute SQL' processing algorithm to run SQL queries on ANY vector layer within QGIS. Here's an example of calculating group statistics on a vector layer. This also allows you to run SQL queries in a model. https://twitter.com/spatialthoughts/status/1774833044396081189"
   ]
  }
 ],
 "metadata": {
  "jupytext": {
   "cell_metadata_filter": "-all",
   "main_language": "python",
   "notebook_metadata_filter": "-all"
  }
 },
 "nbformat": 4,
 "nbformat_minor": 5
}
