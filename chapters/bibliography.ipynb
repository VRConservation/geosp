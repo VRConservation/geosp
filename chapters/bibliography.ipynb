{
 "cells": [
  {
   "cell_type": "markdown",
   "id": "6bf98a18",
   "metadata": {},
   "source": [
    "# Bibliography\n",
    "\n",
    "```{bibliography}\n",
    "\n",
    "```"
   ]
  }
 ],
 "metadata": {
  "jupytext": {
   "main_language": "python"
  },
  "language_info": {
   "codemirror_mode": {
    "name": "ipython",
    "version": 3
   },
   "file_extension": ".py",
   "mimetype": "text/x-python",
   "name": "python",
   "nbconvert_exporter": "python",
   "pygments_lexer": "ipython3",
   "version": "3.11.8"
  }
 },
 "nbformat": 4,
 "nbformat_minor": 5
}
