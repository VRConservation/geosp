{
 "cells": [
  {
   "cell_type": "markdown",
   "id": "e9026dda",
   "metadata": {},
   "source": [
    "# Forward\n",
    "\n",
    "The geospatial landscape has undergone a remarkable transformation in recent years, driven by the rise of free and open-source software (FOSS) tools and the emergence of cloud-native geospatial technologies. Innovative solutions like Cloud Optimized GeoTIFF (COG), SpatioTemporal Asset Catalog (STAC), GeoParquet, and PMTiles have democratized the field, empowering individuals, communities, and organizations to harness the power of spatial data regardless of their financial resources or technical expertise.\n",
    "\n",
    "In this timely and invaluable book, Vance Russell has crafted an essential guide to navigating the world of FOSS geospatial tools. Drawing on a diverse toolkit of programming languages, including JavaScript, Python, R, and SQL, Vance takes readers on a captivating journey through the essential FOSS solutions. From the cloud computing prowess of Google Earth Engine to the flexible desktop GIS power of QGIS, and the spatial database capabilities of DuckDB, this book offers a comprehensive exploration of the open-source geospatial landscape.\n",
    "\n",
    "What sets this work apart is Vance's ability to balance practical, hands-on instruction with insightful commentary. The path to mastering FOSS geospatial tools can be daunting, often fraught with jargon-heavy documentation and frustrating errors. However, through clear, accessible guidance and a wealth of supplementary resources, Vance equips the reader with the confidence and skills needed to harness these powerful tools.\n",
    "\n",
    "Whether you are a seasoned GIS professional, an aspiring spatial analyst, or a community advocate seeking to leverage modern GIS tools, this book is an invaluable companion. As you embark on this journey through the world of FOSS geospatial tools, I invite you to embrace the spirit of exploration and discovery that permeates these pages. In doing so, you will unlock new possibilities, learn new skills, and contribute to open science and the democratization of geospatial knowledge.\n",
    "\n",
    "**Qiusheng Wu**\n",
    "\n",
    "_Dr. Qiusheng Wu is an Associate Professor in the Department of Geography & Sustainability at the University of Tennessee, Knoxville. In addition, he holds positions as an Amazon Visiting Academic and a Senior Research Fellow at the United Nations University. Specializing in geospatial data science and open-source software development, Dr. Wu is particularly focused on leveraging big geospatial data and cloud computing to study environmental changes, with an emphasis on surface water and wetland inundation dynamics. He is the creator of several open-source packages designed for advanced geospatial analysis and visualization, including geemap, leafmap, and segment-geospatial. For a closer look at his open-source contributions, please visit his GitHub repositories at https://github.com/opengeos._"
   ]
  }
 ],
 "metadata": {
  "jupytext": {
   "cell_metadata_filter": "-all",
   "main_language": "python",
   "notebook_metadata_filter": "-all"
  }
 },
 "nbformat": 4,
 "nbformat_minor": 5
}
