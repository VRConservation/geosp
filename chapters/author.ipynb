{
 "cells": [
  {
   "cell_type": "markdown",
   "id": "84bb1939",
   "metadata": {},
   "source": [
    "# Author\n",
    "\n",
    "```{image} /vr.jpg\n",
    ":height: 500px\n",
    ":name: vance\n",
    "```\n",
    "\n",
    "## Vance Russell\n",
    "\n",
    "Vance Russell has nearly 40 years of experience working in forest science & management, rewilding, biodiversity conservation, agricultural landscapes, restoration, and natural resources management. He is a conservation consultant and works for various non-profit, state/federal agencies, and private businesses. Vance was the California Director of Programs for the National Forest Foundation, where he managed, led, and funded community forestry projects. Before joining the National Forest Foundation, he was director of Audubon California’s Landowner Stewardship Program, working with farmers and ranchers to restore habitat compatible with existing agricultural operations. He managed the 7,800-acre Bobcat Ranch and 3,000-acre Mayacamas Mountains Reserve in California. Vance is a member of the Civic Consulting Collaborative, the former Board Chair of Groundswell International, is a trustee for the South Downs National Park Trust, a Wild Farm Alliance co-founder and board member, and serves on the Rewilding Leadership Council for the Rewilding Institute. Vance received his M.S. degree in Forest Science and Natural Resources Management from Cornell University and a B.A. in Biology from the College of Wooster.\n",
    "\n",
    "## More information\n",
    "\n",
    "For more information, contact the author and see projects he is currently working on, visit [Linkedin](https://www.linkedin.com/in/vance-russell-ab596810/) or the [3point.xyz](https://3point.xyz) website.\n",
    "\n",
    "```{image} /logo.png\n",
    ":height: 300px\n",
    ":name: logo\n",
    "```\n",
    "\n",
    "## Support\n",
    "\n",
    "This book is a free resource for anyone to use. If you want to support me, donate, or buy me a coffee, please go to my [buymeacoffee](https://www.buymeacoffee.com/3point) site. I will be adding chapters and resources in the future. Thank you!"
   ]
  }
 ],
 "metadata": {
  "jupytext": {
   "main_language": "python"
  },
  "language_info": {
   "codemirror_mode": {
    "name": "ipython",
    "version": 3
   },
   "file_extension": ".py",
   "mimetype": "text/x-python",
   "name": "python",
   "nbconvert_exporter": "python",
   "pygments_lexer": "ipython3",
   "version": "3.11.8"
  }
 },
 "nbformat": 4,
 "nbformat_minor": 5
}
