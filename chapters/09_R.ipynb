{
 "cells": [
  {
   "cell_type": "markdown",
   "id": "26de051c",
   "metadata": {},
   "source": [
    "# R\n",
    "R is the definitive programming language for data analysis and visualization in academia. But it's increasingly being used more broadly due to its ease of use and many analysis packages.\n",
    "\n",
    "**The remainder of chapter is coming soon!**\n",
    "\n",
    "## Similarities\n",
    "Javascript, Python, and R have strikingly similar code structure ({numref}`comparison`).\n",
    "\n",
    "```{figure} /figures/rgee.png\n",
    ":name: comparison\n",
    "\n",
    "Javascript, Python, R code comparison. Adapted from [rgee](http://gg.gg/19zkau). Note that Python require additional commands to run Earth Engine.\n",
    "```\n",
    "\n",
    "In fact, it's similar enough to make each coding language organized in your head, almost like learning and remembering Spanish and Portuguese."
   ]
  },
  {
   "cell_type": "markdown",
   "id": "cb8e697c",
   "metadata": {},
   "source": [
    "```{tip} R has the somewhat annoying symbol for variables or assignment operator of <-, but you can quickly enter it using the keyboard shortcut Alt/Option and - (Alt and minus sign) in Windows/Mac.\n",
    "```\n",
    "## R mapping\n",
    "Coming soon!\n",
    "\n",
    "## LidR\n",
    "Example coming soon!\n",
    "\n",
    "## Resources\n",
    "\n",
    "- **[Geocomputation with R](https://r.geocompx.org/)**. An excellent free and open source book hosted on Github and covers many aspects of geospatial analysis in R {cite}`lovelace`. **[Spatial Data Science with Applications in R](https://r-spatial.org/book/)** is another excellent resource {cite}`sds`. Both publications are great if you are new to R. Spatial Data Science is particularly good for explanations and figures accompanied by R codeblocks to show you how to put together the code.\n",
    "- **[Neon intro to R](https://www.neonscience.org/resources/learning-hub/tutorials/packages-r)**. National Ecological Observatory Network from the US National Science Foundation introductory R tutorial.\n",
    "- https://jean-romain.github.io/lidRbook/index.html. Notebook for the LidR module.\n",
    "- **[Data Carpentry](https://datacarpentry.org/r-intro-geospatial/01-rstudio-intro/index.html)**. Data carprentry R module. Data carpentry also has an intro to geospatial [module](https://datacarpentry.org/lessons/#geospatial-curriculum).\n",
    "- **[Introduction to Statistical Learning](https://www.statlearning.com/)**. Look! You can do statistical learning in R or Python - Bonus!\n",
    "- **[r-spatial/rgee](https://github.com/r-spatial/rgee)**. An R library for Google Earth Engine. Chapter 6.4 of the Earth Engine Fundamentals and Applications is focused on rgee {cite}`eefa`.\n",
    "- **[lidR](https://r-lidar.github.io/lidRbook/)**. Online book for the lidR package.\n",
    "\n",
    "<!-- ## Notes\n",
    "- R tutorial with Lidr and a lidar spatial dataset from NRCP? "
   ]
  },
  {
   "cell_type": "markdown",
   "id": "dc51a8f4",
   "metadata": {},
   "source": [
    "-->"
   ]
  }
 ],
 "metadata": {
  "jupytext": {
   "cell_metadata_filter": "-all",
   "main_language": "python",
   "notebook_metadata_filter": "-all"
  }
 },
 "nbformat": 4,
 "nbformat_minor": 5
}
