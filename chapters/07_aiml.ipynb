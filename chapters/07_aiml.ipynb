{
 "cells": [
  {
   "cell_type": "markdown",
   "id": "4b1ee955",
   "metadata": {},
   "source": [
    "# AI & ML\n",
    "\n",
    "## Machine Learning\n",
    "\n",
    "ML example could be from Spatial Thoughts or Whitebark pine\n",
    "\n",
    "Write entire chapter using ai even the text from Copilot, Gemini, and ChatGPT. For each ask them to write code for the same example from chp1, then review"
   ]
  },
  {
   "cell_type": "markdown",
   "id": "f9a0caea",
   "metadata": {},
   "source": [
    "## Resources\n",
    "- [Clay Foundation Model](https://clay-foundation.github.io/model/index.html). Only works on linux devices with CUDA GPUs? "
   ]
  }
 ],
 "metadata": {
  "jupytext": {
   "cell_metadata_filter": "-all",
   "main_language": "python",
   "notebook_metadata_filter": "-all"
  }
 },
 "nbformat": 4,
 "nbformat_minor": 5
}
