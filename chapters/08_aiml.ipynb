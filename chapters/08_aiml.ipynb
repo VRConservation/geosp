{
 "cells": [
  {
   "cell_type": "markdown",
   "id": "12ec5cd7",
   "metadata": {},
   "source": [
    "# AI\n",
    "Can artificial intelligence revolutionize the geospatial world? \n",
    "\n",
    "![ai](/figures/ai.png)\n",
    "credit: brave.com\n",
    "\n",
    "## Future edition\n",
    "Whether AI can revolutionize the geospatial world is a good question. {cite:t}`aiscan` concluded that AI will lead to beneficial outcomes, however, it is not a panacea, and measures must be put into place for equitable access and deployment. In a review of the same paper, Frank van der Most points out that only two of the 21 applications cited as significant are focused on implementing solutions {cite}`fvdm`.\n",
    "\n",
    "There have been many attempts and big claims in the geospatial world, but as of 2024, I have to conclude it isn't quite ready for primetime (although this is rapidly changing)! Machine learning (ML) is well developed in the free and open source (cf. chapters or tutorials from Leafmap and the R geocomputation book). ML is often conflated with AI, but it's not the same. Artificial intelligence for geospatial is at the gee-whiz stage, but it's not amazing. One recent example showed prompt engineering with GeoGPT to produce some ok chloropleth maps that would take the same amount of time to assemble using the appropriate dataset and software highlighted in this book. Plus, taking a little time to run the code and do exploratory data analysis always allows you to know the data, which is something that doesn't happen when you ask a question and get a map. Also, GeoGPT is not free, nor is it open source!\n",
    "\n",
    "An exception to the usefulness side I've seen with AI is [Bunting Lab's](https://buntinglabs.com/) autocomplete for map digitization, which installs as a QGIS plugin. This isn't a free tool, but it seems like it would certainly be worth its weight in gold if you needed to do a lot of map digitizing, taking much of the tedious manual labor out of this task. Another exception is where AI generates cut-and-paste codeblocks that throw fewer errors than the nonsense generated from prompts a few months ago or get you unstuck when an approach is not working.\n",
    "\n",
    "Due to AI's underwhelming but promising status to date, I will wait another year to see if more compelling examples arise. I've provided a few promising links. Overall, AI could help democratize geospatial analysis by lowering the cost of entry to both data and coding.\n",
    "\n",
    "## Resources\n",
    "- [Autonomous GIS](https://github.com/gladcolor/LLM-Geo). This repo and LLM are pretty cool and hopefully will receive further development over time. Unfortunately, there was a lot of activity from commits when it came out, but not much since.\n",
    "- [Jupyter generative AI](https://blog.jupyter.org/generative-ai-in-jupyter-3f7174824862). Generative AI coding in Jupyter notebooks.\n",
    "- [human brain edge over ai article](https://www.linkedin.com/pulse/where-human-brain-still-has-edge-over-ai-fast-company-j2jpe/)\n",
    "- [A Beginner's Guide to Prompt Engineering with GitHub Copilot](http://gg.gg/1b54nw). This is an extensive guide on how to engineer your prompts to code better and best use AI. It is also applicable to prompts in other platforms such as Gemini or ChatGPT.\n",
    "Articles on copilot prompt engineering.\n",
    "- [MLOps Resources](http://gg.gg/1bb1bk). A curated list of resources, tools, frameworks, articles, and projects related to Machine Learning Operations (MLOps).\n",
    "- [GeoGPT](http://gg.gg/1bb1b4). An introduction to the GeoGPT model through ChatGPT article at medium.com. The results are somewhat underwhelming but going to the Github repo will give you more compelling examples.\n",
    "- [Aino AI plugin](http://gg.gg/1bb1cc). An accessible AI plugin for QGIS for all users.\n",
    "- [Clay Foundation Model](https://clay-foundation.github.io/model/index.html). Does it only work on Linux devices with CUDA GPUs? What the?\n",
    "\n"
   ]
  },
  {
   "cell_type": "markdown",
   "id": "b0243bdf",
   "metadata": {},
   "source": [
    "<!-- \n",
    "\n",
    " It could be that AI helps to democratize geospatial analysis by lowering the cost of entry to geospatial data and software. Democratization of data medium article \n",
    " \n",
    "From Josep Ferrer (@rfeers on twitter): In multiple linear regression, imagine you're baking. You've got different ingredients or variables. You need the perfect recipe (model) for your cake (prediction). Each ingredient's quantity (coefficient) affects the taste (outcome).\n",
    "-->"
   ]
  }
 ],
 "metadata": {
  "kernelspec": {
   "display_name": "Python 3",
   "language": "python",
   "name": "python3"
  }
 },
 "nbformat": 4,
 "nbformat_minor": 5
}
