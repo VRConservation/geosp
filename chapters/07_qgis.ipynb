{
 "cells": [
  {
   "cell_type": "markdown",
   "id": "e4f26a75",
   "metadata": {},
   "source": [
    "# QGIS\n",
    "A powerful desktop GIS software infinitely customizable with plugins\n",
    "\n",
    "## Tutorial\n",
    "Coming soon!\n",
    "\n",
    "## Resources\n",
    "- **[QGIS Training Manual](https://docs.qgis.org/3.34/en/docs/training_manual/index.html)**. A comprehensive resource for all use cases of QGIS plus contributed chapters and tutorials. Always a great place to search to find specific answers to problems you face or find a how to.\n",
    "- **Spatial Thoughts**. Free or paid options available with comprehensive [Introduction to QGIS](https://courses.spatialthoughts.com/introduction-to-qgis.html), [Advanced QGIS](https://courses.spatialthoughts.com/advanced-qgis.html), or [Spatial Data Visualization with QGIS](https://courses.spatialthoughts.com/spatial-data-viz.html). The course materials and tutorials are free and have clear instructions and figures to follow each tutorial. \n",
    "- **[Map Academy](https://www.youtube.com/@automaticknowledge)**. Everything you need to know about QGIS, usually in short, digestible snippets. Also includes excellent videos on using Aerialod, a path tracing map visualizer using DEM and other data.\n",
    "- **[Hans Van der Kwast](https://www.youtube.com/@HansvanderKwast)**. Particularly good for QGIS hydrological applications, but also has Lidar, image analysis, and raster analysis."
   ]
  },
  {
   "cell_type": "markdown",
   "id": "9f385841",
   "metadata": {},
   "source": [
    "<!-- \n",
    "\n",
    "See the QGIS folder for project ideas. Also the PYQGIS scripts file \n",
    "\n",
    "QGIS tutorial could be about processing SAR data, also the SAR tutorial from Quisheng\n",
    "\n",
    "Tutorial on SAR and QGIS for veg change: https://asf.alaska.edu/how-to/data-recipes/change-detection-using-sar-data-in-qgis/. Not that great but could have some processing ideas\n",
    "\n",
    "Burdgis has a video that goes from gee to geemap to qgis: https://www.youtube.com/watch?v=aVunoYXSJtg\n",
    "\n",
    "Look for SAR or Synthetic aperture radar tutorials in medium: \n",
    "\n",
    "SAR flood mapping: https://medium.com/@thukupeter487/flood-mapping-on-google-earth-engine-using-sentinel-1-sar-grd-bde8085eedd0\n",
    "but it's in GEE\n",
    "\n",
    "see the EEFA book\n",
    "-->"
   ]
  }
 ],
 "metadata": {
  "jupytext": {
   "cell_metadata_filter": "-all",
   "main_language": "python",
   "notebook_metadata_filter": "-all"
  }
 },
 "nbformat": 4,
 "nbformat_minor": 5
}
