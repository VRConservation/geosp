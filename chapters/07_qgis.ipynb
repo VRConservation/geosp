{
 "cells": [
  {
   "cell_type": "markdown",
   "id": "e4f26a75",
   "metadata": {},
   "source": [
    "# QGIS\n",
    "A powerful desktop GIS software infinitely customizable with plugins\n",
    "\n",
    "## Sierra Nevada Species Richness\n",
    "QGIS is a challenging tutorial to put together because there are so many resources available. This chapter assumes you have downloaded QGIS and have basic knowledge of how to use it. If you do not, see the Introduction to QGIS and Map Academy tutorials listed in the Resources section of this chapter.\n",
    "\n",
    "### Add data\n",
    "1. If you haven't already installed the QuickMapServices plugin, go to Plugins/Not installed, look for QuickMapServices and select Install Plugin. In QMS search for Dark Matter and click Add to add it as a basemap.\n",
    "2. Go to the [Biodiviersity Conservation](https://rrk.sdsc.edu/sierra.html#bio_conserv) dataset for the California Wildfire Task Force Regional Resource Kits. Under Species Diversity/Wildlife Species Richness click the pull down menu for Raw Data, download then unzip the tif file.\n",
    "3. Add your downloads folder to favorites in the browser panel by navigating to your downloads, right clicking, and selecting add to favorites. In the favorites at the top of the panel, open downloads, the species richness file, then draft the tif onto the map canvas. It should appear on the map and in your layers:\n",
    "\n",
    "![wsr_gray](https://i.imgur.com/tJMG7w1.png)\n",
    "\n",
    "Let's change the gray color of the raster to something easier to view. In the layers panel click on the Open Layer Styling panel in the upper left corner\n",
    "\n",
    "![layers](https://i.imgur.com/E17z13S.png)\n"
   ]
  },
  {
   "cell_type": "markdown",
   "id": "9f385841",
   "metadata": {},
   "source": [
    "## Resources\n",
    "- **[QGIS Training Manual](https://docs.qgis.org/3.34/en/docs/training_manual/index.html)**. A comprehensive resource for all use cases of QGIS plus contributed chapters and tutorials. Always a great place to search to find specific answers to problems you face or find a how to.\n",
    "- **Spatial Thoughts**. Free or paid options available with comprehensive [Introduction to QGIS](https://courses.spatialthoughts.com/introduction-to-qgis.html), [Advanced QGIS](https://courses.spatialthoughts.com/advanced-qgis.html), or [Spatial Data Visualization with QGIS](https://courses.spatialthoughts.com/spatial-data-viz.html). The course materials and tutorials are free and have clear instructions and figures to follow each tutorial. \n",
    "- **[Map Academy](https://www.youtube.com/@automaticknowledge)**. Everything you need to know about QGIS, usually in short, digestible snippets. Also includes excellent videos on using Aerialod, a path tracing map visualizer using DEM and other data.\n",
    "- **[Hans Van der Kwast](https://www.youtube.com/@HansvanderKwast)**. Particularly good for QGIS hydrological applications, but also has Lidar, image analysis, and raster analysis.\n",
    "- **[Burd GIS](https://www.youtube.com/@burdGIS). Many practical videos on QGIS.\n",
    "- **[Geospatial School](https://www.youtube.com/@geospatialschool). Great combination of Python and QGIS. Also full courses at [geospatialschool.com](https://geospatialschool.com/)."
   ]
  }
 ],
 "metadata": {
  "jupytext": {
   "cell_metadata_filter": "-all",
   "main_language": "python",
   "notebook_metadata_filter": "-all"
  }
 },
 "nbformat": 4,
 "nbformat_minor": 5
}
