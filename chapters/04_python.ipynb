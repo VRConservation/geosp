{
 "cells": [
  {
   "cell_type": "markdown",
   "id": "924e4d40",
   "metadata": {},
   "source": [
    "# Geospatial Python\n",
    "\n",
    "Python is widely applicable and used in the geospatial community. ArcGIS Pro has a python package called Arcpy and QGIS has a packaged named PYQGIS. However, Arcpy is not easy or intuitive to use, even though it's a python package. I tried it, I read an entire book on it, I struggled using the notebooks, which are slow to load and not easy to link to VS Code.\n",
    "\n",
    "Then I found geemap and leafmap, incredible user friendly python packages developed by Qiushen Wu and available on github at GISWQS, along with clear tutorials at leafmap.org and geemap.org and videos at [Open Geospatial Solutions](https://www.youtube.com/@giswqs). Many analyses require only one line of code. Here, geospatial analysis using scripts just clicked for me and it opened up another world to using Python to rapidly analyse data.\n",
    "\n",
    "## Getting Started\n",
    "\n",
    "See the 5.4 Resources for more information.\n",
    "\n",
    "## Sentinel-2 Data\n",
    "\n",
    "Let's look at a simple example from a github [gist](https://gist.github.com/alexgleith/dc49156aab4b9270b0a0f145bd7fa0ce) posted by Alex Leith. Open [colab](https://colab.research.google.com/) and click the blue 'New notebook' button.\n",
    "\n",
    "```{note} 'Uncommenting' a line in python means removing the hashtag before the command, or click on the line then click control or command plus back slash (/).\n",
    "```\n",
    "\n",
    "Install the dependencies:"
   ]
  },
  {
   "cell_type": "code",
   "execution_count": null,
   "id": "0cf112bd",
   "metadata": {
    "lines_to_next_cell": 0
   },
   "outputs": [],
   "source": [
    "# Uncomment line below to install pystac and odc\n",
    "# pip install pystac-client odc-stac odc-geo"
   ]
  },
  {
   "cell_type": "markdown",
   "id": "d0c37f6c",
   "metadata": {},
   "source": [
    "Access data and create a bounding box:"
   ]
  },
  {
   "cell_type": "code",
   "execution_count": null,
   "id": "bfe3b218",
   "metadata": {
    "lines_to_next_cell": 0
   },
   "outputs": [],
   "source": [
    "# Earth search is managed by Element-84 and provides access to a wide range of data sources\n",
    "client = Client.open(\"https://earth-search.aws.element84.com/v1\")\n",
    "collection = \"sentinel-2-l2a\"\n",
    "\n",
    "# Create a bounding box centered near New River Lagoon in Tasmania\n",
    "# The bounding box is lower-left x, lower-left y, upper-right x, upper-right y\n",
    "bbox = [146.5, -43.6, 146.7, -43.4]"
   ]
  },
  {
   "cell_type": "markdown",
   "id": "4d8b56ac",
   "metadata": {},
   "source": [
    "Search and load the data:"
   ]
  },
  {
   "cell_type": "code",
   "execution_count": null,
   "id": "bbe2f42e",
   "metadata": {
    "lines_to_next_cell": 0
   },
   "outputs": [],
   "source": [
    "# Datetime can be a single date, like YEAR, YEAR-MONTH or YEAR-MONTH-DAY\n",
    "# or a range, like YEAR-MONTH/YEAR-MONTH\n",
    "datetime = \"2023-12\"\n",
    "\n",
    "# Run a lazy-loaded search of the STAC API\n",
    "search = client.search(collections=[collection], bbox=bbox, datetime=datetime)\n",
    "\n",
    "# Pass the search results to the load function, which will lazy-load the data\n",
    "data = load(search.items(), bbox=bbox, groupby=\"solar_day\", chunks={}, crs=\"EPSG:8857\", resolution=10)"
   ]
  },
  {
   "cell_type": "markdown",
   "id": "259b9c72",
   "metadata": {},
   "source": [
    "Visualize it:"
   ]
  },
  {
   "cell_type": "code",
   "execution_count": null,
   "id": "0d7afc1a",
   "metadata": {
    "lines_to_next_cell": 0
   },
   "outputs": [],
   "source": [
    "# Visualize the data\n",
    "# Time=2 is an arbitrary time slice picked because there's few clouds\n",
    "data[[\"red\", \"green\", \"blue\"]].isel(time=2).to_array().plot.imshow(vmin=0, vmax=1500)\n",
    "\n",
    "# Alternately, we could visualise using odc.geo.xr's explore function\n",
    "# data.isel(time=2).explore(bands=[\"red\", \"green\", \"blue\"], vmin=0, vmax=1500)"
   ]
  },
  {
   "cell_type": "markdown",
   "id": "1292c61c",
   "metadata": {},
   "source": [
    "Sentinel-2 true color image:\n",
    "\n",
    "![](https://i.imgur.com/ea6GCzY.png)\n",
    "\n",
    "The access and sharing of this code is another example of why free and open source is special, the community is willing to share it it is reproduceable, and easily modified to meet your needs. Thanks to Alex Leith for sharing this.\n",
    "\n",
    "## Geemap\n",
    "Compared to using Javascript, Geemap is a much easier way to access, analyze, and visualize Earth Engine data all within a python package environment developed by [Quisheng Wu](https://github.com/giswqs).\n",
    "\n",
    "```{admonition} Getting Started\n",
    "Watch this [installation video](https://www.youtube.com/watch?v=gyQ6wBqYGks&list=PLAxJ4-o7ZoPeXzIjOJx3vBF0ftKlcYH9J&index=3) followed by this [vs code and github](https://www.youtube.com/watch?v=gyQ6wBqYGks&list=PLAxJ4-o7ZoPeXzIjOJx3vBF0ftKlcYH9J&index=3) video. If you already have an IDE, miniconda, and virtual env's installed, go to the Geemap [installation](https://geemap.org/installation/) page.\n",
    "```\n",
    "\n",
    "Let's look at how to visualize the same map from Chapter 2 using Geemap. Open a jupyter notebook and add the following codeblock:"
   ]
  },
  {
   "cell_type": "code",
   "execution_count": null,
   "id": "84398c40",
   "metadata": {
    "lines_to_next_cell": 0
   },
   "outputs": [],
   "source": [
    "# Import geemap and create an interactive map\n",
    "import ee\n",
    "import geemap\n",
    "geemap.ee_initialize()\n",
    "m = geemap.Map()\n",
    "m"
   ]
  },
  {
   "cell_type": "markdown",
   "id": "1f9db7c9",
   "metadata": {},
   "source": [
    "That will will give you a generic world map with map widgets:\n",
    "\n",
    "![](https://i.imgur.com/hKl0roO.png)\n",
    "\n",
    "In the upper right corner of the map, click the wrench icon then click the two encircling arrows box (bottom row, middle) to open the Javascript to Python code converter:\n",
    "\n",
    "![](https://i.imgur.com/XXdWssh.png)\n",
    "\n",
    "Go to your Earth Engine [code editor](https://code.earthengine.google.com/), open the script from Chapter 2, select all, and paste it into the converter. Click the convert button. The code is copied to the clipboard. Paste it into a new codeblock and comment out the definition function on lines 4-6:"
   ]
  },
  {
   "cell_type": "code",
   "execution_count": null,
   "id": "3ac013e7",
   "metadata": {
    "lines_to_next_cell": 0
   },
   "outputs": [],
   "source": [
    "# Add global carbon density map\n",
    "dataset = ee.ImageCollection('NASA/ORNL/biomass_carbon_density/v1')\n",
    "\n",
    "# def func_rif(image)return image.clip(bbox)};: \\\n",
    "#                     .map(function(image){return image.clip(bbox)} \\\n",
    "#                     .map(func_rif)\n",
    "\n",
    "# Add visual parameter variables\n",
    "vis_a = {\n",
    "  'bands': ['agb'],\n",
    "  'min': -50.0,\n",
    "  'max': 80.0,\n",
    "  'palette': ['d9f0a3', 'addd8e', '78c679', '41ab5d', '238443', '005a32']\n",
    "}\n",
    "\n",
    "vis_b = {\n",
    "  'bands': ['bgb'],\n",
    "  'min': -50.0,\n",
    "  'max': 80.0,\n",
    "  'palette': ['D6BCB1', 'AB8574', '784E3D', '3D2216', '26140C', '000000']\n",
    "}\n",
    "\n",
    "# Center map and add layers\n",
    "m.setCenter(-120.2348, 38.8744, 9)\n",
    "m.addLayer(dataset, vis_a, 'Aboveground biomass carbon')\n",
    "m.addLayer(dataset, vis_b, 'Belowground biomass carbon')"
   ]
  },
  {
   "cell_type": "markdown",
   "id": "9b6c912c",
   "metadata": {},
   "source": [
    "Running that block will give you the following:\n",
    "\n",
    "![](https://i.imgur.com/uAQ9wBz.jpeg)\n",
    "\n",
    "If you return to the wrench icon and select the layers icon to the left you can switch layers on and off\n",
    "\n",
    "![](https://i.imgur.com/RzJfVjV.png)\n",
    "\n",
    "Add a new code block and add an area of interest called bbox, short for bounding box:\n",
    "\n",
    "```{tip} To run the code in a code block click ctrl/command + enter. To run the code and add a new code block click alt + enter.\n",
    "```"
   ]
  },
  {
   "cell_type": "code",
   "execution_count": null,
   "id": "026091f0",
   "metadata": {
    "lines_to_next_cell": 0
   },
   "outputs": [],
   "source": [
    "# Add an area of interest\n",
    "bbox = [-121.1874, 38.2931, -119.5262, 39.2884]\n",
    "bbox = ee.Geometry.Rectangle(bbox)"
   ]
  },
  {
   "cell_type": "markdown",
   "id": "58cf9bee",
   "metadata": {},
   "source": [
    "Then clip the carbon raster to the AOI:"
   ]
  },
  {
   "cell_type": "code",
   "execution_count": null,
   "id": "5c437465",
   "metadata": {
    "lines_to_next_cell": 0
   },
   "outputs": [],
   "source": [
    "# Clip the dataset to the area of interest\n",
    "aoi = dataset.map(lambda image: image.clip(bbox))"
   ]
  },
  {
   "cell_type": "markdown",
   "id": "fcab52dd",
   "metadata": {
    "lines_to_next_cell": 0
   },
   "source": [
    "Now add the clipped rasters:"
   ]
  },
  {
   "cell_type": "code",
   "execution_count": null,
   "id": "9e614aeb",
   "metadata": {
    "lines_to_next_cell": 0
   },
   "outputs": [],
   "source": [
    "# Add the clipped dataset to the map\n",
    "m.addLayer(aoi, vis_b, 'AOI belowground biomass carbon')\n",
    "m.addLayer(aoi, vis_a, 'AOI aboveground biomass carbon')\n",
    "m"
   ]
  },
  {
   "cell_type": "markdown",
   "id": "f8334c90",
   "metadata": {},
   "source": [
    "If you turn off the aboveground and belowground maps your map will now look like the following with only the clipped aboveground biomass carbon layer showing:\n",
    "\n",
    "![](https://i.imgur.com/DDRJeDF.png)\n",
    "\n",
    "Delete the function from the javascript conversion that you commented out previously in lines 4-6. If you need to keep running and test the map you can turn off the original biomass layers added for the entire globe by changing the center map add map layers to codeblock to"
   ]
  },
  {
   "cell_type": "code",
   "execution_count": null,
   "id": "3e7dbe3b",
   "metadata": {
    "lines_to_next_cell": 0
   },
   "outputs": [],
   "source": [
    "# Center map and add layers\n",
    "m.setCenter(-120.2348, 38.8744, 9)\n",
    "m.addLayer(dataset, vis_a, 'Aboveground biomass carbon', False)\n",
    "m.addLayer(dataset, vis_b, 'Belowground biomass carbon', False)"
   ]
  },
  {
   "cell_type": "markdown",
   "id": "a6174c09",
   "metadata": {},
   "source": [
    "Adding 'False' after the layer name still adds the layers to the map but turns them off by default. \n",
    "\n",
    "```{admonition} Lambda Function\n",
    "Let's take another look at the lambda function to clip the raster. Lambda functions are similar to other python functions but are not bound to a name when run. Known as anonymous functions, they are used when you need a one-off functions that isn't separately defined. In our case, the Lamda function takes an image, clips it to the bounding box and returns the clipped image. The map() function, not to be confused with the Map function in Javascript, applies the function to every image in the ImageCollection.\n",
    "```\n",
    "\n",
    "## Leafmap\n",
    "A related Python package worth exploring is [Leafmap](https://leafmap.org/), also developed by Quisheng Wu. Like Geemap the site has extensive documentation and tutorials. I highly recommend looking at one of the workshops that will guide you from installation to examples and many use cases.\n",
    "\n",
    "The tutorials and workshops are supported by notebooks and videos to thoroughly walk you through the use of this fantastic software package. Click on the links provided to run the code in binder or colab. If you wanted to run a workshop in VS Code:\n",
    "\n",
    "1. Click workshops in leafmap.org\n",
    "2. Select the workshop\n",
    "3. Select GitHub in the upper right, select examples then notebooks\n",
    "4. Click on the notebook you want (*.ipynb)\n",
    "5. Below history in the upper right of your browser, click on the download raw file button, save it, then click to open it in VS Code. \n",
    "6. Alternatively go straight to the workshop notebooks such as the [FOSS4G Workshop](https://github.com/opengeos/leafmap/blob/master/examples/workshops/FOSS4G_2021.ipynb).\n",
    "\n",
    "Make sure you have leafmap installed in your environment before running the code cells. See the Miniconda/Anaconda section of the FOSS4G workshop for a quick starter guide on how to do this.\n",
    "\n",
    "## Resources\n",
    "\n",
    "- [Geemap](https://geemap.org/) has a webpage, book, tutorials, API, and much more to support this excellent Python package.\n",
    "- [Leafmap](https://leafmap.org/) is a Python package for geospatial analysis in a Jupyter environment. It has superb documentation, tutorials, and ease of use.\n",
    "- [Open Geospatial Solutions](https://github.com/opengeos) host many open-source geospatial software projects and datasets.\n",
    "- [Spatial Thoughts](https:spatialthoughts.com) run by Ujaval Gandhi has a free course called [Python Foundation for Spatial Analysis](https://courses.spatialthoughts.com/python-foundation.html). The site has many other free and paid courses and tutorials for geospatial analysis.\n",
    "- [Geocomputation with Python](https://py.geocompx.org/) is an open source book inspired by the FOSS4G movement. "
   ]
  }
 ],
 "metadata": {
  "jupytext": {
   "cell_metadata_filter": "-all",
   "main_language": "python",
   "notebook_metadata_filter": "-all"
  }
 },
 "nbformat": 4,
 "nbformat_minor": 5
}
