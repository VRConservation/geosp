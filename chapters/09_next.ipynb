{
 "cells": [
  {
   "cell_type": "markdown",
   "id": "936c8155",
   "metadata": {},
   "source": [
    "# Next?\n",
    "\n",
    "## GDAL/PDAL\n",
    "I didn't cover the Geospatial Data Abstraction Librayr, or GDAL, in this version because I have only used it a couple of times, one of which completely broke my IDE set up and required deleting and reinstalling env's and other items (I probably would not make the same mistake again nor used the scorched earth fix). Here are some resources to convince you to use these powerful tools\n",
    "\n",
    "- Robert Simmon shared an excellent six-part series called [A Gentle Introduction to GDAL](https://medium.com/planet-stories/a-gentle-introduction-to-gdal-part-1-a3253eb96082). In Part 1 the author answers the question of Why GDAL with GIS systems are great for analyzing geospatial data. However most GIS software is expensive, difficult to learn, and won't run on his OS of choice. He goes on to say the good news is GDAL is an open source alternative that is free, broadly supported, constantly updated, and runs on almost any OS. But, it is difficult to learn, especially if you're terrified of command lines.\n",
    "- Joshua Stevens has a convincing deck on using the command line for cartographic workflows [here](https://speakerdeck.com/jscarto/commanding-cartography-take-control-of-faster-more-elegant-workflows-from-the-command-line?slide=39).\n",
    "- Open Source Options has a [GDAL Python Tutorial](https://www.youtube.com/watch?v=bK-eCFUFgkQ) on youtube that shows you how to use Python and GDAL to read, create, and display raster data.\n",
    "- [PDAL Tutorial](https://sites.google.com/thewatershedcenter.com/caflclanding/code-tutorials/pdal-tutorials?authuser=0) from the Watershed Research and Training Center. This help you install the Point Data Absraction Library, or PDAL, and run it from a container. It does not run you through a sample dataset.\n",
    "- [pdal.io](https://pdal.io/en/2.7-maintenance/) will help get you started with PADL.\n",
    "- Spatialised has a nice tutorial on [Lidar processing with PDAL, WMTS and geobash](https://www.spatialised.net/lidar-and-geobash/) and also a video from FOSS4G Bucharest on [Exploiting PDAL and Entwin in the Wild](https://media.ccc.de/v/bucharest-267-exploiting-pdal-entwine-in-the-wild#t=34).\n",
    "\n",
    "## Future of Geospatial"
   ]
  }
 ],
 "metadata": {
  "jupytext": {
   "cell_metadata_filter": "-all",
   "formats": "ipynb,md",
   "main_language": "python",
   "notebook_metadata_filter": "-all"
  },
  "kernelspec": {
   "display_name": "Python 3 (ipykernel)",
   "language": "python",
   "name": "python3"
  },
  "language_info": {
   "codemirror_mode": {
    "name": "ipython",
    "version": 3
   },
   "file_extension": ".py",
   "mimetype": "text/x-python",
   "name": "python",
   "nbconvert_exporter": "python",
   "pygments_lexer": "ipython3",
   "version": "3.11.8"
  }
 },
 "nbformat": 4,
 "nbformat_minor": 5
}
