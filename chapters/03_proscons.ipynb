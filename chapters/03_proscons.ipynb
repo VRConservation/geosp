{
 "cells": [
  {
   "cell_type": "markdown",
   "id": "9693383a",
   "metadata": {},
   "source": [
    "# Pros & Cons\n",
    "\n",
    "## Open source vs. paid\n",
    "Navigating the world of open source and subscription-based geospatial tools is challenging. It can also be costly when you pay for software, imagery, and technicians to conduct your analyses. Increasingly for-profit companies are monetizing software and imagery use that is proprietary to their products. Increased costs and limited access makes it difficult for nonprofits, communities, and individuals to access important geospatial data and decreases the democratization and use of this information in a world where it needs to be freely availalbe and acessible.\n",
    "\n",
    "## False dichotomy\n",
    "In truth, it's a false dichotomy to pit FOSS vs. paid geospatial tools. Your work flow may involve data analysis in GEE then import datasets into ArcGIS pro for further analysis and creating layouts, web apps or online maps. You may find that working with many government agencies requires use of Arc products because it's what their employees know and their agencies have license to use (*Cf. the [Modern Geospatial](https://mapscaping.com/podcast/modern-geospatial/) Mapscaping Podcast on using FOSS with different clients*).  See Chapter 1: FOSS for more discussion on this aspect of using multiple tools.\n",
    "\n",
    "## Table\n",
    "Table 1 is a non-exhaustive and very brief summary of the more commonly used geospatial sofware products available.\n",
    "\n",
    "Table 1. Pros and cons of select geospatial software providers.\n",
    "\n",
    "| SOFTWARE | PROS      | CONS            | PRICE |\n",
    "| :------- | :------   | :-------        | ----: |\n",
    "| ArcGIS Pro | Use, Support, Vis | Price, Credits, Notebooks | $100-6,000+/user/yr |\n",
    "| CARTO | Use, Vis, Data | Haven't used | High |\n",
    "| DuckDB | Use, Fast, Documentation | Best for large datasets | Free |\n",
    "| Earth Blox | Use, Data, Solutions | Price, Slow | Unclear: ~2,400/user/yr |\n",
    "| Felt | Use, Vis, QGIS integ | Price, Sharing, Long-term? | $360-1,080/user/yr |\n",
    "| GEE  | Cloud, Support, Colab | Javascript, Cost | Free to mucho |\n",
    "| Geemap | Use, Support, GEE/Colab integ | Setup in windows | Free |\n",
    "| Leafmap | Use, Feature rich, one line code solutions | CLI, IDE setup in Windows | Free |\n",
    "| Planet | Vis, Data | Haven't used | High |\n",
    "| Post-GIS | Use, Fast, QGIS integ, Industry Standard | UI | Free |\n",
    "| QGIS | Free, Community, Analysis | Vis, Crashing, Future? | Free |\n",
    "| R, RStudio | Use, Plugins, Academic standard | Slow at times, Vis | Free |\n",
    "\n",
    "## Discussion & Caveats\n",
    "Use means ease of use. For software I marked as slow, Earth Blox was sometimes slow when I tested it nearly one year ago, it may be much better now. RStudio can sometimes be slow but typically for much larger datasets. Vis = visualization is very good and feature rich. Support and documentation indicate good or bad support, typically the software documentation and tutorials are very good or the company or software provider is quick to respond to bugs or questions. \n",
    "\n",
    "I did not add software that I have not used (or in the case of GDAL, that I'm afraid of). I have limited knowledge and use of CARTO, Felt and Earth Blox, since I've only used them in free to test form. As a result, my pros and cons are limited for them.\n",
    "\n",
    "Pricing is difficult since several of these companies are opaque about their pricing, ask you to submit information for a quote, or want you to participate in a call to give you bespoke pricing quotes. I've tried to add information on pricing when I have an approximate or specific idea.\n",
    "\n",
    "One common thread with pros and cons and software use is that free is good. So is long-term viability of a provider. You don't want to put all your assets, analysis, and projects into a proprietary system to have the company later go belly up. Then your data and analysis is difficult to transfer. A common thread with several of the providers such as QGIS, Google Earth Engine (GEE) have very active communities so it is often easy to get help through forums for common bugs and errors."
   ]
  }
 ],
 "metadata": {
  "jupytext": {
   "cell_metadata_filter": "-all",
   "main_language": "python",
   "notebook_metadata_filter": "-all"
  }
 },
 "nbformat": 4,
 "nbformat_minor": 5
}
