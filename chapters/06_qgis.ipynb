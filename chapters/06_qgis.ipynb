{
 "cells": [
  {
   "cell_type": "markdown",
   "id": "e4f26a75",
   "metadata": {},
   "source": [
    "# QGIS\n",
    "\n",
    "## Takeaways\n",
    "\n",
    "## Tutorial\n",
    "\n",
    "## Resources"
   ]
  }
 ],
 "metadata": {
  "jupytext": {
   "cell_metadata_filter": "-all",
   "main_language": "python",
   "notebook_metadata_filter": "-all"
  }
 },
 "nbformat": 4,
 "nbformat_minor": 5
}
