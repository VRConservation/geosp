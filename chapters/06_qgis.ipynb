{
 "cells": [
  {
   "cell_type": "markdown",
   "id": "e4f26a75",
   "metadata": {},
   "source": [
    "# QGIS\n",
    "A powerful desktop GIS software infinitely customizable with plugins\n",
    "\n",
    "## Takeaways\n",
    "Coming soon!\n",
    "\n",
    "## Tutorial\n",
    "Coming soon!\n",
    "\n",
    "## Resources\n",
    "- **[QGIS Training Manual](https://docs.qgis.org/3.34/en/docs/training_manual/index.html)**. A comprehensive resource for all use cases of QGIS plus contributed chapters and tutorials. Always a great place to search to find specific answers to problems you face or find a how to.\n",
    "- **Spatial Thoughts**. Free or paid options available with comprehensive [Introduction to QGIS](https://courses.spatialthoughts.com/introduction-to-qgis.html), [Advanced QGIS](https://courses.spatialthoughts.com/advanced-qgis.html), or [Spatial Data Visualization with QGIS](https://courses.spatialthoughts.com/spatial-data-viz.html). The course materials and tutorials are free and have clear instructions and figures to follow each tutorial. \n",
    "- **[Map Academy](https://www.youtube.com/@automaticknowledge)**. Everything you need to know about QGIS, usually in short, digestible snippets. Also includes excellent videos on using Aerialod, a path tracing map visualizer using DEM and other data.\n",
    "- **[Hans Van der Kwast](https://www.youtube.com/@HansvanderKwast)**. Particularly good for QGIS hydrological applications, but also has Lidar, image analysis, and raster analysis."
   ]
  }
 ],
 "metadata": {
  "jupytext": {
   "cell_metadata_filter": "-all",
   "main_language": "python",
   "notebook_metadata_filter": "-all"
  }
 },
 "nbformat": 4,
 "nbformat_minor": 5
}
